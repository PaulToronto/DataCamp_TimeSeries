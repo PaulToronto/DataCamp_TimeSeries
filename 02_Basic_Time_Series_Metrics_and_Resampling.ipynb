{
  "cells": [
    {
      "cell_type": "markdown",
      "metadata": {
        "id": "view-in-github",
        "colab_type": "text"
      },
      "source": [
        "<a href=\"https://colab.research.google.com/github/PaulToronto/DataCamp_TimeSeries/blob/main/02_Basic_Time_Series_Metrics_and_Resampling.ipynb\" target=\"_parent\"><img src=\"https://colab.research.google.com/assets/colab-badge.svg\" alt=\"Open In Colab\"/></a>"
      ]
    },
    {
      "cell_type": "markdown",
      "id": "963c903a-0549-4b46-9926-5f7c3859b8cf",
      "metadata": {
        "id": "963c903a-0549-4b46-9926-5f7c3859b8cf"
      },
      "source": [
        "# 2 - Basic Time Series Metrics and Resampling\n",
        "\n",
        "This chapter dives deeper into the essential time series functionality made available through the pandas DataTimeIndex. It introduces resampling and how to compare different time series by normalizing their start points."
      ]
    },
    {
      "cell_type": "markdown",
      "source": [
        "## Imports and `data_path`"
      ],
      "metadata": {
        "id": "L0sZbpygP6L4"
      },
      "id": "L0sZbpygP6L4"
    },
    {
      "cell_type": "code",
      "execution_count": 1,
      "id": "3869133f-ff44-4452-829f-20419f202dfe",
      "metadata": {
        "id": "3869133f-ff44-4452-829f-20419f202dfe"
      },
      "outputs": [],
      "source": [
        "import pandas as pd\n",
        "\n",
        "import matplotlib.pyplot as plt"
      ]
    },
    {
      "cell_type": "code",
      "source": [
        "data_path = 'https://raw.githubusercontent.com/'\n",
        "data_path += 'PaulToronto/DataCamp_TimeSeries/main/'"
      ],
      "metadata": {
        "id": "Lcve8D1OP2aL"
      },
      "id": "Lcve8D1OP2aL",
      "execution_count": 2,
      "outputs": []
    },
    {
      "cell_type": "markdown",
      "id": "4abbb6e9-278a-4ba8-b20c-1f4b42dd1049",
      "metadata": {
        "id": "4abbb6e9-278a-4ba8-b20c-1f4b42dd1049"
      },
      "source": [
        "## Compare time series growth rates\n",
        "\n",
        "- Stock price series: hard to compare at different levels\n",
        "- Simple solution: normalize price series to start at 100\n",
        "- Divide all prices by first in series, multiply by 100\n",
        "  - Same starting point\n",
        "  - All prices relative to starting point\n",
        "  - Difference to starting point in percentage points"
      ]
    },
    {
      "cell_type": "markdown",
      "id": "431d22aa-86af-479d-a88e-6118bdba496e",
      "metadata": {
        "id": "431d22aa-86af-479d-a88e-6118bdba496e"
      },
      "source": [
        "### Normalizing a single series"
      ]
    },
    {
      "cell_type": "code",
      "execution_count": 3,
      "id": "e5904072-9dff-4643-b89c-2539cdb652c1",
      "metadata": {
        "id": "e5904072-9dff-4643-b89c-2539cdb652c1",
        "outputId": "b80bc60f-0da3-4b28-e904-a723cec5febf",
        "colab": {
          "base_uri": "https://localhost:8080/",
          "height": 238
        }
      },
      "outputs": [
        {
          "output_type": "execute_result",
          "data": {
            "text/plain": [
              "             price\n",
              "date              \n",
              "2010-01-04  313.06\n",
              "2010-01-05  311.68\n",
              "2010-01-06  303.83\n",
              "2010-01-07  296.75\n",
              "2010-01-08  300.71"
            ],
            "text/html": [
              "\n",
              "  <div id=\"df-4bb00827-e372-4ca8-8ec6-4a1c091dfa75\" class=\"colab-df-container\">\n",
              "    <div>\n",
              "<style scoped>\n",
              "    .dataframe tbody tr th:only-of-type {\n",
              "        vertical-align: middle;\n",
              "    }\n",
              "\n",
              "    .dataframe tbody tr th {\n",
              "        vertical-align: top;\n",
              "    }\n",
              "\n",
              "    .dataframe thead th {\n",
              "        text-align: right;\n",
              "    }\n",
              "</style>\n",
              "<table border=\"1\" class=\"dataframe\">\n",
              "  <thead>\n",
              "    <tr style=\"text-align: right;\">\n",
              "      <th></th>\n",
              "      <th>price</th>\n",
              "    </tr>\n",
              "    <tr>\n",
              "      <th>date</th>\n",
              "      <th></th>\n",
              "    </tr>\n",
              "  </thead>\n",
              "  <tbody>\n",
              "    <tr>\n",
              "      <th>2010-01-04</th>\n",
              "      <td>313.06</td>\n",
              "    </tr>\n",
              "    <tr>\n",
              "      <th>2010-01-05</th>\n",
              "      <td>311.68</td>\n",
              "    </tr>\n",
              "    <tr>\n",
              "      <th>2010-01-06</th>\n",
              "      <td>303.83</td>\n",
              "    </tr>\n",
              "    <tr>\n",
              "      <th>2010-01-07</th>\n",
              "      <td>296.75</td>\n",
              "    </tr>\n",
              "    <tr>\n",
              "      <th>2010-01-08</th>\n",
              "      <td>300.71</td>\n",
              "    </tr>\n",
              "  </tbody>\n",
              "</table>\n",
              "</div>\n",
              "    <div class=\"colab-df-buttons\">\n",
              "\n",
              "  <div class=\"colab-df-container\">\n",
              "    <button class=\"colab-df-convert\" onclick=\"convertToInteractive('df-4bb00827-e372-4ca8-8ec6-4a1c091dfa75')\"\n",
              "            title=\"Convert this dataframe to an interactive table.\"\n",
              "            style=\"display:none;\">\n",
              "\n",
              "  <svg xmlns=\"http://www.w3.org/2000/svg\" height=\"24px\" viewBox=\"0 -960 960 960\">\n",
              "    <path d=\"M120-120v-720h720v720H120Zm60-500h600v-160H180v160Zm220 220h160v-160H400v160Zm0 220h160v-160H400v160ZM180-400h160v-160H180v160Zm440 0h160v-160H620v160ZM180-180h160v-160H180v160Zm440 0h160v-160H620v160Z\"/>\n",
              "  </svg>\n",
              "    </button>\n",
              "\n",
              "  <style>\n",
              "    .colab-df-container {\n",
              "      display:flex;\n",
              "      gap: 12px;\n",
              "    }\n",
              "\n",
              "    .colab-df-convert {\n",
              "      background-color: #E8F0FE;\n",
              "      border: none;\n",
              "      border-radius: 50%;\n",
              "      cursor: pointer;\n",
              "      display: none;\n",
              "      fill: #1967D2;\n",
              "      height: 32px;\n",
              "      padding: 0 0 0 0;\n",
              "      width: 32px;\n",
              "    }\n",
              "\n",
              "    .colab-df-convert:hover {\n",
              "      background-color: #E2EBFA;\n",
              "      box-shadow: 0px 1px 2px rgba(60, 64, 67, 0.3), 0px 1px 3px 1px rgba(60, 64, 67, 0.15);\n",
              "      fill: #174EA6;\n",
              "    }\n",
              "\n",
              "    .colab-df-buttons div {\n",
              "      margin-bottom: 4px;\n",
              "    }\n",
              "\n",
              "    [theme=dark] .colab-df-convert {\n",
              "      background-color: #3B4455;\n",
              "      fill: #D2E3FC;\n",
              "    }\n",
              "\n",
              "    [theme=dark] .colab-df-convert:hover {\n",
              "      background-color: #434B5C;\n",
              "      box-shadow: 0px 1px 3px 1px rgba(0, 0, 0, 0.15);\n",
              "      filter: drop-shadow(0px 1px 2px rgba(0, 0, 0, 0.3));\n",
              "      fill: #FFFFFF;\n",
              "    }\n",
              "  </style>\n",
              "\n",
              "    <script>\n",
              "      const buttonEl =\n",
              "        document.querySelector('#df-4bb00827-e372-4ca8-8ec6-4a1c091dfa75 button.colab-df-convert');\n",
              "      buttonEl.style.display =\n",
              "        google.colab.kernel.accessAllowed ? 'block' : 'none';\n",
              "\n",
              "      async function convertToInteractive(key) {\n",
              "        const element = document.querySelector('#df-4bb00827-e372-4ca8-8ec6-4a1c091dfa75');\n",
              "        const dataTable =\n",
              "          await google.colab.kernel.invokeFunction('convertToInteractive',\n",
              "                                                    [key], {});\n",
              "        if (!dataTable) return;\n",
              "\n",
              "        const docLinkHtml = 'Like what you see? Visit the ' +\n",
              "          '<a target=\"_blank\" href=https://colab.research.google.com/notebooks/data_table.ipynb>data table notebook</a>'\n",
              "          + ' to learn more about interactive tables.';\n",
              "        element.innerHTML = '';\n",
              "        dataTable['output_type'] = 'display_data';\n",
              "        await google.colab.output.renderOutput(dataTable, element);\n",
              "        const docLink = document.createElement('div');\n",
              "        docLink.innerHTML = docLinkHtml;\n",
              "        element.appendChild(docLink);\n",
              "      }\n",
              "    </script>\n",
              "  </div>\n",
              "\n",
              "\n",
              "<div id=\"df-67ae86f7-e8a2-476a-a925-f70b2d972de5\">\n",
              "  <button class=\"colab-df-quickchart\" onclick=\"quickchart('df-67ae86f7-e8a2-476a-a925-f70b2d972de5')\"\n",
              "            title=\"Suggest charts\"\n",
              "            style=\"display:none;\">\n",
              "\n",
              "<svg xmlns=\"http://www.w3.org/2000/svg\" height=\"24px\"viewBox=\"0 0 24 24\"\n",
              "     width=\"24px\">\n",
              "    <g>\n",
              "        <path d=\"M19 3H5c-1.1 0-2 .9-2 2v14c0 1.1.9 2 2 2h14c1.1 0 2-.9 2-2V5c0-1.1-.9-2-2-2zM9 17H7v-7h2v7zm4 0h-2V7h2v10zm4 0h-2v-4h2v4z\"/>\n",
              "    </g>\n",
              "</svg>\n",
              "  </button>\n",
              "\n",
              "<style>\n",
              "  .colab-df-quickchart {\n",
              "      --bg-color: #E8F0FE;\n",
              "      --fill-color: #1967D2;\n",
              "      --hover-bg-color: #E2EBFA;\n",
              "      --hover-fill-color: #174EA6;\n",
              "      --disabled-fill-color: #AAA;\n",
              "      --disabled-bg-color: #DDD;\n",
              "  }\n",
              "\n",
              "  [theme=dark] .colab-df-quickchart {\n",
              "      --bg-color: #3B4455;\n",
              "      --fill-color: #D2E3FC;\n",
              "      --hover-bg-color: #434B5C;\n",
              "      --hover-fill-color: #FFFFFF;\n",
              "      --disabled-bg-color: #3B4455;\n",
              "      --disabled-fill-color: #666;\n",
              "  }\n",
              "\n",
              "  .colab-df-quickchart {\n",
              "    background-color: var(--bg-color);\n",
              "    border: none;\n",
              "    border-radius: 50%;\n",
              "    cursor: pointer;\n",
              "    display: none;\n",
              "    fill: var(--fill-color);\n",
              "    height: 32px;\n",
              "    padding: 0;\n",
              "    width: 32px;\n",
              "  }\n",
              "\n",
              "  .colab-df-quickchart:hover {\n",
              "    background-color: var(--hover-bg-color);\n",
              "    box-shadow: 0 1px 2px rgba(60, 64, 67, 0.3), 0 1px 3px 1px rgba(60, 64, 67, 0.15);\n",
              "    fill: var(--button-hover-fill-color);\n",
              "  }\n",
              "\n",
              "  .colab-df-quickchart-complete:disabled,\n",
              "  .colab-df-quickchart-complete:disabled:hover {\n",
              "    background-color: var(--disabled-bg-color);\n",
              "    fill: var(--disabled-fill-color);\n",
              "    box-shadow: none;\n",
              "  }\n",
              "\n",
              "  .colab-df-spinner {\n",
              "    border: 2px solid var(--fill-color);\n",
              "    border-color: transparent;\n",
              "    border-bottom-color: var(--fill-color);\n",
              "    animation:\n",
              "      spin 1s steps(1) infinite;\n",
              "  }\n",
              "\n",
              "  @keyframes spin {\n",
              "    0% {\n",
              "      border-color: transparent;\n",
              "      border-bottom-color: var(--fill-color);\n",
              "      border-left-color: var(--fill-color);\n",
              "    }\n",
              "    20% {\n",
              "      border-color: transparent;\n",
              "      border-left-color: var(--fill-color);\n",
              "      border-top-color: var(--fill-color);\n",
              "    }\n",
              "    30% {\n",
              "      border-color: transparent;\n",
              "      border-left-color: var(--fill-color);\n",
              "      border-top-color: var(--fill-color);\n",
              "      border-right-color: var(--fill-color);\n",
              "    }\n",
              "    40% {\n",
              "      border-color: transparent;\n",
              "      border-right-color: var(--fill-color);\n",
              "      border-top-color: var(--fill-color);\n",
              "    }\n",
              "    60% {\n",
              "      border-color: transparent;\n",
              "      border-right-color: var(--fill-color);\n",
              "    }\n",
              "    80% {\n",
              "      border-color: transparent;\n",
              "      border-right-color: var(--fill-color);\n",
              "      border-bottom-color: var(--fill-color);\n",
              "    }\n",
              "    90% {\n",
              "      border-color: transparent;\n",
              "      border-bottom-color: var(--fill-color);\n",
              "    }\n",
              "  }\n",
              "</style>\n",
              "\n",
              "  <script>\n",
              "    async function quickchart(key) {\n",
              "      const quickchartButtonEl =\n",
              "        document.querySelector('#' + key + ' button');\n",
              "      quickchartButtonEl.disabled = true;  // To prevent multiple clicks.\n",
              "      quickchartButtonEl.classList.add('colab-df-spinner');\n",
              "      try {\n",
              "        const charts = await google.colab.kernel.invokeFunction(\n",
              "            'suggestCharts', [key], {});\n",
              "      } catch (error) {\n",
              "        console.error('Error during call to suggestCharts:', error);\n",
              "      }\n",
              "      quickchartButtonEl.classList.remove('colab-df-spinner');\n",
              "      quickchartButtonEl.classList.add('colab-df-quickchart-complete');\n",
              "    }\n",
              "    (() => {\n",
              "      let quickchartButtonEl =\n",
              "        document.querySelector('#df-67ae86f7-e8a2-476a-a925-f70b2d972de5 button');\n",
              "      quickchartButtonEl.style.display =\n",
              "        google.colab.kernel.accessAllowed ? 'block' : 'none';\n",
              "    })();\n",
              "  </script>\n",
              "</div>\n",
              "\n",
              "    </div>\n",
              "  </div>\n"
            ],
            "application/vnd.google.colaboratory.intrinsic+json": {
              "type": "dataframe",
              "variable_name": "google",
              "summary": "{\n  \"name\": \"google\",\n  \"rows\": 1864,\n  \"fields\": [\n    {\n      \"column\": \"date\",\n      \"properties\": {\n        \"dtype\": \"date\",\n        \"min\": \"2010-01-04 00:00:00\",\n        \"max\": \"2017-05-31 00:00:00\",\n        \"num_unique_values\": 1864,\n        \"samples\": [\n          \"2010-12-07 00:00:00\",\n          \"2012-02-10 00:00:00\",\n          \"2014-11-10 00:00:00\"\n        ],\n        \"semantic_type\": \"\",\n        \"description\": \"\"\n      }\n    },\n    {\n      \"column\": \"price\",\n      \"properties\": {\n        \"dtype\": \"number\",\n        \"std\": 191.29748816315654,\n        \"min\": 217.82,\n        \"max\": 975.88,\n        \"num_unique_values\": 1824,\n        \"samples\": [\n          313.12,\n          798.53,\n          280.4\n        ],\n        \"semantic_type\": \"\",\n        \"description\": \"\"\n      }\n    }\n  ]\n}"
            }
          },
          "metadata": {},
          "execution_count": 3
        }
      ],
      "source": [
        "google = pd.read_csv(data_path + 'stock_data/apple_google.csv',\n",
        "                     parse_dates=['Date'],\n",
        "                     index_col='Date')\n",
        "google = google[['GOOG']]\n",
        "google.columns = ['price']\n",
        "google.index.name = 'date'\n",
        "google.head()"
      ]
    },
    {
      "cell_type": "code",
      "execution_count": 4,
      "id": "8fceb823-5ba3-4022-9122-e3b188dee90c",
      "metadata": {
        "id": "8fceb823-5ba3-4022-9122-e3b188dee90c",
        "outputId": "0068acd2-f440-4612-e1d9-fa6cf1707807",
        "colab": {
          "base_uri": "https://localhost:8080/"
        }
      },
      "outputs": [
        {
          "output_type": "execute_result",
          "data": {
            "text/plain": [
              "313.06"
            ]
          },
          "metadata": {},
          "execution_count": 4
        }
      ],
      "source": [
        "first_price = google['price'].iloc[0]\n",
        "first_price"
      ]
    },
    {
      "cell_type": "code",
      "execution_count": 5,
      "id": "a6b9f8a6-c011-47f6-9397-b6a943bed32c",
      "metadata": {
        "id": "a6b9f8a6-c011-47f6-9397-b6a943bed32c",
        "outputId": "06df516d-3f60-44f7-e398-f46fddd8385f",
        "colab": {
          "base_uri": "https://localhost:8080/"
        }
      },
      "outputs": [
        {
          "output_type": "execute_result",
          "data": {
            "text/plain": [
              "313.06"
            ]
          },
          "metadata": {},
          "execution_count": 5
        }
      ],
      "source": [
        "# also works\n",
        "google.loc['2010-01-04', 'price']"
      ]
    },
    {
      "cell_type": "code",
      "execution_count": 6,
      "id": "5fbb04cd-3c24-4142-8e9a-feafd25c8650",
      "metadata": {
        "id": "5fbb04cd-3c24-4142-8e9a-feafd25c8650",
        "outputId": "5281015f-9453-4987-be53-dbfe65f1f792",
        "colab": {
          "base_uri": "https://localhost:8080/"
        }
      },
      "outputs": [
        {
          "output_type": "execute_result",
          "data": {
            "text/plain": [
              "date\n",
              "2010-01-04    100.000000\n",
              "2010-01-05     99.559190\n",
              "2010-01-06     97.051683\n",
              "2010-01-07     94.790136\n",
              "2010-01-08     96.055069\n",
              "Name: price, dtype: float64"
            ]
          },
          "metadata": {},
          "execution_count": 6
        }
      ],
      "source": [
        "normalized = google['price'].div(first_price).mul(100)\n",
        "normalized.head()"
      ]
    },
    {
      "cell_type": "code",
      "execution_count": 7,
      "id": "68585cde-8ea0-420a-bbc3-8498b97bee85",
      "metadata": {
        "id": "68585cde-8ea0-420a-bbc3-8498b97bee85",
        "outputId": "8dcdcb2f-7a47-4b0a-8477-8b8932b3699e",
        "colab": {
          "base_uri": "https://localhost:8080/",
          "height": 238
        }
      },
      "outputs": [
        {
          "output_type": "execute_result",
          "data": {
            "text/plain": [
              "             price  normalized\n",
              "date                          \n",
              "2010-01-04  313.06  100.000000\n",
              "2010-01-05  311.68   99.559190\n",
              "2010-01-06  303.83   97.051683\n",
              "2010-01-07  296.75   94.790136\n",
              "2010-01-08  300.71   96.055069"
            ],
            "text/html": [
              "\n",
              "  <div id=\"df-07d3084a-ed8e-4484-accd-ba842424046d\" class=\"colab-df-container\">\n",
              "    <div>\n",
              "<style scoped>\n",
              "    .dataframe tbody tr th:only-of-type {\n",
              "        vertical-align: middle;\n",
              "    }\n",
              "\n",
              "    .dataframe tbody tr th {\n",
              "        vertical-align: top;\n",
              "    }\n",
              "\n",
              "    .dataframe thead th {\n",
              "        text-align: right;\n",
              "    }\n",
              "</style>\n",
              "<table border=\"1\" class=\"dataframe\">\n",
              "  <thead>\n",
              "    <tr style=\"text-align: right;\">\n",
              "      <th></th>\n",
              "      <th>price</th>\n",
              "      <th>normalized</th>\n",
              "    </tr>\n",
              "    <tr>\n",
              "      <th>date</th>\n",
              "      <th></th>\n",
              "      <th></th>\n",
              "    </tr>\n",
              "  </thead>\n",
              "  <tbody>\n",
              "    <tr>\n",
              "      <th>2010-01-04</th>\n",
              "      <td>313.06</td>\n",
              "      <td>100.000000</td>\n",
              "    </tr>\n",
              "    <tr>\n",
              "      <th>2010-01-05</th>\n",
              "      <td>311.68</td>\n",
              "      <td>99.559190</td>\n",
              "    </tr>\n",
              "    <tr>\n",
              "      <th>2010-01-06</th>\n",
              "      <td>303.83</td>\n",
              "      <td>97.051683</td>\n",
              "    </tr>\n",
              "    <tr>\n",
              "      <th>2010-01-07</th>\n",
              "      <td>296.75</td>\n",
              "      <td>94.790136</td>\n",
              "    </tr>\n",
              "    <tr>\n",
              "      <th>2010-01-08</th>\n",
              "      <td>300.71</td>\n",
              "      <td>96.055069</td>\n",
              "    </tr>\n",
              "  </tbody>\n",
              "</table>\n",
              "</div>\n",
              "    <div class=\"colab-df-buttons\">\n",
              "\n",
              "  <div class=\"colab-df-container\">\n",
              "    <button class=\"colab-df-convert\" onclick=\"convertToInteractive('df-07d3084a-ed8e-4484-accd-ba842424046d')\"\n",
              "            title=\"Convert this dataframe to an interactive table.\"\n",
              "            style=\"display:none;\">\n",
              "\n",
              "  <svg xmlns=\"http://www.w3.org/2000/svg\" height=\"24px\" viewBox=\"0 -960 960 960\">\n",
              "    <path d=\"M120-120v-720h720v720H120Zm60-500h600v-160H180v160Zm220 220h160v-160H400v160Zm0 220h160v-160H400v160ZM180-400h160v-160H180v160Zm440 0h160v-160H620v160ZM180-180h160v-160H180v160Zm440 0h160v-160H620v160Z\"/>\n",
              "  </svg>\n",
              "    </button>\n",
              "\n",
              "  <style>\n",
              "    .colab-df-container {\n",
              "      display:flex;\n",
              "      gap: 12px;\n",
              "    }\n",
              "\n",
              "    .colab-df-convert {\n",
              "      background-color: #E8F0FE;\n",
              "      border: none;\n",
              "      border-radius: 50%;\n",
              "      cursor: pointer;\n",
              "      display: none;\n",
              "      fill: #1967D2;\n",
              "      height: 32px;\n",
              "      padding: 0 0 0 0;\n",
              "      width: 32px;\n",
              "    }\n",
              "\n",
              "    .colab-df-convert:hover {\n",
              "      background-color: #E2EBFA;\n",
              "      box-shadow: 0px 1px 2px rgba(60, 64, 67, 0.3), 0px 1px 3px 1px rgba(60, 64, 67, 0.15);\n",
              "      fill: #174EA6;\n",
              "    }\n",
              "\n",
              "    .colab-df-buttons div {\n",
              "      margin-bottom: 4px;\n",
              "    }\n",
              "\n",
              "    [theme=dark] .colab-df-convert {\n",
              "      background-color: #3B4455;\n",
              "      fill: #D2E3FC;\n",
              "    }\n",
              "\n",
              "    [theme=dark] .colab-df-convert:hover {\n",
              "      background-color: #434B5C;\n",
              "      box-shadow: 0px 1px 3px 1px rgba(0, 0, 0, 0.15);\n",
              "      filter: drop-shadow(0px 1px 2px rgba(0, 0, 0, 0.3));\n",
              "      fill: #FFFFFF;\n",
              "    }\n",
              "  </style>\n",
              "\n",
              "    <script>\n",
              "      const buttonEl =\n",
              "        document.querySelector('#df-07d3084a-ed8e-4484-accd-ba842424046d button.colab-df-convert');\n",
              "      buttonEl.style.display =\n",
              "        google.colab.kernel.accessAllowed ? 'block' : 'none';\n",
              "\n",
              "      async function convertToInteractive(key) {\n",
              "        const element = document.querySelector('#df-07d3084a-ed8e-4484-accd-ba842424046d');\n",
              "        const dataTable =\n",
              "          await google.colab.kernel.invokeFunction('convertToInteractive',\n",
              "                                                    [key], {});\n",
              "        if (!dataTable) return;\n",
              "\n",
              "        const docLinkHtml = 'Like what you see? Visit the ' +\n",
              "          '<a target=\"_blank\" href=https://colab.research.google.com/notebooks/data_table.ipynb>data table notebook</a>'\n",
              "          + ' to learn more about interactive tables.';\n",
              "        element.innerHTML = '';\n",
              "        dataTable['output_type'] = 'display_data';\n",
              "        await google.colab.output.renderOutput(dataTable, element);\n",
              "        const docLink = document.createElement('div');\n",
              "        docLink.innerHTML = docLinkHtml;\n",
              "        element.appendChild(docLink);\n",
              "      }\n",
              "    </script>\n",
              "  </div>\n",
              "\n",
              "\n",
              "<div id=\"df-8ad4f694-d412-49cc-8ac7-e2259ee920ad\">\n",
              "  <button class=\"colab-df-quickchart\" onclick=\"quickchart('df-8ad4f694-d412-49cc-8ac7-e2259ee920ad')\"\n",
              "            title=\"Suggest charts\"\n",
              "            style=\"display:none;\">\n",
              "\n",
              "<svg xmlns=\"http://www.w3.org/2000/svg\" height=\"24px\"viewBox=\"0 0 24 24\"\n",
              "     width=\"24px\">\n",
              "    <g>\n",
              "        <path d=\"M19 3H5c-1.1 0-2 .9-2 2v14c0 1.1.9 2 2 2h14c1.1 0 2-.9 2-2V5c0-1.1-.9-2-2-2zM9 17H7v-7h2v7zm4 0h-2V7h2v10zm4 0h-2v-4h2v4z\"/>\n",
              "    </g>\n",
              "</svg>\n",
              "  </button>\n",
              "\n",
              "<style>\n",
              "  .colab-df-quickchart {\n",
              "      --bg-color: #E8F0FE;\n",
              "      --fill-color: #1967D2;\n",
              "      --hover-bg-color: #E2EBFA;\n",
              "      --hover-fill-color: #174EA6;\n",
              "      --disabled-fill-color: #AAA;\n",
              "      --disabled-bg-color: #DDD;\n",
              "  }\n",
              "\n",
              "  [theme=dark] .colab-df-quickchart {\n",
              "      --bg-color: #3B4455;\n",
              "      --fill-color: #D2E3FC;\n",
              "      --hover-bg-color: #434B5C;\n",
              "      --hover-fill-color: #FFFFFF;\n",
              "      --disabled-bg-color: #3B4455;\n",
              "      --disabled-fill-color: #666;\n",
              "  }\n",
              "\n",
              "  .colab-df-quickchart {\n",
              "    background-color: var(--bg-color);\n",
              "    border: none;\n",
              "    border-radius: 50%;\n",
              "    cursor: pointer;\n",
              "    display: none;\n",
              "    fill: var(--fill-color);\n",
              "    height: 32px;\n",
              "    padding: 0;\n",
              "    width: 32px;\n",
              "  }\n",
              "\n",
              "  .colab-df-quickchart:hover {\n",
              "    background-color: var(--hover-bg-color);\n",
              "    box-shadow: 0 1px 2px rgba(60, 64, 67, 0.3), 0 1px 3px 1px rgba(60, 64, 67, 0.15);\n",
              "    fill: var(--button-hover-fill-color);\n",
              "  }\n",
              "\n",
              "  .colab-df-quickchart-complete:disabled,\n",
              "  .colab-df-quickchart-complete:disabled:hover {\n",
              "    background-color: var(--disabled-bg-color);\n",
              "    fill: var(--disabled-fill-color);\n",
              "    box-shadow: none;\n",
              "  }\n",
              "\n",
              "  .colab-df-spinner {\n",
              "    border: 2px solid var(--fill-color);\n",
              "    border-color: transparent;\n",
              "    border-bottom-color: var(--fill-color);\n",
              "    animation:\n",
              "      spin 1s steps(1) infinite;\n",
              "  }\n",
              "\n",
              "  @keyframes spin {\n",
              "    0% {\n",
              "      border-color: transparent;\n",
              "      border-bottom-color: var(--fill-color);\n",
              "      border-left-color: var(--fill-color);\n",
              "    }\n",
              "    20% {\n",
              "      border-color: transparent;\n",
              "      border-left-color: var(--fill-color);\n",
              "      border-top-color: var(--fill-color);\n",
              "    }\n",
              "    30% {\n",
              "      border-color: transparent;\n",
              "      border-left-color: var(--fill-color);\n",
              "      border-top-color: var(--fill-color);\n",
              "      border-right-color: var(--fill-color);\n",
              "    }\n",
              "    40% {\n",
              "      border-color: transparent;\n",
              "      border-right-color: var(--fill-color);\n",
              "      border-top-color: var(--fill-color);\n",
              "    }\n",
              "    60% {\n",
              "      border-color: transparent;\n",
              "      border-right-color: var(--fill-color);\n",
              "    }\n",
              "    80% {\n",
              "      border-color: transparent;\n",
              "      border-right-color: var(--fill-color);\n",
              "      border-bottom-color: var(--fill-color);\n",
              "    }\n",
              "    90% {\n",
              "      border-color: transparent;\n",
              "      border-bottom-color: var(--fill-color);\n",
              "    }\n",
              "  }\n",
              "</style>\n",
              "\n",
              "  <script>\n",
              "    async function quickchart(key) {\n",
              "      const quickchartButtonEl =\n",
              "        document.querySelector('#' + key + ' button');\n",
              "      quickchartButtonEl.disabled = true;  // To prevent multiple clicks.\n",
              "      quickchartButtonEl.classList.add('colab-df-spinner');\n",
              "      try {\n",
              "        const charts = await google.colab.kernel.invokeFunction(\n",
              "            'suggestCharts', [key], {});\n",
              "      } catch (error) {\n",
              "        console.error('Error during call to suggestCharts:', error);\n",
              "      }\n",
              "      quickchartButtonEl.classList.remove('colab-df-spinner');\n",
              "      quickchartButtonEl.classList.add('colab-df-quickchart-complete');\n",
              "    }\n",
              "    (() => {\n",
              "      let quickchartButtonEl =\n",
              "        document.querySelector('#df-8ad4f694-d412-49cc-8ac7-e2259ee920ad button');\n",
              "      quickchartButtonEl.style.display =\n",
              "        google.colab.kernel.accessAllowed ? 'block' : 'none';\n",
              "    })();\n",
              "  </script>\n",
              "</div>\n",
              "\n",
              "    </div>\n",
              "  </div>\n"
            ],
            "application/vnd.google.colaboratory.intrinsic+json": {
              "type": "dataframe",
              "summary": "{\n  \"name\": \"              'normalized': normalized})\",\n  \"rows\": 5,\n  \"fields\": [\n    {\n      \"column\": \"date\",\n      \"properties\": {\n        \"dtype\": \"date\",\n        \"min\": \"2010-01-04 00:00:00\",\n        \"max\": \"2010-01-08 00:00:00\",\n        \"num_unique_values\": 5,\n        \"samples\": [\n          \"2010-01-05 00:00:00\",\n          \"2010-01-08 00:00:00\",\n          \"2010-01-06 00:00:00\"\n        ],\n        \"semantic_type\": \"\",\n        \"description\": \"\"\n      }\n    },\n    {\n      \"column\": \"price\",\n      \"properties\": {\n        \"dtype\": \"number\",\n        \"std\": 7.0215617920801705,\n        \"min\": 296.75,\n        \"max\": 313.06,\n        \"num_unique_values\": 5,\n        \"samples\": [\n          311.68,\n          300.71,\n          303.83\n        ],\n        \"semantic_type\": \"\",\n        \"description\": \"\"\n      }\n    },\n    {\n      \"column\": \"normalized\",\n      \"properties\": {\n        \"dtype\": \"number\",\n        \"std\": 2.2428805315531135,\n        \"min\": 94.79013607615153,\n        \"max\": 100.0,\n        \"num_unique_values\": 5,\n        \"samples\": [\n          99.55918993164249,\n          96.0550693157861,\n          97.05168338337698\n        ],\n        \"semantic_type\": \"\",\n        \"description\": \"\"\n      }\n    }\n  ]\n}"
            }
          },
          "metadata": {},
          "execution_count": 7
        }
      ],
      "source": [
        "pd.DataFrame({'price': google['price'],\n",
        "              'normalized': normalized}).head()"
      ]
    },
    {
      "cell_type": "code",
      "execution_count": 8,
      "id": "759b598f-5aa4-43eb-a737-4fcf3562a2b6",
      "metadata": {
        "id": "759b598f-5aa4-43eb-a737-4fcf3562a2b6",
        "outputId": "33195f20-69a5-46a7-bcc8-80e136465379",
        "colab": {
          "base_uri": "https://localhost:8080/",
          "height": 444
        }
      },
      "outputs": [
        {
          "output_type": "display_data",
          "data": {
            "text/plain": [
              "<Figure size 640x480 with 1 Axes>"
            ],
            "image/png": "[encoded data removed]"
          },
          "metadata": {}
        }
      ],
      "source": [
        "normalized.plot(title='Google Normalized Series', color='red')\n",
        "plt.grid()\n",
        "plt.show()"
      ]
    },
    {
      "cell_type": "markdown",
      "id": "ee92cefe-7e35-4ba2-a55f-f27b5ca4bcd9",
      "metadata": {
        "id": "ee92cefe-7e35-4ba2-a55f-f27b5ca4bcd9"
      },
      "source": [
        "### Normalizing multiple series"
      ]
    },
    {
      "cell_type": "code",
      "execution_count": 9,
      "id": "e7153466-5a87-4c9e-995a-2ee50a4d0058",
      "metadata": {
        "id": "e7153466-5a87-4c9e-995a-2ee50a4d0058",
        "outputId": "b7ff05c4-ed7d-4d6d-fec4-0e4a6785f63e",
        "colab": {
          "base_uri": "https://localhost:8080/"
        }
      },
      "outputs": [
        {
          "output_type": "stream",
          "name": "stdout",
          "text": [
            "<class 'pandas.core.frame.DataFrame'>\n",
            "DatetimeIndex: 1761 entries, 2010-01-04 to 2016-12-30\n",
            "Data columns (total 3 columns):\n",
            " #   Column  Non-Null Count  Dtype  \n",
            "---  ------  --------------  -----  \n",
            " 0   AAPL    1761 non-null   float64\n",
            " 1   AMZN    1761 non-null   float64\n",
            " 2   RIO     1761 non-null   float64\n",
            "dtypes: float64(3)\n",
            "memory usage: 55.0 KB\n"
          ]
        }
      ],
      "source": [
        "prices = pd.read_csv(data_path + 'stock_data/stock_data.csv', parse_dates=['Date'], index_col='Date')\n",
        "prices =prices[['AAPL', 'AMZN', 'RIO']]\n",
        "prices.index.name = 'date'\n",
        "prices = prices[prices.notnull().all(axis=1)]\n",
        "prices.info()"
      ]
    },
    {
      "cell_type": "code",
      "source": [
        "prices.head(3)"
      ],
      "metadata": {
        "colab": {
          "base_uri": "https://localhost:8080/",
          "height": 175
        },
        "id": "AMnlB640W_0y",
        "outputId": "13feaa25-7b2a-4bb8-a113-06c2e2c267d2"
      },
      "id": "AMnlB640W_0y",
      "execution_count": 10,
      "outputs": [
        {
          "output_type": "execute_result",
          "data": {
            "text/plain": [
              "             AAPL    AMZN    RIO\n",
              "date                            \n",
              "2010-01-04  30.57  133.90  56.03\n",
              "2010-01-05  30.63  134.69  56.90\n",
              "2010-01-06  30.14  132.25  58.64"
            ],
            "text/html": [
              "\n",
              "  <div id=\"df-49b6a950-d9e3-4187-93f4-6e5f537d2be5\" class=\"colab-df-container\">\n",
              "    <div>\n",
              "<style scoped>\n",
              "    .dataframe tbody tr th:only-of-type {\n",
              "        vertical-align: middle;\n",
              "    }\n",
              "\n",
              "    .dataframe tbody tr th {\n",
              "        vertical-align: top;\n",
              "    }\n",
              "\n",
              "    .dataframe thead th {\n",
              "        text-align: right;\n",
              "    }\n",
              "</style>\n",
              "<table border=\"1\" class=\"dataframe\">\n",
              "  <thead>\n",
              "    <tr style=\"text-align: right;\">\n",
              "      <th></th>\n",
              "      <th>AAPL</th>\n",
              "      <th>AMZN</th>\n",
              "      <th>RIO</th>\n",
              "    </tr>\n",
              "    <tr>\n",
              "      <th>date</th>\n",
              "      <th></th>\n",
              "      <th></th>\n",
              "      <th></th>\n",
              "    </tr>\n",
              "  </thead>\n",
              "  <tbody>\n",
              "    <tr>\n",
              "      <th>2010-01-04</th>\n",
              "      <td>30.57</td>\n",
              "      <td>133.90</td>\n",
              "      <td>56.03</td>\n",
              "    </tr>\n",
              "    <tr>\n",
              "      <th>2010-01-05</th>\n",
              "      <td>30.63</td>\n",
              "      <td>134.69</td>\n",
              "      <td>56.90</td>\n",
              "    </tr>\n",
              "    <tr>\n",
              "      <th>2010-01-06</th>\n",
              "      <td>30.14</td>\n",
              "      <td>132.25</td>\n",
              "      <td>58.64</td>\n",
              "    </tr>\n",
              "  </tbody>\n",
              "</table>\n",
              "</div>\n",
              "    <div class=\"colab-df-buttons\">\n",
              "\n",
              "  <div class=\"colab-df-container\">\n",
              "    <button class=\"colab-df-convert\" onclick=\"convertToInteractive('df-49b6a950-d9e3-4187-93f4-6e5f537d2be5')\"\n",
              "            title=\"Convert this dataframe to an interactive table.\"\n",
              "            style=\"display:none;\">\n",
              "\n",
              "  <svg xmlns=\"http://www.w3.org/2000/svg\" height=\"24px\" viewBox=\"0 -960 960 960\">\n",
              "    <path d=\"M120-120v-720h720v720H120Zm60-500h600v-160H180v160Zm220 220h160v-160H400v160Zm0 220h160v-160H400v160ZM180-400h160v-160H180v160Zm440 0h160v-160H620v160ZM180-180h160v-160H180v160Zm440 0h160v-160H620v160Z\"/>\n",
              "  </svg>\n",
              "    </button>\n",
              "\n",
              "  <style>\n",
              "    .colab-df-container {\n",
              "      display:flex;\n",
              "      gap: 12px;\n",
              "    }\n",
              "\n",
              "    .colab-df-convert {\n",
              "      background-color: #E8F0FE;\n",
              "      border: none;\n",
              "      border-radius: 50%;\n",
              "      cursor: pointer;\n",
              "      display: none;\n",
              "      fill: #1967D2;\n",
              "      height: 32px;\n",
              "      padding: 0 0 0 0;\n",
              "      width: 32px;\n",
              "    }\n",
              "\n",
              "    .colab-df-convert:hover {\n",
              "      background-color: #E2EBFA;\n",
              "      box-shadow: 0px 1px 2px rgba(60, 64, 67, 0.3), 0px 1px 3px 1px rgba(60, 64, 67, 0.15);\n",
              "      fill: #174EA6;\n",
              "    }\n",
              "\n",
              "    .colab-df-buttons div {\n",
              "      margin-bottom: 4px;\n",
              "    }\n",
              "\n",
              "    [theme=dark] .colab-df-convert {\n",
              "      background-color: #3B4455;\n",
              "      fill: #D2E3FC;\n",
              "    }\n",
              "\n",
              "    [theme=dark] .colab-df-convert:hover {\n",
              "      background-color: #434B5C;\n",
              "      box-shadow: 0px 1px 3px 1px rgba(0, 0, 0, 0.15);\n",
              "      filter: drop-shadow(0px 1px 2px rgba(0, 0, 0, 0.3));\n",
              "      fill: #FFFFFF;\n",
              "    }\n",
              "  </style>\n",
              "\n",
              "    <script>\n",
              "      const buttonEl =\n",
              "        document.querySelector('#df-49b6a950-d9e3-4187-93f4-6e5f537d2be5 button.colab-df-convert');\n",
              "      buttonEl.style.display =\n",
              "        google.colab.kernel.accessAllowed ? 'block' : 'none';\n",
              "\n",
              "      async function convertToInteractive(key) {\n",
              "        const element = document.querySelector('#df-49b6a950-d9e3-4187-93f4-6e5f537d2be5');\n",
              "        const dataTable =\n",
              "          await google.colab.kernel.invokeFunction('convertToInteractive',\n",
              "                                                    [key], {});\n",
              "        if (!dataTable) return;\n",
              "\n",
              "        const docLinkHtml = 'Like what you see? Visit the ' +\n",
              "          '<a target=\"_blank\" href=https://colab.research.google.com/notebooks/data_table.ipynb>data table notebook</a>'\n",
              "          + ' to learn more about interactive tables.';\n",
              "        element.innerHTML = '';\n",
              "        dataTable['output_type'] = 'display_data';\n",
              "        await google.colab.output.renderOutput(dataTable, element);\n",
              "        const docLink = document.createElement('div');\n",
              "        docLink.innerHTML = docLinkHtml;\n",
              "        element.appendChild(docLink);\n",
              "      }\n",
              "    </script>\n",
              "  </div>\n",
              "\n",
              "\n",
              "<div id=\"df-fe1ac2d6-ed58-470c-a797-074af05cdb22\">\n",
              "  <button class=\"colab-df-quickchart\" onclick=\"quickchart('df-fe1ac2d6-ed58-470c-a797-074af05cdb22')\"\n",
              "            title=\"Suggest charts\"\n",
              "            style=\"display:none;\">\n",
              "\n",
              "<svg xmlns=\"http://www.w3.org/2000/svg\" height=\"24px\"viewBox=\"0 0 24 24\"\n",
              "     width=\"24px\">\n",
              "    <g>\n",
              "        <path d=\"M19 3H5c-1.1 0-2 .9-2 2v14c0 1.1.9 2 2 2h14c1.1 0 2-.9 2-2V5c0-1.1-.9-2-2-2zM9 17H7v-7h2v7zm4 0h-2V7h2v10zm4 0h-2v-4h2v4z\"/>\n",
              "    </g>\n",
              "</svg>\n",
              "  </button>\n",
              "\n",
              "<style>\n",
              "  .colab-df-quickchart {\n",
              "      --bg-color: #E8F0FE;\n",
              "      --fill-color: #1967D2;\n",
              "      --hover-bg-color: #E2EBFA;\n",
              "      --hover-fill-color: #174EA6;\n",
              "      --disabled-fill-color: #AAA;\n",
              "      --disabled-bg-color: #DDD;\n",
              "  }\n",
              "\n",
              "  [theme=dark] .colab-df-quickchart {\n",
              "      --bg-color: #3B4455;\n",
              "      --fill-color: #D2E3FC;\n",
              "      --hover-bg-color: #434B5C;\n",
              "      --hover-fill-color: #FFFFFF;\n",
              "      --disabled-bg-color: #3B4455;\n",
              "      --disabled-fill-color: #666;\n",
              "  }\n",
              "\n",
              "  .colab-df-quickchart {\n",
              "    background-color: var(--bg-color);\n",
              "    border: none;\n",
              "    border-radius: 50%;\n",
              "    cursor: pointer;\n",
              "    display: none;\n",
              "    fill: var(--fill-color);\n",
              "    height: 32px;\n",
              "    padding: 0;\n",
              "    width: 32px;\n",
              "  }\n",
              "\n",
              "  .colab-df-quickchart:hover {\n",
              "    background-color: var(--hover-bg-color);\n",
              "    box-shadow: 0 1px 2px rgba(60, 64, 67, 0.3), 0 1px 3px 1px rgba(60, 64, 67, 0.15);\n",
              "    fill: var(--button-hover-fill-color);\n",
              "  }\n",
              "\n",
              "  .colab-df-quickchart-complete:disabled,\n",
              "  .colab-df-quickchart-complete:disabled:hover {\n",
              "    background-color: var(--disabled-bg-color);\n",
              "    fill: var(--disabled-fill-color);\n",
              "    box-shadow: none;\n",
              "  }\n",
              "\n",
              "  .colab-df-spinner {\n",
              "    border: 2px solid var(--fill-color);\n",
              "    border-color: transparent;\n",
              "    border-bottom-color: var(--fill-color);\n",
              "    animation:\n",
              "      spin 1s steps(1) infinite;\n",
              "  }\n",
              "\n",
              "  @keyframes spin {\n",
              "    0% {\n",
              "      border-color: transparent;\n",
              "      border-bottom-color: var(--fill-color);\n",
              "      border-left-color: var(--fill-color);\n",
              "    }\n",
              "    20% {\n",
              "      border-color: transparent;\n",
              "      border-left-color: var(--fill-color);\n",
              "      border-top-color: var(--fill-color);\n",
              "    }\n",
              "    30% {\n",
              "      border-color: transparent;\n",
              "      border-left-color: var(--fill-color);\n",
              "      border-top-color: var(--fill-color);\n",
              "      border-right-color: var(--fill-color);\n",
              "    }\n",
              "    40% {\n",
              "      border-color: transparent;\n",
              "      border-right-color: var(--fill-color);\n",
              "      border-top-color: var(--fill-color);\n",
              "    }\n",
              "    60% {\n",
              "      border-color: transparent;\n",
              "      border-right-color: var(--fill-color);\n",
              "    }\n",
              "    80% {\n",
              "      border-color: transparent;\n",
              "      border-right-color: var(--fill-color);\n",
              "      border-bottom-color: var(--fill-color);\n",
              "    }\n",
              "    90% {\n",
              "      border-color: transparent;\n",
              "      border-bottom-color: var(--fill-color);\n",
              "    }\n",
              "  }\n",
              "</style>\n",
              "\n",
              "  <script>\n",
              "    async function quickchart(key) {\n",
              "      const quickchartButtonEl =\n",
              "        document.querySelector('#' + key + ' button');\n",
              "      quickchartButtonEl.disabled = true;  // To prevent multiple clicks.\n",
              "      quickchartButtonEl.classList.add('colab-df-spinner');\n",
              "      try {\n",
              "        const charts = await google.colab.kernel.invokeFunction(\n",
              "            'suggestCharts', [key], {});\n",
              "      } catch (error) {\n",
              "        console.error('Error during call to suggestCharts:', error);\n",
              "      }\n",
              "      quickchartButtonEl.classList.remove('colab-df-spinner');\n",
              "      quickchartButtonEl.classList.add('colab-df-quickchart-complete');\n",
              "    }\n",
              "    (() => {\n",
              "      let quickchartButtonEl =\n",
              "        document.querySelector('#df-fe1ac2d6-ed58-470c-a797-074af05cdb22 button');\n",
              "      quickchartButtonEl.style.display =\n",
              "        google.colab.kernel.accessAllowed ? 'block' : 'none';\n",
              "    })();\n",
              "  </script>\n",
              "</div>\n",
              "\n",
              "    </div>\n",
              "  </div>\n"
            ],
            "application/vnd.google.colaboratory.intrinsic+json": {
              "type": "dataframe",
              "variable_name": "prices",
              "summary": "{\n  \"name\": \"prices\",\n  \"rows\": 1761,\n  \"fields\": [\n    {\n      \"column\": \"date\",\n      \"properties\": {\n        \"dtype\": \"date\",\n        \"min\": \"2010-01-04 00:00:00\",\n        \"max\": \"2016-12-30 00:00:00\",\n        \"num_unique_values\": 1761,\n        \"samples\": [\n          \"2013-11-05 00:00:00\",\n          \"2016-01-26 00:00:00\",\n          \"2016-04-15 00:00:00\"\n        ],\n        \"semantic_type\": \"\",\n        \"description\": \"\"\n      }\n    },\n    {\n      \"column\": \"AAPL\",\n      \"properties\": {\n        \"dtype\": \"number\",\n        \"std\": 28.31783781546404,\n        \"min\": 27.44,\n        \"max\": 133.0,\n        \"num_unique_values\": 1585,\n        \"samples\": [\n          63.9,\n          46.66,\n          107.48\n        ],\n        \"semantic_type\": \"\",\n        \"description\": \"\"\n      }\n    },\n    {\n      \"column\": \"AMZN\",\n      \"properties\": {\n        \"dtype\": \"number\",\n        \"std\": 189.09997656065818,\n        \"min\": 108.61,\n        \"max\": 844.36,\n        \"num_unique_values\": 1721,\n        \"samples\": [\n          266.89,\n          289.73,\n          229.53\n        ],\n        \"semantic_type\": \"\",\n        \"description\": \"\"\n      }\n    },\n    {\n      \"column\": \"RIO\",\n      \"properties\": {\n        \"dtype\": \"number\",\n        \"std\": 11.416053511456758,\n        \"min\": 22.7,\n        \"max\": 76.63,\n        \"num_unique_values\": 1416,\n        \"samples\": [\n          51.62,\n          52.85,\n          68.95\n        ],\n        \"semantic_type\": \"\",\n        \"description\": \"\"\n      }\n    }\n  ]\n}"
            }
          },
          "metadata": {},
          "execution_count": 10
        }
      ]
    },
    {
      "cell_type": "code",
      "execution_count": 11,
      "id": "b56062d2-d668-4b09-b070-ac07b0e6c6cb",
      "metadata": {
        "id": "b56062d2-d668-4b09-b070-ac07b0e6c6cb",
        "outputId": "be68eaf5-1518-42e2-ff24-5c8ceb47cfba",
        "colab": {
          "base_uri": "https://localhost:8080/"
        }
      },
      "outputs": [
        {
          "output_type": "stream",
          "name": "stdout",
          "text": [
            "<class 'pandas.core.frame.DataFrame'>\n",
            "DatetimeIndex: 2395 entries, 2007-06-29 to 2016-12-30\n",
            "Data columns (total 1 columns):\n",
            " #   Column  Non-Null Count  Dtype  \n",
            "---  ------  --------------  -----  \n",
            " 0   SP500   2395 non-null   float64\n",
            "dtypes: float64(1)\n",
            "memory usage: 37.4 KB\n"
          ]
        }
      ],
      "source": [
        "benchmarks = pd.read_csv(data_path + 'stock_data/sp500.csv', parse_dates=['date'], index_col='date')\n",
        "benchmarks.info()"
      ]
    },
    {
      "cell_type": "code",
      "source": [
        "benchmarks.head(3)"
      ],
      "metadata": {
        "colab": {
          "base_uri": "https://localhost:8080/",
          "height": 175
        },
        "id": "2a5rQE7wXKnN",
        "outputId": "f90fbdb1-37d6-48be-b3a4-101eae61eb03"
      },
      "id": "2a5rQE7wXKnN",
      "execution_count": 12,
      "outputs": [
        {
          "output_type": "execute_result",
          "data": {
            "text/plain": [
              "              SP500\n",
              "date               \n",
              "2007-06-29  1503.35\n",
              "2007-07-02  1519.43\n",
              "2007-07-03  1524.87"
            ],
            "text/html": [
              "\n",
              "  <div id=\"df-1fa76b23-28a2-4fc6-b480-0ffa061eb6a1\" class=\"colab-df-container\">\n",
              "    <div>\n",
              "<style scoped>\n",
              "    .dataframe tbody tr th:only-of-type {\n",
              "        vertical-align: middle;\n",
              "    }\n",
              "\n",
              "    .dataframe tbody tr th {\n",
              "        vertical-align: top;\n",
              "    }\n",
              "\n",
              "    .dataframe thead th {\n",
              "        text-align: right;\n",
              "    }\n",
              "</style>\n",
              "<table border=\"1\" class=\"dataframe\">\n",
              "  <thead>\n",
              "    <tr style=\"text-align: right;\">\n",
              "      <th></th>\n",
              "      <th>SP500</th>\n",
              "    </tr>\n",
              "    <tr>\n",
              "      <th>date</th>\n",
              "      <th></th>\n",
              "    </tr>\n",
              "  </thead>\n",
              "  <tbody>\n",
              "    <tr>\n",
              "      <th>2007-06-29</th>\n",
              "      <td>1503.35</td>\n",
              "    </tr>\n",
              "    <tr>\n",
              "      <th>2007-07-02</th>\n",
              "      <td>1519.43</td>\n",
              "    </tr>\n",
              "    <tr>\n",
              "      <th>2007-07-03</th>\n",
              "      <td>1524.87</td>\n",
              "    </tr>\n",
              "  </tbody>\n",
              "</table>\n",
              "</div>\n",
              "    <div class=\"colab-df-buttons\">\n",
              "\n",
              "  <div class=\"colab-df-container\">\n",
              "    <button class=\"colab-df-convert\" onclick=\"convertToInteractive('df-1fa76b23-28a2-4fc6-b480-0ffa061eb6a1')\"\n",
              "            title=\"Convert this dataframe to an interactive table.\"\n",
              "            style=\"display:none;\">\n",
              "\n",
              "  <svg xmlns=\"http://www.w3.org/2000/svg\" height=\"24px\" viewBox=\"0 -960 960 960\">\n",
              "    <path d=\"M120-120v-720h720v720H120Zm60-500h600v-160H180v160Zm220 220h160v-160H400v160Zm0 220h160v-160H400v160ZM180-400h160v-160H180v160Zm440 0h160v-160H620v160ZM180-180h160v-160H180v160Zm440 0h160v-160H620v160Z\"/>\n",
              "  </svg>\n",
              "    </button>\n",
              "\n",
              "  <style>\n",
              "    .colab-df-container {\n",
              "      display:flex;\n",
              "      gap: 12px;\n",
              "    }\n",
              "\n",
              "    .colab-df-convert {\n",
              "      background-color: #E8F0FE;\n",
              "      border: none;\n",
              "      border-radius: 50%;\n",
              "      cursor: pointer;\n",
              "      display: none;\n",
              "      fill: #1967D2;\n",
              "      height: 32px;\n",
              "      padding: 0 0 0 0;\n",
              "      width: 32px;\n",
              "    }\n",
              "\n",
              "    .colab-df-convert:hover {\n",
              "      background-color: #E2EBFA;\n",
              "      box-shadow: 0px 1px 2px rgba(60, 64, 67, 0.3), 0px 1px 3px 1px rgba(60, 64, 67, 0.15);\n",
              "      fill: #174EA6;\n",
              "    }\n",
              "\n",
              "    .colab-df-buttons div {\n",
              "      margin-bottom: 4px;\n",
              "    }\n",
              "\n",
              "    [theme=dark] .colab-df-convert {\n",
              "      background-color: #3B4455;\n",
              "      fill: #D2E3FC;\n",
              "    }\n",
              "\n",
              "    [theme=dark] .colab-df-convert:hover {\n",
              "      background-color: #434B5C;\n",
              "      box-shadow: 0px 1px 3px 1px rgba(0, 0, 0, 0.15);\n",
              "      filter: drop-shadow(0px 1px 2px rgba(0, 0, 0, 0.3));\n",
              "      fill: #FFFFFF;\n",
              "    }\n",
              "  </style>\n",
              "\n",
              "    <script>\n",
              "      const buttonEl =\n",
              "        document.querySelector('#df-1fa76b23-28a2-4fc6-b480-0ffa061eb6a1 button.colab-df-convert');\n",
              "      buttonEl.style.display =\n",
              "        google.colab.kernel.accessAllowed ? 'block' : 'none';\n",
              "\n",
              "      async function convertToInteractive(key) {\n",
              "        const element = document.querySelector('#df-1fa76b23-28a2-4fc6-b480-0ffa061eb6a1');\n",
              "        const dataTable =\n",
              "          await google.colab.kernel.invokeFunction('convertToInteractive',\n",
              "                                                    [key], {});\n",
              "        if (!dataTable) return;\n",
              "\n",
              "        const docLinkHtml = 'Like what you see? Visit the ' +\n",
              "          '<a target=\"_blank\" href=https://colab.research.google.com/notebooks/data_table.ipynb>data table notebook</a>'\n",
              "          + ' to learn more about interactive tables.';\n",
              "        element.innerHTML = '';\n",
              "        dataTable['output_type'] = 'display_data';\n",
              "        await google.colab.output.renderOutput(dataTable, element);\n",
              "        const docLink = document.createElement('div');\n",
              "        docLink.innerHTML = docLinkHtml;\n",
              "        element.appendChild(docLink);\n",
              "      }\n",
              "    </script>\n",
              "  </div>\n",
              "\n",
              "\n",
              "<div id=\"df-f09419a2-c411-440c-8c4e-4d771cefdfbe\">\n",
              "  <button class=\"colab-df-quickchart\" onclick=\"quickchart('df-f09419a2-c411-440c-8c4e-4d771cefdfbe')\"\n",
              "            title=\"Suggest charts\"\n",
              "            style=\"display:none;\">\n",
              "\n",
              "<svg xmlns=\"http://www.w3.org/2000/svg\" height=\"24px\"viewBox=\"0 0 24 24\"\n",
              "     width=\"24px\">\n",
              "    <g>\n",
              "        <path d=\"M19 3H5c-1.1 0-2 .9-2 2v14c0 1.1.9 2 2 2h14c1.1 0 2-.9 2-2V5c0-1.1-.9-2-2-2zM9 17H7v-7h2v7zm4 0h-2V7h2v10zm4 0h-2v-4h2v4z\"/>\n",
              "    </g>\n",
              "</svg>\n",
              "  </button>\n",
              "\n",
              "<style>\n",
              "  .colab-df-quickchart {\n",
              "      --bg-color: #E8F0FE;\n",
              "      --fill-color: #1967D2;\n",
              "      --hover-bg-color: #E2EBFA;\n",
              "      --hover-fill-color: #174EA6;\n",
              "      --disabled-fill-color: #AAA;\n",
              "      --disabled-bg-color: #DDD;\n",
              "  }\n",
              "\n",
              "  [theme=dark] .colab-df-quickchart {\n",
              "      --bg-color: #3B4455;\n",
              "      --fill-color: #D2E3FC;\n",
              "      --hover-bg-color: #434B5C;\n",
              "      --hover-fill-color: #FFFFFF;\n",
              "      --disabled-bg-color: #3B4455;\n",
              "      --disabled-fill-color: #666;\n",
              "  }\n",
              "\n",
              "  .colab-df-quickchart {\n",
              "    background-color: var(--bg-color);\n",
              "    border: none;\n",
              "    border-radius: 50%;\n",
              "    cursor: pointer;\n",
              "    display: none;\n",
              "    fill: var(--fill-color);\n",
              "    height: 32px;\n",
              "    padding: 0;\n",
              "    width: 32px;\n",
              "  }\n",
              "\n",
              "  .colab-df-quickchart:hover {\n",
              "    background-color: var(--hover-bg-color);\n",
              "    box-shadow: 0 1px 2px rgba(60, 64, 67, 0.3), 0 1px 3px 1px rgba(60, 64, 67, 0.15);\n",
              "    fill: var(--button-hover-fill-color);\n",
              "  }\n",
              "\n",
              "  .colab-df-quickchart-complete:disabled,\n",
              "  .colab-df-quickchart-complete:disabled:hover {\n",
              "    background-color: var(--disabled-bg-color);\n",
              "    fill: var(--disabled-fill-color);\n",
              "    box-shadow: none;\n",
              "  }\n",
              "\n",
              "  .colab-df-spinner {\n",
              "    border: 2px solid var(--fill-color);\n",
              "    border-color: transparent;\n",
              "    border-bottom-color: var(--fill-color);\n",
              "    animation:\n",
              "      spin 1s steps(1) infinite;\n",
              "  }\n",
              "\n",
              "  @keyframes spin {\n",
              "    0% {\n",
              "      border-color: transparent;\n",
              "      border-bottom-color: var(--fill-color);\n",
              "      border-left-color: var(--fill-color);\n",
              "    }\n",
              "    20% {\n",
              "      border-color: transparent;\n",
              "      border-left-color: var(--fill-color);\n",
              "      border-top-color: var(--fill-color);\n",
              "    }\n",
              "    30% {\n",
              "      border-color: transparent;\n",
              "      border-left-color: var(--fill-color);\n",
              "      border-top-color: var(--fill-color);\n",
              "      border-right-color: var(--fill-color);\n",
              "    }\n",
              "    40% {\n",
              "      border-color: transparent;\n",
              "      border-right-color: var(--fill-color);\n",
              "      border-top-color: var(--fill-color);\n",
              "    }\n",
              "    60% {\n",
              "      border-color: transparent;\n",
              "      border-right-color: var(--fill-color);\n",
              "    }\n",
              "    80% {\n",
              "      border-color: transparent;\n",
              "      border-right-color: var(--fill-color);\n",
              "      border-bottom-color: var(--fill-color);\n",
              "    }\n",
              "    90% {\n",
              "      border-color: transparent;\n",
              "      border-bottom-color: var(--fill-color);\n",
              "    }\n",
              "  }\n",
              "</style>\n",
              "\n",
              "  <script>\n",
              "    async function quickchart(key) {\n",
              "      const quickchartButtonEl =\n",
              "        document.querySelector('#' + key + ' button');\n",
              "      quickchartButtonEl.disabled = true;  // To prevent multiple clicks.\n",
              "      quickchartButtonEl.classList.add('colab-df-spinner');\n",
              "      try {\n",
              "        const charts = await google.colab.kernel.invokeFunction(\n",
              "            'suggestCharts', [key], {});\n",
              "      } catch (error) {\n",
              "        console.error('Error during call to suggestCharts:', error);\n",
              "      }\n",
              "      quickchartButtonEl.classList.remove('colab-df-spinner');\n",
              "      quickchartButtonEl.classList.add('colab-df-quickchart-complete');\n",
              "    }\n",
              "    (() => {\n",
              "      let quickchartButtonEl =\n",
              "        document.querySelector('#df-f09419a2-c411-440c-8c4e-4d771cefdfbe button');\n",
              "      quickchartButtonEl.style.display =\n",
              "        google.colab.kernel.accessAllowed ? 'block' : 'none';\n",
              "    })();\n",
              "  </script>\n",
              "</div>\n",
              "\n",
              "    </div>\n",
              "  </div>\n"
            ],
            "application/vnd.google.colaboratory.intrinsic+json": {
              "type": "dataframe",
              "variable_name": "benchmarks",
              "summary": "{\n  \"name\": \"benchmarks\",\n  \"rows\": 2395,\n  \"fields\": [\n    {\n      \"column\": \"date\",\n      \"properties\": {\n        \"dtype\": \"date\",\n        \"min\": \"2007-06-29 00:00:00\",\n        \"max\": \"2016-12-30 00:00:00\",\n        \"num_unique_values\": 2395,\n        \"samples\": [\n          \"2009-04-02 00:00:00\",\n          \"2008-04-10 00:00:00\",\n          \"2013-06-21 00:00:00\"\n        ],\n        \"semantic_type\": \"\",\n        \"description\": \"\"\n      }\n    },\n    {\n      \"column\": \"SP500\",\n      \"properties\": {\n        \"dtype\": \"number\",\n        \"std\": 402.9406454652905,\n        \"min\": 676.53,\n        \"max\": 2271.72,\n        \"num_unique_values\": 2377,\n        \"samples\": [\n          1990.2,\n          1977.8,\n          1439.7\n        ],\n        \"semantic_type\": \"\",\n        \"description\": \"\"\n      }\n    }\n  ]\n}"
            }
          },
          "metadata": {},
          "execution_count": 12
        }
      ]
    },
    {
      "cell_type": "code",
      "execution_count": 14,
      "id": "c0c3becc-b799-4af9-a0d2-1a04ff94892c",
      "metadata": {
        "id": "c0c3becc-b799-4af9-a0d2-1a04ff94892c",
        "outputId": "0ba3d009-dd60-4e48-8ce5-1ccb5555fcdf",
        "colab": {
          "base_uri": "https://localhost:8080/"
        }
      },
      "outputs": [
        {
          "output_type": "stream",
          "name": "stdout",
          "text": [
            "<class 'pandas.core.frame.DataFrame'>\n",
            "DatetimeIndex: 1761 entries, 2010-01-04 to 2016-12-30\n",
            "Data columns (total 4 columns):\n",
            " #   Column  Non-Null Count  Dtype  \n",
            "---  ------  --------------  -----  \n",
            " 0   AAPL    1761 non-null   float64\n",
            " 1   AMZN    1761 non-null   float64\n",
            " 2   RIO     1761 non-null   float64\n",
            " 3   SP500   1761 non-null   float64\n",
            "dtypes: float64(4)\n",
            "memory usage: 68.8 KB\n"
          ]
        }
      ],
      "source": [
        "# these get aligned by the index, also note: `.dropna()\n",
        "prices = pd.concat([prices, benchmarks], axis=1).dropna()\n",
        "prices.info()"
      ]
    },
    {
      "cell_type": "code",
      "execution_count": 15,
      "id": "ab88f541-c824-4522-8fb9-40895f9adb49",
      "metadata": {
        "id": "ab88f541-c824-4522-8fb9-40895f9adb49",
        "outputId": "7e0dc893-bc19-4e29-8a40-61918aa05129",
        "colab": {
          "base_uri": "https://localhost:8080/",
          "height": 238
        }
      },
      "outputs": [
        {
          "output_type": "execute_result",
          "data": {
            "text/plain": [
              "             AAPL    AMZN    RIO    SP500\n",
              "date                                     \n",
              "2010-01-04  30.57  133.90  56.03  1132.99\n",
              "2010-01-05  30.63  134.69  56.90  1136.52\n",
              "2010-01-06  30.14  132.25  58.64  1137.14\n",
              "2010-01-07  30.08  130.00  58.65  1141.69\n",
              "2010-01-08  30.28  133.52  59.30  1144.98"
            ],
            "text/html": [
              "\n",
              "  <div id=\"df-26a275df-9cc5-40eb-971f-d118c36ea8fc\" class=\"colab-df-container\">\n",
              "    <div>\n",
              "<style scoped>\n",
              "    .dataframe tbody tr th:only-of-type {\n",
              "        vertical-align: middle;\n",
              "    }\n",
              "\n",
              "    .dataframe tbody tr th {\n",
              "        vertical-align: top;\n",
              "    }\n",
              "\n",
              "    .dataframe thead th {\n",
              "        text-align: right;\n",
              "    }\n",
              "</style>\n",
              "<table border=\"1\" class=\"dataframe\">\n",
              "  <thead>\n",
              "    <tr style=\"text-align: right;\">\n",
              "      <th></th>\n",
              "      <th>AAPL</th>\n",
              "      <th>AMZN</th>\n",
              "      <th>RIO</th>\n",
              "      <th>SP500</th>\n",
              "    </tr>\n",
              "    <tr>\n",
              "      <th>date</th>\n",
              "      <th></th>\n",
              "      <th></th>\n",
              "      <th></th>\n",
              "      <th></th>\n",
              "    </tr>\n",
              "  </thead>\n",
              "  <tbody>\n",
              "    <tr>\n",
              "      <th>2010-01-04</th>\n",
              "      <td>30.57</td>\n",
              "      <td>133.90</td>\n",
              "      <td>56.03</td>\n",
              "      <td>1132.99</td>\n",
              "    </tr>\n",
              "    <tr>\n",
              "      <th>2010-01-05</th>\n",
              "      <td>30.63</td>\n",
              "      <td>134.69</td>\n",
              "      <td>56.90</td>\n",
              "      <td>1136.52</td>\n",
              "    </tr>\n",
              "    <tr>\n",
              "      <th>2010-01-06</th>\n",
              "      <td>30.14</td>\n",
              "      <td>132.25</td>\n",
              "      <td>58.64</td>\n",
              "      <td>1137.14</td>\n",
              "    </tr>\n",
              "    <tr>\n",
              "      <th>2010-01-07</th>\n",
              "      <td>30.08</td>\n",
              "      <td>130.00</td>\n",
              "      <td>58.65</td>\n",
              "      <td>1141.69</td>\n",
              "    </tr>\n",
              "    <tr>\n",
              "      <th>2010-01-08</th>\n",
              "      <td>30.28</td>\n",
              "      <td>133.52</td>\n",
              "      <td>59.30</td>\n",
              "      <td>1144.98</td>\n",
              "    </tr>\n",
              "  </tbody>\n",
              "</table>\n",
              "</div>\n",
              "    <div class=\"colab-df-buttons\">\n",
              "\n",
              "  <div class=\"colab-df-container\">\n",
              "    <button class=\"colab-df-convert\" onclick=\"convertToInteractive('df-26a275df-9cc5-40eb-971f-d118c36ea8fc')\"\n",
              "            title=\"Convert this dataframe to an interactive table.\"\n",
              "            style=\"display:none;\">\n",
              "\n",
              "  <svg xmlns=\"http://www.w3.org/2000/svg\" height=\"24px\" viewBox=\"0 -960 960 960\">\n",
              "    <path d=\"M120-120v-720h720v720H120Zm60-500h600v-160H180v160Zm220 220h160v-160H400v160Zm0 220h160v-160H400v160ZM180-400h160v-160H180v160Zm440 0h160v-160H620v160ZM180-180h160v-160H180v160Zm440 0h160v-160H620v160Z\"/>\n",
              "  </svg>\n",
              "    </button>\n",
              "\n",
              "  <style>\n",
              "    .colab-df-container {\n",
              "      display:flex;\n",
              "      gap: 12px;\n",
              "    }\n",
              "\n",
              "    .colab-df-convert {\n",
              "      background-color: #E8F0FE;\n",
              "      border: none;\n",
              "      border-radius: 50%;\n",
              "      cursor: pointer;\n",
              "      display: none;\n",
              "      fill: #1967D2;\n",
              "      height: 32px;\n",
              "      padding: 0 0 0 0;\n",
              "      width: 32px;\n",
              "    }\n",
              "\n",
              "    .colab-df-convert:hover {\n",
              "      background-color: #E2EBFA;\n",
              "      box-shadow: 0px 1px 2px rgba(60, 64, 67, 0.3), 0px 1px 3px 1px rgba(60, 64, 67, 0.15);\n",
              "      fill: #174EA6;\n",
              "    }\n",
              "\n",
              "    .colab-df-buttons div {\n",
              "      margin-bottom: 4px;\n",
              "    }\n",
              "\n",
              "    [theme=dark] .colab-df-convert {\n",
              "      background-color: #3B4455;\n",
              "      fill: #D2E3FC;\n",
              "    }\n",
              "\n",
              "    [theme=dark] .colab-df-convert:hover {\n",
              "      background-color: #434B5C;\n",
              "      box-shadow: 0px 1px 3px 1px rgba(0, 0, 0, 0.15);\n",
              "      filter: drop-shadow(0px 1px 2px rgba(0, 0, 0, 0.3));\n",
              "      fill: #FFFFFF;\n",
              "    }\n",
              "  </style>\n",
              "\n",
              "    <script>\n",
              "      const buttonEl =\n",
              "        document.querySelector('#df-26a275df-9cc5-40eb-971f-d118c36ea8fc button.colab-df-convert');\n",
              "      buttonEl.style.display =\n",
              "        google.colab.kernel.accessAllowed ? 'block' : 'none';\n",
              "\n",
              "      async function convertToInteractive(key) {\n",
              "        const element = document.querySelector('#df-26a275df-9cc5-40eb-971f-d118c36ea8fc');\n",
              "        const dataTable =\n",
              "          await google.colab.kernel.invokeFunction('convertToInteractive',\n",
              "                                                    [key], {});\n",
              "        if (!dataTable) return;\n",
              "\n",
              "        const docLinkHtml = 'Like what you see? Visit the ' +\n",
              "          '<a target=\"_blank\" href=https://colab.research.google.com/notebooks/data_table.ipynb>data table notebook</a>'\n",
              "          + ' to learn more about interactive tables.';\n",
              "        element.innerHTML = '';\n",
              "        dataTable['output_type'] = 'display_data';\n",
              "        await google.colab.output.renderOutput(dataTable, element);\n",
              "        const docLink = document.createElement('div');\n",
              "        docLink.innerHTML = docLinkHtml;\n",
              "        element.appendChild(docLink);\n",
              "      }\n",
              "    </script>\n",
              "  </div>\n",
              "\n",
              "\n",
              "<div id=\"df-315b7491-a3a5-4433-a5a2-aa3e729007a5\">\n",
              "  <button class=\"colab-df-quickchart\" onclick=\"quickchart('df-315b7491-a3a5-4433-a5a2-aa3e729007a5')\"\n",
              "            title=\"Suggest charts\"\n",
              "            style=\"display:none;\">\n",
              "\n",
              "<svg xmlns=\"http://www.w3.org/2000/svg\" height=\"24px\"viewBox=\"0 0 24 24\"\n",
              "     width=\"24px\">\n",
              "    <g>\n",
              "        <path d=\"M19 3H5c-1.1 0-2 .9-2 2v14c0 1.1.9 2 2 2h14c1.1 0 2-.9 2-2V5c0-1.1-.9-2-2-2zM9 17H7v-7h2v7zm4 0h-2V7h2v10zm4 0h-2v-4h2v4z\"/>\n",
              "    </g>\n",
              "</svg>\n",
              "  </button>\n",
              "\n",
              "<style>\n",
              "  .colab-df-quickchart {\n",
              "      --bg-color: #E8F0FE;\n",
              "      --fill-color: #1967D2;\n",
              "      --hover-bg-color: #E2EBFA;\n",
              "      --hover-fill-color: #174EA6;\n",
              "      --disabled-fill-color: #AAA;\n",
              "      --disabled-bg-color: #DDD;\n",
              "  }\n",
              "\n",
              "  [theme=dark] .colab-df-quickchart {\n",
              "      --bg-color: #3B4455;\n",
              "      --fill-color: #D2E3FC;\n",
              "      --hover-bg-color: #434B5C;\n",
              "      --hover-fill-color: #FFFFFF;\n",
              "      --disabled-bg-color: #3B4455;\n",
              "      --disabled-fill-color: #666;\n",
              "  }\n",
              "\n",
              "  .colab-df-quickchart {\n",
              "    background-color: var(--bg-color);\n",
              "    border: none;\n",
              "    border-radius: 50%;\n",
              "    cursor: pointer;\n",
              "    display: none;\n",
              "    fill: var(--fill-color);\n",
              "    height: 32px;\n",
              "    padding: 0;\n",
              "    width: 32px;\n",
              "  }\n",
              "\n",
              "  .colab-df-quickchart:hover {\n",
              "    background-color: var(--hover-bg-color);\n",
              "    box-shadow: 0 1px 2px rgba(60, 64, 67, 0.3), 0 1px 3px 1px rgba(60, 64, 67, 0.15);\n",
              "    fill: var(--button-hover-fill-color);\n",
              "  }\n",
              "\n",
              "  .colab-df-quickchart-complete:disabled,\n",
              "  .colab-df-quickchart-complete:disabled:hover {\n",
              "    background-color: var(--disabled-bg-color);\n",
              "    fill: var(--disabled-fill-color);\n",
              "    box-shadow: none;\n",
              "  }\n",
              "\n",
              "  .colab-df-spinner {\n",
              "    border: 2px solid var(--fill-color);\n",
              "    border-color: transparent;\n",
              "    border-bottom-color: var(--fill-color);\n",
              "    animation:\n",
              "      spin 1s steps(1) infinite;\n",
              "  }\n",
              "\n",
              "  @keyframes spin {\n",
              "    0% {\n",
              "      border-color: transparent;\n",
              "      border-bottom-color: var(--fill-color);\n",
              "      border-left-color: var(--fill-color);\n",
              "    }\n",
              "    20% {\n",
              "      border-color: transparent;\n",
              "      border-left-color: var(--fill-color);\n",
              "      border-top-color: var(--fill-color);\n",
              "    }\n",
              "    30% {\n",
              "      border-color: transparent;\n",
              "      border-left-color: var(--fill-color);\n",
              "      border-top-color: var(--fill-color);\n",
              "      border-right-color: var(--fill-color);\n",
              "    }\n",
              "    40% {\n",
              "      border-color: transparent;\n",
              "      border-right-color: var(--fill-color);\n",
              "      border-top-color: var(--fill-color);\n",
              "    }\n",
              "    60% {\n",
              "      border-color: transparent;\n",
              "      border-right-color: var(--fill-color);\n",
              "    }\n",
              "    80% {\n",
              "      border-color: transparent;\n",
              "      border-right-color: var(--fill-color);\n",
              "      border-bottom-color: var(--fill-color);\n",
              "    }\n",
              "    90% {\n",
              "      border-color: transparent;\n",
              "      border-bottom-color: var(--fill-color);\n",
              "    }\n",
              "  }\n",
              "</style>\n",
              "\n",
              "  <script>\n",
              "    async function quickchart(key) {\n",
              "      const quickchartButtonEl =\n",
              "        document.querySelector('#' + key + ' button');\n",
              "      quickchartButtonEl.disabled = true;  // To prevent multiple clicks.\n",
              "      quickchartButtonEl.classList.add('colab-df-spinner');\n",
              "      try {\n",
              "        const charts = await google.colab.kernel.invokeFunction(\n",
              "            'suggestCharts', [key], {});\n",
              "      } catch (error) {\n",
              "        console.error('Error during call to suggestCharts:', error);\n",
              "      }\n",
              "      quickchartButtonEl.classList.remove('colab-df-spinner');\n",
              "      quickchartButtonEl.classList.add('colab-df-quickchart-complete');\n",
              "    }\n",
              "    (() => {\n",
              "      let quickchartButtonEl =\n",
              "        document.querySelector('#df-315b7491-a3a5-4433-a5a2-aa3e729007a5 button');\n",
              "      quickchartButtonEl.style.display =\n",
              "        google.colab.kernel.accessAllowed ? 'block' : 'none';\n",
              "    })();\n",
              "  </script>\n",
              "</div>\n",
              "\n",
              "    </div>\n",
              "  </div>\n"
            ],
            "application/vnd.google.colaboratory.intrinsic+json": {
              "type": "dataframe",
              "variable_name": "prices",
              "summary": "{\n  \"name\": \"prices\",\n  \"rows\": 1761,\n  \"fields\": [\n    {\n      \"column\": \"date\",\n      \"properties\": {\n        \"dtype\": \"date\",\n        \"min\": \"2010-01-04 00:00:00\",\n        \"max\": \"2016-12-30 00:00:00\",\n        \"num_unique_values\": 1761,\n        \"samples\": [\n          \"2013-11-05 00:00:00\",\n          \"2016-01-26 00:00:00\",\n          \"2016-04-15 00:00:00\"\n        ],\n        \"semantic_type\": \"\",\n        \"description\": \"\"\n      }\n    },\n    {\n      \"column\": \"AAPL\",\n      \"properties\": {\n        \"dtype\": \"number\",\n        \"std\": 28.31783781546404,\n        \"min\": 27.44,\n        \"max\": 133.0,\n        \"num_unique_values\": 1585,\n        \"samples\": [\n          63.9,\n          46.66,\n          107.48\n        ],\n        \"semantic_type\": \"\",\n        \"description\": \"\"\n      }\n    },\n    {\n      \"column\": \"AMZN\",\n      \"properties\": {\n        \"dtype\": \"number\",\n        \"std\": 189.09997656065818,\n        \"min\": 108.61,\n        \"max\": 844.36,\n        \"num_unique_values\": 1721,\n        \"samples\": [\n          266.89,\n          289.73,\n          229.53\n        ],\n        \"semantic_type\": \"\",\n        \"description\": \"\"\n      }\n    },\n    {\n      \"column\": \"RIO\",\n      \"properties\": {\n        \"dtype\": \"number\",\n        \"std\": 11.416053511456758,\n        \"min\": 22.7,\n        \"max\": 76.63,\n        \"num_unique_values\": 1416,\n        \"samples\": [\n          51.62,\n          52.85,\n          68.95\n        ],\n        \"semantic_type\": \"\",\n        \"description\": \"\"\n      }\n    },\n    {\n      \"column\": \"SP500\",\n      \"properties\": {\n        \"dtype\": \"number\",\n        \"std\": 371.2313184542229,\n        \"min\": 1022.58,\n        \"max\": 2271.72,\n        \"num_unique_values\": 1750,\n        \"samples\": [\n          2082.17,\n          1639.04,\n          1256.88\n        ],\n        \"semantic_type\": \"\",\n        \"description\": \"\"\n      }\n    }\n  ]\n}"
            }
          },
          "metadata": {},
          "execution_count": 15
        }
      ],
      "source": [
        "prices.head()"
      ]
    },
    {
      "cell_type": "code",
      "execution_count": 16,
      "id": "710f4ce5-5952-4693-a735-0b24c67db218",
      "metadata": {
        "id": "710f4ce5-5952-4693-a735-0b24c67db218",
        "outputId": "3b292f06-1160-4200-c107-505f3c92051b",
        "colab": {
          "base_uri": "https://localhost:8080/",
          "height": 238
        }
      },
      "outputs": [
        {
          "output_type": "execute_result",
          "data": {
            "text/plain": [
              "                  AAPL        AMZN         RIO       SP500\n",
              "date                                                      \n",
              "2010-01-04  100.000000  100.000000  100.000000  100.000000\n",
              "2010-01-05  100.196271  100.589993  101.552740  100.311565\n",
              "2010-01-06   98.593392   98.767737  104.658219  100.366287\n",
              "2010-01-07   98.397121   97.087379  104.676066  100.767880\n",
              "2010-01-08   99.051358   99.716206  105.836159  101.058262"
            ],
            "text/html": [
              "\n",
              "  <div id=\"df-4ee9c581-9f1b-4bd2-9671-522d97fbf288\" class=\"colab-df-container\">\n",
              "    <div>\n",
              "<style scoped>\n",
              "    .dataframe tbody tr th:only-of-type {\n",
              "        vertical-align: middle;\n",
              "    }\n",
              "\n",
              "    .dataframe tbody tr th {\n",
              "        vertical-align: top;\n",
              "    }\n",
              "\n",
              "    .dataframe thead th {\n",
              "        text-align: right;\n",
              "    }\n",
              "</style>\n",
              "<table border=\"1\" class=\"dataframe\">\n",
              "  <thead>\n",
              "    <tr style=\"text-align: right;\">\n",
              "      <th></th>\n",
              "      <th>AAPL</th>\n",
              "      <th>AMZN</th>\n",
              "      <th>RIO</th>\n",
              "      <th>SP500</th>\n",
              "    </tr>\n",
              "    <tr>\n",
              "      <th>date</th>\n",
              "      <th></th>\n",
              "      <th></th>\n",
              "      <th></th>\n",
              "      <th></th>\n",
              "    </tr>\n",
              "  </thead>\n",
              "  <tbody>\n",
              "    <tr>\n",
              "      <th>2010-01-04</th>\n",
              "      <td>100.000000</td>\n",
              "      <td>100.000000</td>\n",
              "      <td>100.000000</td>\n",
              "      <td>100.000000</td>\n",
              "    </tr>\n",
              "    <tr>\n",
              "      <th>2010-01-05</th>\n",
              "      <td>100.196271</td>\n",
              "      <td>100.589993</td>\n",
              "      <td>101.552740</td>\n",
              "      <td>100.311565</td>\n",
              "    </tr>\n",
              "    <tr>\n",
              "      <th>2010-01-06</th>\n",
              "      <td>98.593392</td>\n",
              "      <td>98.767737</td>\n",
              "      <td>104.658219</td>\n",
              "      <td>100.366287</td>\n",
              "    </tr>\n",
              "    <tr>\n",
              "      <th>2010-01-07</th>\n",
              "      <td>98.397121</td>\n",
              "      <td>97.087379</td>\n",
              "      <td>104.676066</td>\n",
              "      <td>100.767880</td>\n",
              "    </tr>\n",
              "    <tr>\n",
              "      <th>2010-01-08</th>\n",
              "      <td>99.051358</td>\n",
              "      <td>99.716206</td>\n",
              "      <td>105.836159</td>\n",
              "      <td>101.058262</td>\n",
              "    </tr>\n",
              "  </tbody>\n",
              "</table>\n",
              "</div>\n",
              "    <div class=\"colab-df-buttons\">\n",
              "\n",
              "  <div class=\"colab-df-container\">\n",
              "    <button class=\"colab-df-convert\" onclick=\"convertToInteractive('df-4ee9c581-9f1b-4bd2-9671-522d97fbf288')\"\n",
              "            title=\"Convert this dataframe to an interactive table.\"\n",
              "            style=\"display:none;\">\n",
              "\n",
              "  <svg xmlns=\"http://www.w3.org/2000/svg\" height=\"24px\" viewBox=\"0 -960 960 960\">\n",
              "    <path d=\"M120-120v-720h720v720H120Zm60-500h600v-160H180v160Zm220 220h160v-160H400v160Zm0 220h160v-160H400v160ZM180-400h160v-160H180v160Zm440 0h160v-160H620v160ZM180-180h160v-160H180v160Zm440 0h160v-160H620v160Z\"/>\n",
              "  </svg>\n",
              "    </button>\n",
              "\n",
              "  <style>\n",
              "    .colab-df-container {\n",
              "      display:flex;\n",
              "      gap: 12px;\n",
              "    }\n",
              "\n",
              "    .colab-df-convert {\n",
              "      background-color: #E8F0FE;\n",
              "      border: none;\n",
              "      border-radius: 50%;\n",
              "      cursor: pointer;\n",
              "      display: none;\n",
              "      fill: #1967D2;\n",
              "      height: 32px;\n",
              "      padding: 0 0 0 0;\n",
              "      width: 32px;\n",
              "    }\n",
              "\n",
              "    .colab-df-convert:hover {\n",
              "      background-color: #E2EBFA;\n",
              "      box-shadow: 0px 1px 2px rgba(60, 64, 67, 0.3), 0px 1px 3px 1px rgba(60, 64, 67, 0.15);\n",
              "      fill: #174EA6;\n",
              "    }\n",
              "\n",
              "    .colab-df-buttons div {\n",
              "      margin-bottom: 4px;\n",
              "    }\n",
              "\n",
              "    [theme=dark] .colab-df-convert {\n",
              "      background-color: #3B4455;\n",
              "      fill: #D2E3FC;\n",
              "    }\n",
              "\n",
              "    [theme=dark] .colab-df-convert:hover {\n",
              "      background-color: #434B5C;\n",
              "      box-shadow: 0px 1px 3px 1px rgba(0, 0, 0, 0.15);\n",
              "      filter: drop-shadow(0px 1px 2px rgba(0, 0, 0, 0.3));\n",
              "      fill: #FFFFFF;\n",
              "    }\n",
              "  </style>\n",
              "\n",
              "    <script>\n",
              "      const buttonEl =\n",
              "        document.querySelector('#df-4ee9c581-9f1b-4bd2-9671-522d97fbf288 button.colab-df-convert');\n",
              "      buttonEl.style.display =\n",
              "        google.colab.kernel.accessAllowed ? 'block' : 'none';\n",
              "\n",
              "      async function convertToInteractive(key) {\n",
              "        const element = document.querySelector('#df-4ee9c581-9f1b-4bd2-9671-522d97fbf288');\n",
              "        const dataTable =\n",
              "          await google.colab.kernel.invokeFunction('convertToInteractive',\n",
              "                                                    [key], {});\n",
              "        if (!dataTable) return;\n",
              "\n",
              "        const docLinkHtml = 'Like what you see? Visit the ' +\n",
              "          '<a target=\"_blank\" href=https://colab.research.google.com/notebooks/data_table.ipynb>data table notebook</a>'\n",
              "          + ' to learn more about interactive tables.';\n",
              "        element.innerHTML = '';\n",
              "        dataTable['output_type'] = 'display_data';\n",
              "        await google.colab.output.renderOutput(dataTable, element);\n",
              "        const docLink = document.createElement('div');\n",
              "        docLink.innerHTML = docLinkHtml;\n",
              "        element.appendChild(docLink);\n",
              "      }\n",
              "    </script>\n",
              "  </div>\n",
              "\n",
              "\n",
              "<div id=\"df-b9825272-6115-47fd-976e-ef8c0e50bcf2\">\n",
              "  <button class=\"colab-df-quickchart\" onclick=\"quickchart('df-b9825272-6115-47fd-976e-ef8c0e50bcf2')\"\n",
              "            title=\"Suggest charts\"\n",
              "            style=\"display:none;\">\n",
              "\n",
              "<svg xmlns=\"http://www.w3.org/2000/svg\" height=\"24px\"viewBox=\"0 0 24 24\"\n",
              "     width=\"24px\">\n",
              "    <g>\n",
              "        <path d=\"M19 3H5c-1.1 0-2 .9-2 2v14c0 1.1.9 2 2 2h14c1.1 0 2-.9 2-2V5c0-1.1-.9-2-2-2zM9 17H7v-7h2v7zm4 0h-2V7h2v10zm4 0h-2v-4h2v4z\"/>\n",
              "    </g>\n",
              "</svg>\n",
              "  </button>\n",
              "\n",
              "<style>\n",
              "  .colab-df-quickchart {\n",
              "      --bg-color: #E8F0FE;\n",
              "      --fill-color: #1967D2;\n",
              "      --hover-bg-color: #E2EBFA;\n",
              "      --hover-fill-color: #174EA6;\n",
              "      --disabled-fill-color: #AAA;\n",
              "      --disabled-bg-color: #DDD;\n",
              "  }\n",
              "\n",
              "  [theme=dark] .colab-df-quickchart {\n",
              "      --bg-color: #3B4455;\n",
              "      --fill-color: #D2E3FC;\n",
              "      --hover-bg-color: #434B5C;\n",
              "      --hover-fill-color: #FFFFFF;\n",
              "      --disabled-bg-color: #3B4455;\n",
              "      --disabled-fill-color: #666;\n",
              "  }\n",
              "\n",
              "  .colab-df-quickchart {\n",
              "    background-color: var(--bg-color);\n",
              "    border: none;\n",
              "    border-radius: 50%;\n",
              "    cursor: pointer;\n",
              "    display: none;\n",
              "    fill: var(--fill-color);\n",
              "    height: 32px;\n",
              "    padding: 0;\n",
              "    width: 32px;\n",
              "  }\n",
              "\n",
              "  .colab-df-quickchart:hover {\n",
              "    background-color: var(--hover-bg-color);\n",
              "    box-shadow: 0 1px 2px rgba(60, 64, 67, 0.3), 0 1px 3px 1px rgba(60, 64, 67, 0.15);\n",
              "    fill: var(--button-hover-fill-color);\n",
              "  }\n",
              "\n",
              "  .colab-df-quickchart-complete:disabled,\n",
              "  .colab-df-quickchart-complete:disabled:hover {\n",
              "    background-color: var(--disabled-bg-color);\n",
              "    fill: var(--disabled-fill-color);\n",
              "    box-shadow: none;\n",
              "  }\n",
              "\n",
              "  .colab-df-spinner {\n",
              "    border: 2px solid var(--fill-color);\n",
              "    border-color: transparent;\n",
              "    border-bottom-color: var(--fill-color);\n",
              "    animation:\n",
              "      spin 1s steps(1) infinite;\n",
              "  }\n",
              "\n",
              "  @keyframes spin {\n",
              "    0% {\n",
              "      border-color: transparent;\n",
              "      border-bottom-color: var(--fill-color);\n",
              "      border-left-color: var(--fill-color);\n",
              "    }\n",
              "    20% {\n",
              "      border-color: transparent;\n",
              "      border-left-color: var(--fill-color);\n",
              "      border-top-color: var(--fill-color);\n",
              "    }\n",
              "    30% {\n",
              "      border-color: transparent;\n",
              "      border-left-color: var(--fill-color);\n",
              "      border-top-color: var(--fill-color);\n",
              "      border-right-color: var(--fill-color);\n",
              "    }\n",
              "    40% {\n",
              "      border-color: transparent;\n",
              "      border-right-color: var(--fill-color);\n",
              "      border-top-color: var(--fill-color);\n",
              "    }\n",
              "    60% {\n",
              "      border-color: transparent;\n",
              "      border-right-color: var(--fill-color);\n",
              "    }\n",
              "    80% {\n",
              "      border-color: transparent;\n",
              "      border-right-color: var(--fill-color);\n",
              "      border-bottom-color: var(--fill-color);\n",
              "    }\n",
              "    90% {\n",
              "      border-color: transparent;\n",
              "      border-bottom-color: var(--fill-color);\n",
              "    }\n",
              "  }\n",
              "</style>\n",
              "\n",
              "  <script>\n",
              "    async function quickchart(key) {\n",
              "      const quickchartButtonEl =\n",
              "        document.querySelector('#' + key + ' button');\n",
              "      quickchartButtonEl.disabled = true;  // To prevent multiple clicks.\n",
              "      quickchartButtonEl.classList.add('colab-df-spinner');\n",
              "      try {\n",
              "        const charts = await google.colab.kernel.invokeFunction(\n",
              "            'suggestCharts', [key], {});\n",
              "      } catch (error) {\n",
              "        console.error('Error during call to suggestCharts:', error);\n",
              "      }\n",
              "      quickchartButtonEl.classList.remove('colab-df-spinner');\n",
              "      quickchartButtonEl.classList.add('colab-df-quickchart-complete');\n",
              "    }\n",
              "    (() => {\n",
              "      let quickchartButtonEl =\n",
              "        document.querySelector('#df-b9825272-6115-47fd-976e-ef8c0e50bcf2 button');\n",
              "      quickchartButtonEl.style.display =\n",
              "        google.colab.kernel.accessAllowed ? 'block' : 'none';\n",
              "    })();\n",
              "  </script>\n",
              "</div>\n",
              "\n",
              "    </div>\n",
              "  </div>\n"
            ],
            "application/vnd.google.colaboratory.intrinsic+json": {
              "type": "dataframe",
              "variable_name": "normalized",
              "summary": "{\n  \"name\": \"normalized\",\n  \"rows\": 1761,\n  \"fields\": [\n    {\n      \"column\": \"date\",\n      \"properties\": {\n        \"dtype\": \"date\",\n        \"min\": \"2010-01-04 00:00:00\",\n        \"max\": \"2016-12-30 00:00:00\",\n        \"num_unique_values\": 1761,\n        \"samples\": [\n          \"2013-11-05 00:00:00\",\n          \"2016-01-26 00:00:00\",\n          \"2016-04-15 00:00:00\"\n        ],\n        \"semantic_type\": \"\",\n        \"description\": \"\"\n      }\n    },\n    {\n      \"column\": \"AAPL\",\n      \"properties\": {\n        \"dtype\": \"number\",\n        \"std\": 92.63277008656864,\n        \"min\": 89.76120379456984,\n        \"max\": 435.0670592083742,\n        \"num_unique_values\": 1585,\n        \"samples\": [\n          209.02845927379784,\n          152.63330062152437,\n          351.5865227347073\n        ],\n        \"semantic_type\": \"\",\n        \"description\": \"\"\n      }\n    },\n    {\n      \"column\": \"AMZN\",\n      \"properties\": {\n        \"dtype\": \"number\",\n        \"std\": 141.2247771177432,\n        \"min\": 81.1127707244212,\n        \"max\": 630.5899925317401,\n        \"num_unique_values\": 1721,\n        \"samples\": [\n          199.32038834951456,\n          216.3778939507095,\n          171.4189693801344\n        ],\n        \"semantic_type\": \"\",\n        \"description\": \"\"\n      }\n    },\n    {\n      \"column\": \"RIO\",\n      \"properties\": {\n        \"dtype\": \"number\",\n        \"std\": 20.37489471971579,\n        \"min\": 40.514010351597356,\n        \"max\": 136.76601820453328,\n        \"num_unique_values\": 1416,\n        \"samples\": [\n          92.12921649116545,\n          94.32446903444584,\n          123.05907549527039\n        ],\n        \"semantic_type\": \"\",\n        \"description\": \"\"\n      }\n    },\n    {\n      \"column\": \"SP500\",\n      \"properties\": {\n        \"dtype\": \"number\",\n        \"std\": 32.76563062818056,\n        \"min\": 90.25498901137698,\n        \"max\": 200.50662406552573,\n        \"num_unique_values\": 1750,\n        \"samples\": [\n          183.77655583897473,\n          144.66500145632352,\n          110.93478318431762\n        ],\n        \"semantic_type\": \"\",\n        \"description\": \"\"\n      }\n    }\n  ]\n}"
            }
          },
          "metadata": {},
          "execution_count": 16
        }
      ],
      "source": [
        "normalized = prices.div(prices.iloc[0]).mul(100)\n",
        "normalized.head()"
      ]
    },
    {
      "cell_type": "code",
      "execution_count": 17,
      "id": "d84b2d2c-9d43-43a3-b14d-ddc5b43eeb0c",
      "metadata": {
        "id": "d84b2d2c-9d43-43a3-b14d-ddc5b43eeb0c",
        "outputId": "54714f44-021e-412d-c7a5-b0376411706c",
        "colab": {
          "base_uri": "https://localhost:8080/",
          "height": 422
        }
      },
      "outputs": [
        {
          "output_type": "display_data",
          "data": {
            "text/plain": [
              "<Figure size 640x480 with 1 Axes>"
            ],
            "image/png": "[encoded data removed]"
          },
          "metadata": {}
        }
      ],
      "source": [
        "normalized.plot();"
      ]
    },
    {
      "cell_type": "markdown",
      "id": "0528dd51-ee8c-4dd2-adc9-bc747f5af900",
      "metadata": {
        "id": "0528dd51-ee8c-4dd2-adc9-bc747f5af900"
      },
      "source": [
        "### Plotting performance difference"
      ]
    },
    {
      "cell_type": "code",
      "execution_count": 18,
      "id": "d3e6e70f-5117-4d65-a002-183281762e15",
      "metadata": {
        "id": "d3e6e70f-5117-4d65-a002-183281762e15",
        "outputId": "f6d6790e-59bb-4b97-a729-6de4be3563c0",
        "colab": {
          "base_uri": "https://localhost:8080/",
          "height": 238
        }
      },
      "outputs": [
        {
          "output_type": "execute_result",
          "data": {
            "text/plain": [
              "                AAPL      AMZN       RIO\n",
              "date                                    \n",
              "2010-01-04  0.000000  0.000000  0.000000\n",
              "2010-01-05 -0.115294  0.278428  1.241175\n",
              "2010-01-06 -1.772895 -1.598550  4.291931\n",
              "2010-01-07 -2.370758 -3.680501  3.908187\n",
              "2010-01-08 -2.006904 -1.342056  4.777897"
            ],
            "text/html": [
              "\n",
              "  <div id=\"df-6a51a913-7960-4349-9e93-fc3f3b7b20e2\" class=\"colab-df-container\">\n",
              "    <div>\n",
              "<style scoped>\n",
              "    .dataframe tbody tr th:only-of-type {\n",
              "        vertical-align: middle;\n",
              "    }\n",
              "\n",
              "    .dataframe tbody tr th {\n",
              "        vertical-align: top;\n",
              "    }\n",
              "\n",
              "    .dataframe thead th {\n",
              "        text-align: right;\n",
              "    }\n",
              "</style>\n",
              "<table border=\"1\" class=\"dataframe\">\n",
              "  <thead>\n",
              "    <tr style=\"text-align: right;\">\n",
              "      <th></th>\n",
              "      <th>AAPL</th>\n",
              "      <th>AMZN</th>\n",
              "      <th>RIO</th>\n",
              "    </tr>\n",
              "    <tr>\n",
              "      <th>date</th>\n",
              "      <th></th>\n",
              "      <th></th>\n",
              "      <th></th>\n",
              "    </tr>\n",
              "  </thead>\n",
              "  <tbody>\n",
              "    <tr>\n",
              "      <th>2010-01-04</th>\n",
              "      <td>0.000000</td>\n",
              "      <td>0.000000</td>\n",
              "      <td>0.000000</td>\n",
              "    </tr>\n",
              "    <tr>\n",
              "      <th>2010-01-05</th>\n",
              "      <td>-0.115294</td>\n",
              "      <td>0.278428</td>\n",
              "      <td>1.241175</td>\n",
              "    </tr>\n",
              "    <tr>\n",
              "      <th>2010-01-06</th>\n",
              "      <td>-1.772895</td>\n",
              "      <td>-1.598550</td>\n",
              "      <td>4.291931</td>\n",
              "    </tr>\n",
              "    <tr>\n",
              "      <th>2010-01-07</th>\n",
              "      <td>-2.370758</td>\n",
              "      <td>-3.680501</td>\n",
              "      <td>3.908187</td>\n",
              "    </tr>\n",
              "    <tr>\n",
              "      <th>2010-01-08</th>\n",
              "      <td>-2.006904</td>\n",
              "      <td>-1.342056</td>\n",
              "      <td>4.777897</td>\n",
              "    </tr>\n",
              "  </tbody>\n",
              "</table>\n",
              "</div>\n",
              "    <div class=\"colab-df-buttons\">\n",
              "\n",
              "  <div class=\"colab-df-container\">\n",
              "    <button class=\"colab-df-convert\" onclick=\"convertToInteractive('df-6a51a913-7960-4349-9e93-fc3f3b7b20e2')\"\n",
              "            title=\"Convert this dataframe to an interactive table.\"\n",
              "            style=\"display:none;\">\n",
              "\n",
              "  <svg xmlns=\"http://www.w3.org/2000/svg\" height=\"24px\" viewBox=\"0 -960 960 960\">\n",
              "    <path d=\"M120-120v-720h720v720H120Zm60-500h600v-160H180v160Zm220 220h160v-160H400v160Zm0 220h160v-160H400v160ZM180-400h160v-160H180v160Zm440 0h160v-160H620v160ZM180-180h160v-160H180v160Zm440 0h160v-160H620v160Z\"/>\n",
              "  </svg>\n",
              "    </button>\n",
              "\n",
              "  <style>\n",
              "    .colab-df-container {\n",
              "      display:flex;\n",
              "      gap: 12px;\n",
              "    }\n",
              "\n",
              "    .colab-df-convert {\n",
              "      background-color: #E8F0FE;\n",
              "      border: none;\n",
              "      border-radius: 50%;\n",
              "      cursor: pointer;\n",
              "      display: none;\n",
              "      fill: #1967D2;\n",
              "      height: 32px;\n",
              "      padding: 0 0 0 0;\n",
              "      width: 32px;\n",
              "    }\n",
              "\n",
              "    .colab-df-convert:hover {\n",
              "      background-color: #E2EBFA;\n",
              "      box-shadow: 0px 1px 2px rgba(60, 64, 67, 0.3), 0px 1px 3px 1px rgba(60, 64, 67, 0.15);\n",
              "      fill: #174EA6;\n",
              "    }\n",
              "\n",
              "    .colab-df-buttons div {\n",
              "      margin-bottom: 4px;\n",
              "    }\n",
              "\n",
              "    [theme=dark] .colab-df-convert {\n",
              "      background-color: #3B4455;\n",
              "      fill: #D2E3FC;\n",
              "    }\n",
              "\n",
              "    [theme=dark] .colab-df-convert:hover {\n",
              "      background-color: #434B5C;\n",
              "      box-shadow: 0px 1px 3px 1px rgba(0, 0, 0, 0.15);\n",
              "      filter: drop-shadow(0px 1px 2px rgba(0, 0, 0, 0.3));\n",
              "      fill: #FFFFFF;\n",
              "    }\n",
              "  </style>\n",
              "\n",
              "    <script>\n",
              "      const buttonEl =\n",
              "        document.querySelector('#df-6a51a913-7960-4349-9e93-fc3f3b7b20e2 button.colab-df-convert');\n",
              "      buttonEl.style.display =\n",
              "        google.colab.kernel.accessAllowed ? 'block' : 'none';\n",
              "\n",
              "      async function convertToInteractive(key) {\n",
              "        const element = document.querySelector('#df-6a51a913-7960-4349-9e93-fc3f3b7b20e2');\n",
              "        const dataTable =\n",
              "          await google.colab.kernel.invokeFunction('convertToInteractive',\n",
              "                                                    [key], {});\n",
              "        if (!dataTable) return;\n",
              "\n",
              "        const docLinkHtml = 'Like what you see? Visit the ' +\n",
              "          '<a target=\"_blank\" href=https://colab.research.google.com/notebooks/data_table.ipynb>data table notebook</a>'\n",
              "          + ' to learn more about interactive tables.';\n",
              "        element.innerHTML = '';\n",
              "        dataTable['output_type'] = 'display_data';\n",
              "        await google.colab.output.renderOutput(dataTable, element);\n",
              "        const docLink = document.createElement('div');\n",
              "        docLink.innerHTML = docLinkHtml;\n",
              "        element.appendChild(docLink);\n",
              "      }\n",
              "    </script>\n",
              "  </div>\n",
              "\n",
              "\n",
              "<div id=\"df-4f8992c2-dd1a-4ece-93b9-25fb36582230\">\n",
              "  <button class=\"colab-df-quickchart\" onclick=\"quickchart('df-4f8992c2-dd1a-4ece-93b9-25fb36582230')\"\n",
              "            title=\"Suggest charts\"\n",
              "            style=\"display:none;\">\n",
              "\n",
              "<svg xmlns=\"http://www.w3.org/2000/svg\" height=\"24px\"viewBox=\"0 0 24 24\"\n",
              "     width=\"24px\">\n",
              "    <g>\n",
              "        <path d=\"M19 3H5c-1.1 0-2 .9-2 2v14c0 1.1.9 2 2 2h14c1.1 0 2-.9 2-2V5c0-1.1-.9-2-2-2zM9 17H7v-7h2v7zm4 0h-2V7h2v10zm4 0h-2v-4h2v4z\"/>\n",
              "    </g>\n",
              "</svg>\n",
              "  </button>\n",
              "\n",
              "<style>\n",
              "  .colab-df-quickchart {\n",
              "      --bg-color: #E8F0FE;\n",
              "      --fill-color: #1967D2;\n",
              "      --hover-bg-color: #E2EBFA;\n",
              "      --hover-fill-color: #174EA6;\n",
              "      --disabled-fill-color: #AAA;\n",
              "      --disabled-bg-color: #DDD;\n",
              "  }\n",
              "\n",
              "  [theme=dark] .colab-df-quickchart {\n",
              "      --bg-color: #3B4455;\n",
              "      --fill-color: #D2E3FC;\n",
              "      --hover-bg-color: #434B5C;\n",
              "      --hover-fill-color: #FFFFFF;\n",
              "      --disabled-bg-color: #3B4455;\n",
              "      --disabled-fill-color: #666;\n",
              "  }\n",
              "\n",
              "  .colab-df-quickchart {\n",
              "    background-color: var(--bg-color);\n",
              "    border: none;\n",
              "    border-radius: 50%;\n",
              "    cursor: pointer;\n",
              "    display: none;\n",
              "    fill: var(--fill-color);\n",
              "    height: 32px;\n",
              "    padding: 0;\n",
              "    width: 32px;\n",
              "  }\n",
              "\n",
              "  .colab-df-quickchart:hover {\n",
              "    background-color: var(--hover-bg-color);\n",
              "    box-shadow: 0 1px 2px rgba(60, 64, 67, 0.3), 0 1px 3px 1px rgba(60, 64, 67, 0.15);\n",
              "    fill: var(--button-hover-fill-color);\n",
              "  }\n",
              "\n",
              "  .colab-df-quickchart-complete:disabled,\n",
              "  .colab-df-quickchart-complete:disabled:hover {\n",
              "    background-color: var(--disabled-bg-color);\n",
              "    fill: var(--disabled-fill-color);\n",
              "    box-shadow: none;\n",
              "  }\n",
              "\n",
              "  .colab-df-spinner {\n",
              "    border: 2px solid var(--fill-color);\n",
              "    border-color: transparent;\n",
              "    border-bottom-color: var(--fill-color);\n",
              "    animation:\n",
              "      spin 1s steps(1) infinite;\n",
              "  }\n",
              "\n",
              "  @keyframes spin {\n",
              "    0% {\n",
              "      border-color: transparent;\n",
              "      border-bottom-color: var(--fill-color);\n",
              "      border-left-color: var(--fill-color);\n",
              "    }\n",
              "    20% {\n",
              "      border-color: transparent;\n",
              "      border-left-color: var(--fill-color);\n",
              "      border-top-color: var(--fill-color);\n",
              "    }\n",
              "    30% {\n",
              "      border-color: transparent;\n",
              "      border-left-color: var(--fill-color);\n",
              "      border-top-color: var(--fill-color);\n",
              "      border-right-color: var(--fill-color);\n",
              "    }\n",
              "    40% {\n",
              "      border-color: transparent;\n",
              "      border-right-color: var(--fill-color);\n",
              "      border-top-color: var(--fill-color);\n",
              "    }\n",
              "    60% {\n",
              "      border-color: transparent;\n",
              "      border-right-color: var(--fill-color);\n",
              "    }\n",
              "    80% {\n",
              "      border-color: transparent;\n",
              "      border-right-color: var(--fill-color);\n",
              "      border-bottom-color: var(--fill-color);\n",
              "    }\n",
              "    90% {\n",
              "      border-color: transparent;\n",
              "      border-bottom-color: var(--fill-color);\n",
              "    }\n",
              "  }\n",
              "</style>\n",
              "\n",
              "  <script>\n",
              "    async function quickchart(key) {\n",
              "      const quickchartButtonEl =\n",
              "        document.querySelector('#' + key + ' button');\n",
              "      quickchartButtonEl.disabled = true;  // To prevent multiple clicks.\n",
              "      quickchartButtonEl.classList.add('colab-df-spinner');\n",
              "      try {\n",
              "        const charts = await google.colab.kernel.invokeFunction(\n",
              "            'suggestCharts', [key], {});\n",
              "      } catch (error) {\n",
              "        console.error('Error during call to suggestCharts:', error);\n",
              "      }\n",
              "      quickchartButtonEl.classList.remove('colab-df-spinner');\n",
              "      quickchartButtonEl.classList.add('colab-df-quickchart-complete');\n",
              "    }\n",
              "    (() => {\n",
              "      let quickchartButtonEl =\n",
              "        document.querySelector('#df-4f8992c2-dd1a-4ece-93b9-25fb36582230 button');\n",
              "      quickchartButtonEl.style.display =\n",
              "        google.colab.kernel.accessAllowed ? 'block' : 'none';\n",
              "    })();\n",
              "  </script>\n",
              "</div>\n",
              "\n",
              "    </div>\n",
              "  </div>\n"
            ],
            "application/vnd.google.colaboratory.intrinsic+json": {
              "type": "dataframe",
              "variable_name": "diff",
              "summary": "{\n  \"name\": \"diff\",\n  \"rows\": 1761,\n  \"fields\": [\n    {\n      \"column\": \"date\",\n      \"properties\": {\n        \"dtype\": \"date\",\n        \"min\": \"2010-01-04 00:00:00\",\n        \"max\": \"2016-12-30 00:00:00\",\n        \"num_unique_values\": 1761,\n        \"samples\": [\n          \"2013-11-05 00:00:00\",\n          \"2016-01-26 00:00:00\",\n          \"2016-04-15 00:00:00\"\n        ],\n        \"semantic_type\": \"\",\n        \"description\": \"\"\n      }\n    },\n    {\n      \"column\": \"AAPL\",\n      \"properties\": {\n        \"dtype\": \"number\",\n        \"std\": 65.22406137167346,\n        \"min\": -5.853624022445658,\n        \"max\": 248.86418010087988,\n        \"num_unique_values\": 1761,\n        \"samples\": [\n          89.93152295461164,\n          159.06712523310938,\n          175.68976294651497\n        ],\n        \"semantic_type\": \"\",\n        \"description\": \"\"\n      }\n    },\n    {\n      \"column\": \"AMZN\",\n      \"properties\": {\n        \"dtype\": \"number\",\n        \"std\": 114.84036480851125,\n        \"min\": -10.834053925702392,\n        \"max\": 439.96783346590547,\n        \"num_unique_values\": 1761,\n        \"samples\": [\n          112.42506426566868,\n          281.0108736253081,\n          283.78146008353536\n        ],\n        \"semantic_type\": \"\",\n        \"description\": \"\"\n      }\n    },\n    {\n      \"column\": \"RIO\",\n      \"properties\": {\n        \"dtype\": \"number\",\n        \"std\": 48.3812097795081,\n        \"min\": -137.76630522232867,\n        \"max\": 20.465006949898637,\n        \"num_unique_values\": 1761,\n        \"samples\": [\n          -60.65418072964415,\n          -124.4880009373828,\n          -127.12616741837493\n        ],\n        \"semantic_type\": \"\",\n        \"description\": \"\"\n      }\n    }\n  ]\n}"
            }
          },
          "metadata": {},
          "execution_count": 18
        }
      ],
      "source": [
        "tickers = ['AAPL', 'AMZN', 'RIO']\n",
        "diff = normalized[tickers].sub(normalized['SP500'], axis=0)\n",
        "diff.head()"
      ]
    },
    {
      "cell_type": "code",
      "execution_count": 19,
      "id": "a7bcc1ee-37c9-47a0-910b-06149eff92ca",
      "metadata": {
        "id": "a7bcc1ee-37c9-47a0-910b-06149eff92ca",
        "outputId": "c7df9e8a-6a4f-4a0a-b610-1cc6655214fe",
        "colab": {
          "base_uri": "https://localhost:8080/",
          "height": 422
        }
      },
      "outputs": [
        {
          "output_type": "display_data",
          "data": {
            "text/plain": [
              "<Figure size 640x480 with 1 Axes>"
            ],
            "image/png": "[encoded data removed]"
          },
          "metadata": {}
        }
      ],
      "source": [
        "diff.plot();"
      ]
    },
    {
      "cell_type": "markdown",
      "source": [
        "### Exercises"
      ],
      "metadata": {
        "id": "l4Mo6_kGYln0"
      },
      "id": "l4Mo6_kGYln0"
    },
    {
      "cell_type": "code",
      "source": [
        "prices = pd.read_csv(data_path + 'stock_data/asset_classes.csv',\n",
        "                     parse_dates=['DATE'], index_col='DATE')\n",
        "prices.info()"
      ],
      "metadata": {
        "colab": {
          "base_uri": "https://localhost:8080/"
        },
        "id": "NLqGrEXKYrk5",
        "outputId": "c22bb87a-3721-4a41-903b-9dd7a546c3c5"
      },
      "id": "NLqGrEXKYrk5",
      "execution_count": 24,
      "outputs": [
        {
          "output_type": "stream",
          "name": "stdout",
          "text": [
            "<class 'pandas.core.frame.DataFrame'>\n",
            "DatetimeIndex: 2469 entries, 2007-06-29 to 2017-06-26\n",
            "Data columns (total 4 columns):\n",
            " #   Column  Non-Null Count  Dtype  \n",
            "---  ------  --------------  -----  \n",
            " 0   SP500   2469 non-null   float64\n",
            " 1   Bonds   2469 non-null   float64\n",
            " 2   Gold    2469 non-null   float64\n",
            " 3   Oil     2469 non-null   float64\n",
            "dtypes: float64(4)\n",
            "memory usage: 96.4 KB\n"
          ]
        }
      ]
    },
    {
      "cell_type": "code",
      "source": [
        "first_prices = prices.iloc[0]\n",
        "first_prices"
      ],
      "metadata": {
        "colab": {
          "base_uri": "https://localhost:8080/"
        },
        "id": "yT5cSdNXYroq",
        "outputId": "4a63e180-ce60-4074-91f5-e13baa680e16"
      },
      "id": "yT5cSdNXYroq",
      "execution_count": 25,
      "outputs": [
        {
          "output_type": "execute_result",
          "data": {
            "text/plain": [
              "SP500    1503.35\n",
              "Bonds     402.15\n",
              "Gold      648.50\n",
              "Oil        70.47\n",
              "Name: 2007-06-29 00:00:00, dtype: float64"
            ]
          },
          "metadata": {},
          "execution_count": 25
        }
      ]
    },
    {
      "cell_type": "code",
      "source": [
        "normalized = prices.div(first_prices).mul(100)\n",
        "normalized.head()"
      ],
      "metadata": {
        "colab": {
          "base_uri": "https://localhost:8080/",
          "height": 238
        },
        "id": "3X3qcXGlYrva",
        "outputId": "f431658a-c320-426c-9746-5cd32ca8499a"
      },
      "id": "3X3qcXGlYrva",
      "execution_count": 27,
      "outputs": [
        {
          "output_type": "execute_result",
          "data": {
            "text/plain": [
              "                 SP500       Bonds        Gold         Oil\n",
              "DATE                                                      \n",
              "2007-06-29  100.000000  100.000000  100.000000  100.000000\n",
              "2007-07-02  101.069611  100.201417  100.308404  100.908188\n",
              "2007-07-03  101.431470   99.967674  101.349268  101.333901\n",
              "2007-07-05  101.466724   99.502673  101.141095  101.901518\n",
              "2007-07-06  101.801976   99.293796   99.884348  103.306372"
            ],
            "text/html": [
              "\n",
              "  <div id=\"df-8063c2ad-916c-4c48-aca6-7179be366074\" class=\"colab-df-container\">\n",
              "    <div>\n",
              "<style scoped>\n",
              "    .dataframe tbody tr th:only-of-type {\n",
              "        vertical-align: middle;\n",
              "    }\n",
              "\n",
              "    .dataframe tbody tr th {\n",
              "        vertical-align: top;\n",
              "    }\n",
              "\n",
              "    .dataframe thead th {\n",
              "        text-align: right;\n",
              "    }\n",
              "</style>\n",
              "<table border=\"1\" class=\"dataframe\">\n",
              "  <thead>\n",
              "    <tr style=\"text-align: right;\">\n",
              "      <th></th>\n",
              "      <th>SP500</th>\n",
              "      <th>Bonds</th>\n",
              "      <th>Gold</th>\n",
              "      <th>Oil</th>\n",
              "    </tr>\n",
              "    <tr>\n",
              "      <th>DATE</th>\n",
              "      <th></th>\n",
              "      <th></th>\n",
              "      <th></th>\n",
              "      <th></th>\n",
              "    </tr>\n",
              "  </thead>\n",
              "  <tbody>\n",
              "    <tr>\n",
              "      <th>2007-06-29</th>\n",
              "      <td>100.000000</td>\n",
              "      <td>100.000000</td>\n",
              "      <td>100.000000</td>\n",
              "      <td>100.000000</td>\n",
              "    </tr>\n",
              "    <tr>\n",
              "      <th>2007-07-02</th>\n",
              "      <td>101.069611</td>\n",
              "      <td>100.201417</td>\n",
              "      <td>100.308404</td>\n",
              "      <td>100.908188</td>\n",
              "    </tr>\n",
              "    <tr>\n",
              "      <th>2007-07-03</th>\n",
              "      <td>101.431470</td>\n",
              "      <td>99.967674</td>\n",
              "      <td>101.349268</td>\n",
              "      <td>101.333901</td>\n",
              "    </tr>\n",
              "    <tr>\n",
              "      <th>2007-07-05</th>\n",
              "      <td>101.466724</td>\n",
              "      <td>99.502673</td>\n",
              "      <td>101.141095</td>\n",
              "      <td>101.901518</td>\n",
              "    </tr>\n",
              "    <tr>\n",
              "      <th>2007-07-06</th>\n",
              "      <td>101.801976</td>\n",
              "      <td>99.293796</td>\n",
              "      <td>99.884348</td>\n",
              "      <td>103.306372</td>\n",
              "    </tr>\n",
              "  </tbody>\n",
              "</table>\n",
              "</div>\n",
              "    <div class=\"colab-df-buttons\">\n",
              "\n",
              "  <div class=\"colab-df-container\">\n",
              "    <button class=\"colab-df-convert\" onclick=\"convertToInteractive('df-8063c2ad-916c-4c48-aca6-7179be366074')\"\n",
              "            title=\"Convert this dataframe to an interactive table.\"\n",
              "            style=\"display:none;\">\n",
              "\n",
              "  <svg xmlns=\"http://www.w3.org/2000/svg\" height=\"24px\" viewBox=\"0 -960 960 960\">\n",
              "    <path d=\"M120-120v-720h720v720H120Zm60-500h600v-160H180v160Zm220 220h160v-160H400v160Zm0 220h160v-160H400v160ZM180-400h160v-160H180v160Zm440 0h160v-160H620v160ZM180-180h160v-160H180v160Zm440 0h160v-160H620v160Z\"/>\n",
              "  </svg>\n",
              "    </button>\n",
              "\n",
              "  <style>\n",
              "    .colab-df-container {\n",
              "      display:flex;\n",
              "      gap: 12px;\n",
              "    }\n",
              "\n",
              "    .colab-df-convert {\n",
              "      background-color: #E8F0FE;\n",
              "      border: none;\n",
              "      border-radius: 50%;\n",
              "      cursor: pointer;\n",
              "      display: none;\n",
              "      fill: #1967D2;\n",
              "      height: 32px;\n",
              "      padding: 0 0 0 0;\n",
              "      width: 32px;\n",
              "    }\n",
              "\n",
              "    .colab-df-convert:hover {\n",
              "      background-color: #E2EBFA;\n",
              "      box-shadow: 0px 1px 2px rgba(60, 64, 67, 0.3), 0px 1px 3px 1px rgba(60, 64, 67, 0.15);\n",
              "      fill: #174EA6;\n",
              "    }\n",
              "\n",
              "    .colab-df-buttons div {\n",
              "      margin-bottom: 4px;\n",
              "    }\n",
              "\n",
              "    [theme=dark] .colab-df-convert {\n",
              "      background-color: #3B4455;\n",
              "      fill: #D2E3FC;\n",
              "    }\n",
              "\n",
              "    [theme=dark] .colab-df-convert:hover {\n",
              "      background-color: #434B5C;\n",
              "      box-shadow: 0px 1px 3px 1px rgba(0, 0, 0, 0.15);\n",
              "      filter: drop-shadow(0px 1px 2px rgba(0, 0, 0, 0.3));\n",
              "      fill: #FFFFFF;\n",
              "    }\n",
              "  </style>\n",
              "\n",
              "    <script>\n",
              "      const buttonEl =\n",
              "        document.querySelector('#df-8063c2ad-916c-4c48-aca6-7179be366074 button.colab-df-convert');\n",
              "      buttonEl.style.display =\n",
              "        google.colab.kernel.accessAllowed ? 'block' : 'none';\n",
              "\n",
              "      async function convertToInteractive(key) {\n",
              "        const element = document.querySelector('#df-8063c2ad-916c-4c48-aca6-7179be366074');\n",
              "        const dataTable =\n",
              "          await google.colab.kernel.invokeFunction('convertToInteractive',\n",
              "                                                    [key], {});\n",
              "        if (!dataTable) return;\n",
              "\n",
              "        const docLinkHtml = 'Like what you see? Visit the ' +\n",
              "          '<a target=\"_blank\" href=https://colab.research.google.com/notebooks/data_table.ipynb>data table notebook</a>'\n",
              "          + ' to learn more about interactive tables.';\n",
              "        element.innerHTML = '';\n",
              "        dataTable['output_type'] = 'display_data';\n",
              "        await google.colab.output.renderOutput(dataTable, element);\n",
              "        const docLink = document.createElement('div');\n",
              "        docLink.innerHTML = docLinkHtml;\n",
              "        element.appendChild(docLink);\n",
              "      }\n",
              "    </script>\n",
              "  </div>\n",
              "\n",
              "\n",
              "<div id=\"df-3a2ecf37-3aab-4d53-8c08-54cd19f19fb8\">\n",
              "  <button class=\"colab-df-quickchart\" onclick=\"quickchart('df-3a2ecf37-3aab-4d53-8c08-54cd19f19fb8')\"\n",
              "            title=\"Suggest charts\"\n",
              "            style=\"display:none;\">\n",
              "\n",
              "<svg xmlns=\"http://www.w3.org/2000/svg\" height=\"24px\"viewBox=\"0 0 24 24\"\n",
              "     width=\"24px\">\n",
              "    <g>\n",
              "        <path d=\"M19 3H5c-1.1 0-2 .9-2 2v14c0 1.1.9 2 2 2h14c1.1 0 2-.9 2-2V5c0-1.1-.9-2-2-2zM9 17H7v-7h2v7zm4 0h-2V7h2v10zm4 0h-2v-4h2v4z\"/>\n",
              "    </g>\n",
              "</svg>\n",
              "  </button>\n",
              "\n",
              "<style>\n",
              "  .colab-df-quickchart {\n",
              "      --bg-color: #E8F0FE;\n",
              "      --fill-color: #1967D2;\n",
              "      --hover-bg-color: #E2EBFA;\n",
              "      --hover-fill-color: #174EA6;\n",
              "      --disabled-fill-color: #AAA;\n",
              "      --disabled-bg-color: #DDD;\n",
              "  }\n",
              "\n",
              "  [theme=dark] .colab-df-quickchart {\n",
              "      --bg-color: #3B4455;\n",
              "      --fill-color: #D2E3FC;\n",
              "      --hover-bg-color: #434B5C;\n",
              "      --hover-fill-color: #FFFFFF;\n",
              "      --disabled-bg-color: #3B4455;\n",
              "      --disabled-fill-color: #666;\n",
              "  }\n",
              "\n",
              "  .colab-df-quickchart {\n",
              "    background-color: var(--bg-color);\n",
              "    border: none;\n",
              "    border-radius: 50%;\n",
              "    cursor: pointer;\n",
              "    display: none;\n",
              "    fill: var(--fill-color);\n",
              "    height: 32px;\n",
              "    padding: 0;\n",
              "    width: 32px;\n",
              "  }\n",
              "\n",
              "  .colab-df-quickchart:hover {\n",
              "    background-color: var(--hover-bg-color);\n",
              "    box-shadow: 0 1px 2px rgba(60, 64, 67, 0.3), 0 1px 3px 1px rgba(60, 64, 67, 0.15);\n",
              "    fill: var(--button-hover-fill-color);\n",
              "  }\n",
              "\n",
              "  .colab-df-quickchart-complete:disabled,\n",
              "  .colab-df-quickchart-complete:disabled:hover {\n",
              "    background-color: var(--disabled-bg-color);\n",
              "    fill: var(--disabled-fill-color);\n",
              "    box-shadow: none;\n",
              "  }\n",
              "\n",
              "  .colab-df-spinner {\n",
              "    border: 2px solid var(--fill-color);\n",
              "    border-color: transparent;\n",
              "    border-bottom-color: var(--fill-color);\n",
              "    animation:\n",
              "      spin 1s steps(1) infinite;\n",
              "  }\n",
              "\n",
              "  @keyframes spin {\n",
              "    0% {\n",
              "      border-color: transparent;\n",
              "      border-bottom-color: var(--fill-color);\n",
              "      border-left-color: var(--fill-color);\n",
              "    }\n",
              "    20% {\n",
              "      border-color: transparent;\n",
              "      border-left-color: var(--fill-color);\n",
              "      border-top-color: var(--fill-color);\n",
              "    }\n",
              "    30% {\n",
              "      border-color: transparent;\n",
              "      border-left-color: var(--fill-color);\n",
              "      border-top-color: var(--fill-color);\n",
              "      border-right-color: var(--fill-color);\n",
              "    }\n",
              "    40% {\n",
              "      border-color: transparent;\n",
              "      border-right-color: var(--fill-color);\n",
              "      border-top-color: var(--fill-color);\n",
              "    }\n",
              "    60% {\n",
              "      border-color: transparent;\n",
              "      border-right-color: var(--fill-color);\n",
              "    }\n",
              "    80% {\n",
              "      border-color: transparent;\n",
              "      border-right-color: var(--fill-color);\n",
              "      border-bottom-color: var(--fill-color);\n",
              "    }\n",
              "    90% {\n",
              "      border-color: transparent;\n",
              "      border-bottom-color: var(--fill-color);\n",
              "    }\n",
              "  }\n",
              "</style>\n",
              "\n",
              "  <script>\n",
              "    async function quickchart(key) {\n",
              "      const quickchartButtonEl =\n",
              "        document.querySelector('#' + key + ' button');\n",
              "      quickchartButtonEl.disabled = true;  // To prevent multiple clicks.\n",
              "      quickchartButtonEl.classList.add('colab-df-spinner');\n",
              "      try {\n",
              "        const charts = await google.colab.kernel.invokeFunction(\n",
              "            'suggestCharts', [key], {});\n",
              "      } catch (error) {\n",
              "        console.error('Error during call to suggestCharts:', error);\n",
              "      }\n",
              "      quickchartButtonEl.classList.remove('colab-df-spinner');\n",
              "      quickchartButtonEl.classList.add('colab-df-quickchart-complete');\n",
              "    }\n",
              "    (() => {\n",
              "      let quickchartButtonEl =\n",
              "        document.querySelector('#df-3a2ecf37-3aab-4d53-8c08-54cd19f19fb8 button');\n",
              "      quickchartButtonEl.style.display =\n",
              "        google.colab.kernel.accessAllowed ? 'block' : 'none';\n",
              "    })();\n",
              "  </script>\n",
              "</div>\n",
              "\n",
              "    </div>\n",
              "  </div>\n"
            ],
            "application/vnd.google.colaboratory.intrinsic+json": {
              "type": "dataframe",
              "variable_name": "normalized",
              "summary": "{\n  \"name\": \"normalized\",\n  \"rows\": 2469,\n  \"fields\": [\n    {\n      \"column\": \"DATE\",\n      \"properties\": {\n        \"dtype\": \"date\",\n        \"min\": \"2007-06-29 00:00:00\",\n        \"max\": \"2017-06-26 00:00:00\",\n        \"num_unique_values\": 2469,\n        \"samples\": [\n          \"2015-09-24 00:00:00\",\n          \"2013-06-06 00:00:00\",\n          \"2014-05-29 00:00:00\"\n        ],\n        \"semantic_type\": \"\",\n        \"description\": \"\"\n      }\n    },\n    {\n      \"column\": \"SP500\",\n      \"properties\": {\n        \"dtype\": \"number\",\n        \"std\": 28.791698772210474,\n        \"min\": 45.001496657465,\n        \"max\": 163.19952106961122,\n        \"num_unique_values\": 2448,\n        \"samples\": [\n          124.32168157780956,\n          112.5320118402235,\n          95.01380250773275\n        ],\n        \"semantic_type\": \"\",\n        \"description\": \"\"\n      }\n    },\n    {\n      \"column\": \"Bonds\",\n      \"properties\": {\n        \"dtype\": \"number\",\n        \"std\": 15.734083910925651,\n        \"min\": 96.18301628745493,\n        \"max\": 156.90911351485767,\n        \"num_unique_values\": 2277,\n        \"samples\": [\n          122.16585851050603,\n          104.520701230884,\n          102.3448961830163\n        ],\n        \"semantic_type\": \"\",\n        \"description\": \"\"\n      }\n    },\n    {\n      \"column\": \"Gold\",\n      \"properties\": {\n        \"dtype\": \"number\",\n        \"std\": 42.23934624140257,\n        \"min\": 99.88434849653045,\n        \"max\": 291.59599074787974,\n        \"num_unique_values\": 1904,\n        \"samples\": [\n          201.31071703932153,\n          124.40246723207402,\n          171.35697764070932\n        ],\n        \"semantic_type\": \"\",\n        \"description\": \"\"\n      }\n    },\n    {\n      \"column\": \"Oil\",\n      \"properties\": {\n        \"dtype\": \"number\",\n        \"std\": 34.361303595750165,\n        \"min\": 37.16475095785441,\n        \"max\": 206.2012203774656,\n        \"num_unique_values\": 2072,\n        \"samples\": [\n          155.55555555555557,\n          105.74712643678161,\n          101.4899957428693\n        ],\n        \"semantic_type\": \"\",\n        \"description\": \"\"\n      }\n    }\n  ]\n}"
            }
          },
          "metadata": {},
          "execution_count": 27
        }
      ]
    },
    {
      "cell_type": "code",
      "source": [
        "normalized.plot()\n",
        "plt.tight_layout()\n",
        "plt.show()"
      ],
      "metadata": {
        "colab": {
          "base_uri": "https://localhost:8080/",
          "height": 486
        },
        "id": "Mi_HmlXGYrz_",
        "outputId": "d5ba3c66-b804-4e45-baea-1eb9dd92afe6"
      },
      "id": "Mi_HmlXGYrz_",
      "execution_count": 28,
      "outputs": [
        {
          "output_type": "display_data",
          "data": {
            "text/plain": [
              "<Figure size 640x480 with 1 Axes>"
            ],
            "image/png": "[encoded data removed]"
          },
          "metadata": {}
        }
      ]
    },
    {
      "cell_type": "code",
      "source": [
        "stocks = pd.read_csv(data_path + 'stock_data/nyse.csv', parse_dates=['date'], index_col='date')\n",
        "dow_jones = pd.read_csv(data_path + 'stock_data/dow_jones.csv', parse_dates=['date'], index_col='date')"
      ],
      "metadata": {
        "id": "tuhpvYWqblKY"
      },
      "id": "tuhpvYWqblKY",
      "execution_count": 29,
      "outputs": []
    },
    {
      "cell_type": "code",
      "source": [
        "stocks.info()"
      ],
      "metadata": {
        "colab": {
          "base_uri": "https://localhost:8080/"
        },
        "id": "f8qpMYYlbr4X",
        "outputId": "4331c5d9-69fe-4dd3-ba42-f01275aafd30"
      },
      "id": "f8qpMYYlbr4X",
      "execution_count": 30,
      "outputs": [
        {
          "output_type": "stream",
          "name": "stdout",
          "text": [
            "<class 'pandas.core.frame.DataFrame'>\n",
            "DatetimeIndex: 1762 entries, 2010-01-04 to 2016-12-30\n",
            "Data columns (total 3 columns):\n",
            " #   Column  Non-Null Count  Dtype  \n",
            "---  ------  --------------  -----  \n",
            " 0   JNJ     1762 non-null   float64\n",
            " 1   JPM     1762 non-null   float64\n",
            " 2   XOM     1762 non-null   float64\n",
            "dtypes: float64(3)\n",
            "memory usage: 55.1 KB\n"
          ]
        }
      ]
    },
    {
      "cell_type": "code",
      "source": [
        "dow_jones.info()"
      ],
      "metadata": {
        "colab": {
          "base_uri": "https://localhost:8080/"
        },
        "id": "ZSHKseXObt1E",
        "outputId": "78b545d7-2d36-4b9d-9cb5-d4e99932d4d8"
      },
      "id": "ZSHKseXObt1E",
      "execution_count": 31,
      "outputs": [
        {
          "output_type": "stream",
          "name": "stdout",
          "text": [
            "<class 'pandas.core.frame.DataFrame'>\n",
            "DatetimeIndex: 1762 entries, 2010-01-04 to 2016-12-30\n",
            "Data columns (total 1 columns):\n",
            " #   Column  Non-Null Count  Dtype  \n",
            "---  ------  --------------  -----  \n",
            " 0   DJIA    1762 non-null   float64\n",
            "dtypes: float64(1)\n",
            "memory usage: 27.5 KB\n"
          ]
        }
      ]
    },
    {
      "cell_type": "code",
      "source": [
        "data = pd.concat([stocks, dow_jones], axis=1)\n",
        "data.info()"
      ],
      "metadata": {
        "colab": {
          "base_uri": "https://localhost:8080/"
        },
        "id": "rs_CMdbtb0sA",
        "outputId": "7e9e0240-7d9a-4c4f-f865-548cdde64169"
      },
      "id": "rs_CMdbtb0sA",
      "execution_count": 32,
      "outputs": [
        {
          "output_type": "stream",
          "name": "stdout",
          "text": [
            "<class 'pandas.core.frame.DataFrame'>\n",
            "DatetimeIndex: 1762 entries, 2010-01-04 to 2016-12-30\n",
            "Data columns (total 4 columns):\n",
            " #   Column  Non-Null Count  Dtype  \n",
            "---  ------  --------------  -----  \n",
            " 0   JNJ     1762 non-null   float64\n",
            " 1   JPM     1762 non-null   float64\n",
            " 2   XOM     1762 non-null   float64\n",
            " 3   DJIA    1762 non-null   float64\n",
            "dtypes: float64(4)\n",
            "memory usage: 68.8 KB\n"
          ]
        }
      ]
    },
    {
      "cell_type": "code",
      "source": [
        "data.div(data.iloc[0]).mul(100).plot()\n",
        "plt.tight_layout()\n",
        "plt.show()"
      ],
      "metadata": {
        "colab": {
          "base_uri": "https://localhost:8080/",
          "height": 487
        },
        "id": "bwNhtOyocSK0",
        "outputId": "8242b1ba-e45d-45a0-c4fd-f8f23b311e6e"
      },
      "id": "bwNhtOyocSK0",
      "execution_count": 37,
      "outputs": [
        {
          "output_type": "display_data",
          "data": {
            "text/plain": [
              "<Figure size 640x480 with 1 Axes>"
            ],
            "image/png": "[encoded data removed]"
          },
          "metadata": {}
        }
      ]
    },
    {
      "cell_type": "code",
      "source": [
        "# Create tickers\n",
        "tickers = ['MSFT', 'AAPL']\n",
        "\n",
        "# Import stock data here\n",
        "stocks = pd.read_csv(data_path + 'stock_data/msft_aapl.csv', parse_dates=['date'], index_col='date')\n",
        "\n",
        "# Import index here\n",
        "sp500 = pd.read_csv(data_path + 'stock_data/sp500.csv', parse_dates=['date'], index_col='date')"
      ],
      "metadata": {
        "id": "9xqHELq1dPeq"
      },
      "id": "9xqHELq1dPeq",
      "execution_count": 41,
      "outputs": []
    },
    {
      "cell_type": "code",
      "source": [
        "stocks.info()"
      ],
      "metadata": {
        "colab": {
          "base_uri": "https://localhost:8080/"
        },
        "id": "43EsZOHGdPiC",
        "outputId": "aa7d6146-ff73-4890-8e9c-fb96c292a363"
      },
      "id": "43EsZOHGdPiC",
      "execution_count": 44,
      "outputs": [
        {
          "output_type": "stream",
          "name": "stdout",
          "text": [
            "<class 'pandas.core.frame.DataFrame'>\n",
            "DatetimeIndex: 2517 entries, 2007-01-03 to 2016-12-30\n",
            "Data columns (total 2 columns):\n",
            " #   Column  Non-Null Count  Dtype  \n",
            "---  ------  --------------  -----  \n",
            " 0   AAPL    2517 non-null   float64\n",
            " 1   MSFT    2517 non-null   float64\n",
            "dtypes: float64(2)\n",
            "memory usage: 59.0 KB\n"
          ]
        }
      ]
    },
    {
      "cell_type": "code",
      "source": [
        "sp500.info()"
      ],
      "metadata": {
        "colab": {
          "base_uri": "https://localhost:8080/"
        },
        "id": "KtKWW5C-dPlX",
        "outputId": "21cac021-2d93-499c-dc4c-f0354eea0d49"
      },
      "id": "KtKWW5C-dPlX",
      "execution_count": 45,
      "outputs": [
        {
          "output_type": "stream",
          "name": "stdout",
          "text": [
            "<class 'pandas.core.frame.DataFrame'>\n",
            "DatetimeIndex: 2395 entries, 2007-06-29 to 2016-12-30\n",
            "Data columns (total 1 columns):\n",
            " #   Column  Non-Null Count  Dtype  \n",
            "---  ------  --------------  -----  \n",
            " 0   SP500   2395 non-null   float64\n",
            "dtypes: float64(1)\n",
            "memory usage: 37.4 KB\n"
          ]
        }
      ]
    },
    {
      "cell_type": "code",
      "source": [
        "data = pd.concat([stocks, sp500], axis=1).dropna()\n",
        "data.info()"
      ],
      "metadata": {
        "colab": {
          "base_uri": "https://localhost:8080/"
        },
        "id": "fvoMs69keoLV",
        "outputId": "04dd68d4-1418-4766-f2a6-2680513ae8d3"
      },
      "id": "fvoMs69keoLV",
      "execution_count": 46,
      "outputs": [
        {
          "output_type": "stream",
          "name": "stdout",
          "text": [
            "<class 'pandas.core.frame.DataFrame'>\n",
            "DatetimeIndex: 2394 entries, 2007-06-29 to 2016-12-30\n",
            "Data columns (total 3 columns):\n",
            " #   Column  Non-Null Count  Dtype  \n",
            "---  ------  --------------  -----  \n",
            " 0   AAPL    2394 non-null   float64\n",
            " 1   MSFT    2394 non-null   float64\n",
            " 2   SP500   2394 non-null   float64\n",
            "dtypes: float64(3)\n",
            "memory usage: 74.8 KB\n"
          ]
        }
      ]
    },
    {
      "cell_type": "code",
      "source": [
        "normalized = data.div(data.iloc[0]).mul(100)\n",
        "normalized.info()"
      ],
      "metadata": {
        "colab": {
          "base_uri": "https://localhost:8080/"
        },
        "id": "7QRzCCJae8rI",
        "outputId": "f369a7cf-7cf1-40b5-a04f-a168b2edb707"
      },
      "id": "7QRzCCJae8rI",
      "execution_count": 48,
      "outputs": [
        {
          "output_type": "stream",
          "name": "stdout",
          "text": [
            "<class 'pandas.core.frame.DataFrame'>\n",
            "DatetimeIndex: 2394 entries, 2007-06-29 to 2016-12-30\n",
            "Data columns (total 3 columns):\n",
            " #   Column  Non-Null Count  Dtype  \n",
            "---  ------  --------------  -----  \n",
            " 0   AAPL    2394 non-null   float64\n",
            " 1   MSFT    2394 non-null   float64\n",
            " 2   SP500   2394 non-null   float64\n",
            "dtypes: float64(3)\n",
            "memory usage: 74.8 KB\n"
          ]
        }
      ]
    },
    {
      "cell_type": "code",
      "source": [
        "normalized[tickers].sub(normalized['SP500'], axis=0).plot()\n",
        "plt.tight_layout()\n",
        "plt.show()"
      ],
      "metadata": {
        "colab": {
          "base_uri": "https://localhost:8080/",
          "height": 487
        },
        "id": "viw8EIhUfEnA",
        "outputId": "21daa99f-eba5-4112-b09a-ad9ae8d84325"
      },
      "id": "viw8EIhUfEnA",
      "execution_count": 50,
      "outputs": [
        {
          "output_type": "display_data",
          "data": {
            "text/plain": [
              "<Figure size 640x480 with 1 Axes>"
            ],
            "image/png": "[encoded data removed]"
          },
          "metadata": {}
        }
      ]
    },
    {
      "cell_type": "markdown",
      "id": "7c667c6d-daca-44e0-9e13-2fbfa0c06b34",
      "metadata": {
        "id": "7c667c6d-daca-44e0-9e13-2fbfa0c06b34"
      },
      "source": [
        "## Changing the time series fequency: resampling\n",
        "\n",
        "- `DateTimeIndex`: set and change frequency using `.asfreq()`\n",
        "- but frequency conversion affects the data\n",
        "  - **Upsampling**\n",
        "    - convert the data to a higher frequency\n",
        "    - adds new rows\n",
        "    - fill or interpolate missing data\n",
        "  - **Downsampling**\n",
        "    - convert the data to a lower frequency\n",
        "    - reduces number of rows\n",
        "    - need to tell pandas how to aggregate existing data\n",
        "- pandas API\n",
        "  - `.asfreq()`\n",
        "  - `.reindex()`\n",
        "  - `.resample()` + transformation method"
      ]
    },
    {
      "cell_type": "markdown",
      "id": "621bd635-0b87-4b9f-9bac-82763038fefd",
      "metadata": {
        "id": "621bd635-0b87-4b9f-9bac-82763038fefd"
      },
      "source": [
        "### Upsampling\n",
        "\n",
        "- convert the data to a higher frequency\n",
        "- adds new rows\n",
        "- fill or interpolate missing data"
      ]
    },
    {
      "cell_type": "code",
      "execution_count": null,
      "id": "e7933596-5641-43a9-bc3e-f085c34d3998",
      "metadata": {
        "id": "e7933596-5641-43a9-bc3e-f085c34d3998",
        "outputId": "a51977c2-ede9-416d-9a0a-4c044464b10d"
      },
      "outputs": [
        {
          "data": {
            "text/plain": [
              "2016-03-31    1\n",
              "2016-06-30    2\n",
              "2016-09-30    3\n",
              "2016-12-31    4\n",
              "Freq: Q-DEC, dtype: int64"
            ]
          },
          "execution_count": 16,
          "metadata": {},
          "output_type": "execute_result"
        }
      ],
      "source": [
        "dates = pd.date_range(start='2016', periods=4, freq='Q')\n",
        "data = range(1, 5)\n",
        "quarterly = pd.Series(data=data, index=dates)\n",
        "quarterly"
      ]
    },
    {
      "cell_type": "code",
      "execution_count": null,
      "id": "218b6f61-65ac-4531-b4d8-948f106477eb",
      "metadata": {
        "id": "218b6f61-65ac-4531-b4d8-948f106477eb",
        "outputId": "4f74e62c-6d5e-464a-9563-9ae96e2de0a6"
      },
      "outputs": [
        {
          "data": {
            "text/plain": [
              "2016-03-31    1.0\n",
              "2016-04-30    NaN\n",
              "2016-05-31    NaN\n",
              "2016-06-30    2.0\n",
              "2016-07-31    NaN\n",
              "2016-08-31    NaN\n",
              "2016-09-30    3.0\n",
              "2016-10-31    NaN\n",
              "2016-11-30    NaN\n",
              "2016-12-31    4.0\n",
              "Freq: M, dtype: float64"
            ]
          },
          "execution_count": 17,
          "metadata": {},
          "output_type": "execute_result"
        }
      ],
      "source": [
        "# new dates are added BETWEEN the existing dates\n",
        "monthly = quarterly.asfreq('M')\n",
        "monthly"
      ]
    },
    {
      "cell_type": "markdown",
      "id": "25483aba-e703-459c-bfcd-ebdd3427dbc8",
      "metadata": {
        "id": "25483aba-e703-459c-bfcd-ebdd3427dbc8"
      },
      "source": [
        "#### Three ways to deal with missing data as a result of upsamplinig\n",
        "\n",
        "- `method='ffill'`\n",
        "- `method='bfill'`\n",
        "- `fill_value=value`"
      ]
    },
    {
      "cell_type": "code",
      "execution_count": null,
      "id": "1d2b4e1b-1fed-4753-a05f-f6ac17ac209f",
      "metadata": {
        "id": "1d2b4e1b-1fed-4753-a05f-f6ac17ac209f",
        "outputId": "1cac687d-f7cd-4184-c525-362a5f54873e"
      },
      "outputs": [
        {
          "data": {
            "text/html": [
              "<div>\n",
              "<style scoped>\n",
              "    .dataframe tbody tr th:only-of-type {\n",
              "        vertical-align: middle;\n",
              "    }\n",
              "\n",
              "    .dataframe tbody tr th {\n",
              "        vertical-align: top;\n",
              "    }\n",
              "\n",
              "    .dataframe thead th {\n",
              "        text-align: right;\n",
              "    }\n",
              "</style>\n",
              "<table border=\"1\" class=\"dataframe\">\n",
              "  <thead>\n",
              "    <tr style=\"text-align: right;\">\n",
              "      <th></th>\n",
              "      <th>baseline</th>\n",
              "    </tr>\n",
              "  </thead>\n",
              "  <tbody>\n",
              "    <tr>\n",
              "      <th>2016-03-31</th>\n",
              "      <td>1.0</td>\n",
              "    </tr>\n",
              "    <tr>\n",
              "      <th>2016-04-30</th>\n",
              "      <td>NaN</td>\n",
              "    </tr>\n",
              "    <tr>\n",
              "      <th>2016-05-31</th>\n",
              "      <td>NaN</td>\n",
              "    </tr>\n",
              "    <tr>\n",
              "      <th>2016-06-30</th>\n",
              "      <td>2.0</td>\n",
              "    </tr>\n",
              "    <tr>\n",
              "      <th>2016-07-31</th>\n",
              "      <td>NaN</td>\n",
              "    </tr>\n",
              "    <tr>\n",
              "      <th>2016-08-31</th>\n",
              "      <td>NaN</td>\n",
              "    </tr>\n",
              "    <tr>\n",
              "      <th>2016-09-30</th>\n",
              "      <td>3.0</td>\n",
              "    </tr>\n",
              "    <tr>\n",
              "      <th>2016-10-31</th>\n",
              "      <td>NaN</td>\n",
              "    </tr>\n",
              "    <tr>\n",
              "      <th>2016-11-30</th>\n",
              "      <td>NaN</td>\n",
              "    </tr>\n",
              "    <tr>\n",
              "      <th>2016-12-31</th>\n",
              "      <td>4.0</td>\n",
              "    </tr>\n",
              "  </tbody>\n",
              "</table>\n",
              "</div>"
            ],
            "text/plain": [
              "            baseline\n",
              "2016-03-31       1.0\n",
              "2016-04-30       NaN\n",
              "2016-05-31       NaN\n",
              "2016-06-30       2.0\n",
              "2016-07-31       NaN\n",
              "2016-08-31       NaN\n",
              "2016-09-30       3.0\n",
              "2016-10-31       NaN\n",
              "2016-11-30       NaN\n",
              "2016-12-31       4.0"
            ]
          },
          "execution_count": 18,
          "metadata": {},
          "output_type": "execute_result"
        }
      ],
      "source": [
        "# Series to DataFrame passing column name as parameter\n",
        "monthly = monthly.to_frame('baseline')\n",
        "monthly"
      ]
    },
    {
      "cell_type": "code",
      "execution_count": null,
      "id": "5bd6e5eb-7047-4413-a6fc-78d9e211b3ef",
      "metadata": {
        "id": "5bd6e5eb-7047-4413-a6fc-78d9e211b3ef",
        "outputId": "5d82d92a-f8b2-429c-a4f7-9615e8e9ba57"
      },
      "outputs": [
        {
          "data": {
            "text/html": [
              "<div>\n",
              "<style scoped>\n",
              "    .dataframe tbody tr th:only-of-type {\n",
              "        vertical-align: middle;\n",
              "    }\n",
              "\n",
              "    .dataframe tbody tr th {\n",
              "        vertical-align: top;\n",
              "    }\n",
              "\n",
              "    .dataframe thead th {\n",
              "        text-align: right;\n",
              "    }\n",
              "</style>\n",
              "<table border=\"1\" class=\"dataframe\">\n",
              "  <thead>\n",
              "    <tr style=\"text-align: right;\">\n",
              "      <th></th>\n",
              "      <th>baseline</th>\n",
              "      <th>ffill</th>\n",
              "      <th>bfill</th>\n",
              "      <th>value</th>\n",
              "    </tr>\n",
              "  </thead>\n",
              "  <tbody>\n",
              "    <tr>\n",
              "      <th>2016-03-31</th>\n",
              "      <td>1.0</td>\n",
              "      <td>1</td>\n",
              "      <td>1</td>\n",
              "      <td>1</td>\n",
              "    </tr>\n",
              "    <tr>\n",
              "      <th>2016-04-30</th>\n",
              "      <td>NaN</td>\n",
              "      <td>1</td>\n",
              "      <td>2</td>\n",
              "      <td>0</td>\n",
              "    </tr>\n",
              "    <tr>\n",
              "      <th>2016-05-31</th>\n",
              "      <td>NaN</td>\n",
              "      <td>1</td>\n",
              "      <td>2</td>\n",
              "      <td>0</td>\n",
              "    </tr>\n",
              "    <tr>\n",
              "      <th>2016-06-30</th>\n",
              "      <td>2.0</td>\n",
              "      <td>2</td>\n",
              "      <td>2</td>\n",
              "      <td>2</td>\n",
              "    </tr>\n",
              "    <tr>\n",
              "      <th>2016-07-31</th>\n",
              "      <td>NaN</td>\n",
              "      <td>2</td>\n",
              "      <td>3</td>\n",
              "      <td>0</td>\n",
              "    </tr>\n",
              "    <tr>\n",
              "      <th>2016-08-31</th>\n",
              "      <td>NaN</td>\n",
              "      <td>2</td>\n",
              "      <td>3</td>\n",
              "      <td>0</td>\n",
              "    </tr>\n",
              "    <tr>\n",
              "      <th>2016-09-30</th>\n",
              "      <td>3.0</td>\n",
              "      <td>3</td>\n",
              "      <td>3</td>\n",
              "      <td>3</td>\n",
              "    </tr>\n",
              "    <tr>\n",
              "      <th>2016-10-31</th>\n",
              "      <td>NaN</td>\n",
              "      <td>3</td>\n",
              "      <td>4</td>\n",
              "      <td>0</td>\n",
              "    </tr>\n",
              "    <tr>\n",
              "      <th>2016-11-30</th>\n",
              "      <td>NaN</td>\n",
              "      <td>3</td>\n",
              "      <td>4</td>\n",
              "      <td>0</td>\n",
              "    </tr>\n",
              "    <tr>\n",
              "      <th>2016-12-31</th>\n",
              "      <td>4.0</td>\n",
              "      <td>4</td>\n",
              "      <td>4</td>\n",
              "      <td>4</td>\n",
              "    </tr>\n",
              "  </tbody>\n",
              "</table>\n",
              "</div>"
            ],
            "text/plain": [
              "            baseline  ffill  bfill  value\n",
              "2016-03-31       1.0      1      1      1\n",
              "2016-04-30       NaN      1      2      0\n",
              "2016-05-31       NaN      1      2      0\n",
              "2016-06-30       2.0      2      2      2\n",
              "2016-07-31       NaN      2      3      0\n",
              "2016-08-31       NaN      2      3      0\n",
              "2016-09-30       3.0      3      3      3\n",
              "2016-10-31       NaN      3      4      0\n",
              "2016-11-30       NaN      3      4      0\n",
              "2016-12-31       4.0      4      4      4"
            ]
          },
          "execution_count": 19,
          "metadata": {},
          "output_type": "execute_result"
        }
      ],
      "source": [
        "monthly['ffill'] = quarterly.asfreq('M', method='ffill')\n",
        "monthly['bfill'] = quarterly.asfreq('M', method='bfill')\n",
        "monthly['value'] = quarterly.asfreq('M', fill_value=0)\n",
        "monthly"
      ]
    },
    {
      "cell_type": "markdown",
      "id": "3ac45d13-a74a-4102-a2ec-3cbff0cdb083",
      "metadata": {
        "id": "3ac45d13-a74a-4102-a2ec-3cbff0cdb083"
      },
      "source": [
        "#### `.reindex()`\n",
        "\n",
        "- like using `.asfreq()`, but instead of adding new dates **between** as above, you have control of what the new dates are\n",
        "- same filling logic as `.asfreq()` with `method` and `fill_value` parameters"
      ]
    },
    {
      "cell_type": "code",
      "execution_count": null,
      "id": "7c2d7af6-28ca-4cbb-a985-d0296fadf5e4",
      "metadata": {
        "id": "7c2d7af6-28ca-4cbb-a985-d0296fadf5e4",
        "outputId": "85a08bf8-f775-45d7-cb13-5ac5c50db3f9"
      },
      "outputs": [
        {
          "data": {
            "text/plain": [
              "DatetimeIndex(['2016-01-31', '2016-02-29', '2016-03-31', '2016-04-30',\n",
              "               '2016-05-31', '2016-06-30', '2016-07-31', '2016-08-31',\n",
              "               '2016-09-30', '2016-10-31', '2016-11-30', '2016-12-31'],\n",
              "              dtype='datetime64[ns]', freq='M')"
            ]
          },
          "execution_count": 20,
          "metadata": {},
          "output_type": "execute_result"
        }
      ],
      "source": [
        "dates = pd.date_range(start='2016', periods=12, freq='M')\n",
        "dates"
      ]
    },
    {
      "cell_type": "code",
      "execution_count": null,
      "id": "35b592c2-b3ee-4b08-a39e-0ab64564b855",
      "metadata": {
        "id": "35b592c2-b3ee-4b08-a39e-0ab64564b855",
        "outputId": "bee35d5e-716e-4863-9b59-d34955be9b35"
      },
      "outputs": [
        {
          "data": {
            "text/plain": [
              "2016-03-31    1\n",
              "2016-06-30    2\n",
              "2016-09-30    3\n",
              "2016-12-31    4\n",
              "Freq: Q-DEC, dtype: int64"
            ]
          },
          "execution_count": 21,
          "metadata": {},
          "output_type": "execute_result"
        }
      ],
      "source": [
        "quarterly"
      ]
    },
    {
      "cell_type": "code",
      "execution_count": null,
      "id": "75aed367-231a-4ecb-a359-42dd15851596",
      "metadata": {
        "id": "75aed367-231a-4ecb-a359-42dd15851596",
        "outputId": "ba600265-112b-427d-d7cd-c0f7261a0e05"
      },
      "outputs": [
        {
          "data": {
            "text/plain": [
              "2016-01-31    NaN\n",
              "2016-02-29    NaN\n",
              "2016-03-31    1.0\n",
              "2016-04-30    NaN\n",
              "2016-05-31    NaN\n",
              "2016-06-30    2.0\n",
              "2016-07-31    NaN\n",
              "2016-08-31    NaN\n",
              "2016-09-30    3.0\n",
              "2016-10-31    NaN\n",
              "2016-11-30    NaN\n",
              "2016-12-31    4.0\n",
              "Freq: M, dtype: float64"
            ]
          },
          "execution_count": 22,
          "metadata": {},
          "output_type": "execute_result"
        }
      ],
      "source": [
        "quarterly.reindex(dates)"
      ]
    },
    {
      "cell_type": "markdown",
      "id": "b33935c2-ae7a-405c-b199-65eccc7178c8",
      "metadata": {
        "id": "b33935c2-ae7a-405c-b199-65eccc7178c8"
      },
      "source": [
        "## Upsampling and interpolation with `.resample()`\n",
        "\n",
        "- `.resample()` follows a logic similar to `.groupby()`\n",
        "- It groups data within resampling period and applies one or several methods to each group\n",
        "- New date determined by offset: start, end, custom\n",
        "- **Upsampling**: fill from existing or interpolate values\n",
        "- **Downsampling**: apply aggregation to existing data"
      ]
    },
    {
      "cell_type": "markdown",
      "id": "c5276356-f3dc-40b1-bb1d-75f4bf29a927",
      "metadata": {
        "id": "c5276356-f3dc-40b1-bb1d-75f4bf29a927"
      },
      "source": [
        "### Create weekly from monthly unemployment data"
      ]
    },
    {
      "cell_type": "code",
      "execution_count": null,
      "id": "a2514d9d-a495-4228-a351-e9637aba0c78",
      "metadata": {
        "id": "a2514d9d-a495-4228-a351-e9637aba0c78",
        "outputId": "765329a1-3323-42dc-ffee-6369fb169f22"
      },
      "outputs": [
        {
          "name": "stdout",
          "output_type": "stream",
          "text": [
            "<class 'pandas.core.frame.DataFrame'>\n",
            "DatetimeIndex: 209 entries, 2000-01-01 to 2017-05-01\n",
            "Data columns (total 1 columns):\n",
            " #   Column  Non-Null Count  Dtype  \n",
            "---  ------  --------------  -----  \n",
            " 0   UNRATE  209 non-null    float64\n",
            "dtypes: float64(1)\n",
            "memory usage: 3.3 KB\n"
          ]
        }
      ],
      "source": [
        "unrate = pd.read_csv('stock_data/unrate_2000.csv', parse_dates=['date'], index_col='date')\n",
        "unrate.info()"
      ]
    },
    {
      "cell_type": "code",
      "execution_count": null,
      "id": "6483c921-a5b3-4274-9026-586ea16d018a",
      "metadata": {
        "id": "6483c921-a5b3-4274-9026-586ea16d018a",
        "outputId": "b5661263-455a-4226-b38f-1bf32f2b6e45"
      },
      "outputs": [
        {
          "data": {
            "text/html": [
              "<div>\n",
              "<style scoped>\n",
              "    .dataframe tbody tr th:only-of-type {\n",
              "        vertical-align: middle;\n",
              "    }\n",
              "\n",
              "    .dataframe tbody tr th {\n",
              "        vertical-align: top;\n",
              "    }\n",
              "\n",
              "    .dataframe thead th {\n",
              "        text-align: right;\n",
              "    }\n",
              "</style>\n",
              "<table border=\"1\" class=\"dataframe\">\n",
              "  <thead>\n",
              "    <tr style=\"text-align: right;\">\n",
              "      <th></th>\n",
              "      <th>UNRATE</th>\n",
              "    </tr>\n",
              "    <tr>\n",
              "      <th>date</th>\n",
              "      <th></th>\n",
              "    </tr>\n",
              "  </thead>\n",
              "  <tbody>\n",
              "    <tr>\n",
              "      <th>2000-01-01</th>\n",
              "      <td>4.0</td>\n",
              "    </tr>\n",
              "    <tr>\n",
              "      <th>2000-02-01</th>\n",
              "      <td>4.1</td>\n",
              "    </tr>\n",
              "    <tr>\n",
              "      <th>2000-03-01</th>\n",
              "      <td>4.0</td>\n",
              "    </tr>\n",
              "    <tr>\n",
              "      <th>2000-04-01</th>\n",
              "      <td>3.8</td>\n",
              "    </tr>\n",
              "    <tr>\n",
              "      <th>2000-05-01</th>\n",
              "      <td>4.0</td>\n",
              "    </tr>\n",
              "    <tr>\n",
              "      <th>...</th>\n",
              "      <td>...</td>\n",
              "    </tr>\n",
              "    <tr>\n",
              "      <th>2017-01-01</th>\n",
              "      <td>4.8</td>\n",
              "    </tr>\n",
              "    <tr>\n",
              "      <th>2017-02-01</th>\n",
              "      <td>4.7</td>\n",
              "    </tr>\n",
              "    <tr>\n",
              "      <th>2017-03-01</th>\n",
              "      <td>4.5</td>\n",
              "    </tr>\n",
              "    <tr>\n",
              "      <th>2017-04-01</th>\n",
              "      <td>4.4</td>\n",
              "    </tr>\n",
              "    <tr>\n",
              "      <th>2017-05-01</th>\n",
              "      <td>4.3</td>\n",
              "    </tr>\n",
              "  </tbody>\n",
              "</table>\n",
              "<p>209 rows × 1 columns</p>\n",
              "</div>"
            ],
            "text/plain": [
              "            UNRATE\n",
              "date              \n",
              "2000-01-01     4.0\n",
              "2000-02-01     4.1\n",
              "2000-03-01     4.0\n",
              "2000-04-01     3.8\n",
              "2000-05-01     4.0\n",
              "...            ...\n",
              "2017-01-01     4.8\n",
              "2017-02-01     4.7\n",
              "2017-03-01     4.5\n",
              "2017-04-01     4.4\n",
              "2017-05-01     4.3\n",
              "\n",
              "[209 rows x 1 columns]"
            ]
          },
          "execution_count": 24,
          "metadata": {},
          "output_type": "execute_result"
        }
      ],
      "source": [
        "# reporting date: 1st day of month\n",
        "unrate"
      ]
    },
    {
      "cell_type": "code",
      "execution_count": null,
      "id": "f800c14f-3ba2-43cf-8334-c1863f319637",
      "metadata": {
        "id": "f800c14f-3ba2-43cf-8334-c1863f319637",
        "outputId": "d74491e7-6c3a-4080-d07b-efa54cc29233"
      },
      "outputs": [
        {
          "data": {
            "text/html": [
              "<div>\n",
              "<style scoped>\n",
              "    .dataframe tbody tr th:only-of-type {\n",
              "        vertical-align: middle;\n",
              "    }\n",
              "\n",
              "    .dataframe tbody tr th {\n",
              "        vertical-align: top;\n",
              "    }\n",
              "\n",
              "    .dataframe thead th {\n",
              "        text-align: right;\n",
              "    }\n",
              "</style>\n",
              "<table border=\"1\" class=\"dataframe\">\n",
              "  <thead>\n",
              "    <tr style=\"text-align: right;\">\n",
              "      <th></th>\n",
              "      <th>UNRATE</th>\n",
              "    </tr>\n",
              "    <tr>\n",
              "      <th>date</th>\n",
              "      <th></th>\n",
              "    </tr>\n",
              "  </thead>\n",
              "  <tbody>\n",
              "    <tr>\n",
              "      <th>2000-01-31</th>\n",
              "      <td>NaN</td>\n",
              "    </tr>\n",
              "    <tr>\n",
              "      <th>2000-02-29</th>\n",
              "      <td>NaN</td>\n",
              "    </tr>\n",
              "    <tr>\n",
              "      <th>2000-03-31</th>\n",
              "      <td>NaN</td>\n",
              "    </tr>\n",
              "    <tr>\n",
              "      <th>2000-04-30</th>\n",
              "      <td>NaN</td>\n",
              "    </tr>\n",
              "    <tr>\n",
              "      <th>2000-05-31</th>\n",
              "      <td>NaN</td>\n",
              "    </tr>\n",
              "    <tr>\n",
              "      <th>...</th>\n",
              "      <td>...</td>\n",
              "    </tr>\n",
              "    <tr>\n",
              "      <th>2016-12-31</th>\n",
              "      <td>NaN</td>\n",
              "    </tr>\n",
              "    <tr>\n",
              "      <th>2017-01-31</th>\n",
              "      <td>NaN</td>\n",
              "    </tr>\n",
              "    <tr>\n",
              "      <th>2017-02-28</th>\n",
              "      <td>NaN</td>\n",
              "    </tr>\n",
              "    <tr>\n",
              "      <th>2017-03-31</th>\n",
              "      <td>NaN</td>\n",
              "    </tr>\n",
              "    <tr>\n",
              "      <th>2017-04-30</th>\n",
              "      <td>NaN</td>\n",
              "    </tr>\n",
              "  </tbody>\n",
              "</table>\n",
              "<p>208 rows × 1 columns</p>\n",
              "</div>"
            ],
            "text/plain": [
              "            UNRATE\n",
              "date              \n",
              "2000-01-31     NaN\n",
              "2000-02-29     NaN\n",
              "2000-03-31     NaN\n",
              "2000-04-30     NaN\n",
              "2000-05-31     NaN\n",
              "...            ...\n",
              "2016-12-31     NaN\n",
              "2017-01-31     NaN\n",
              "2017-02-28     NaN\n",
              "2017-03-31     NaN\n",
              "2017-04-30     NaN\n",
              "\n",
              "[208 rows x 1 columns]"
            ]
          },
          "execution_count": 25,
          "metadata": {},
          "output_type": "execute_result"
        }
      ],
      "source": [
        "# so far, we have focused on month-end frequency\n",
        "#. after resampling, new data is assigned to the last calendar\n",
        "#. of each month\n",
        "unrate.asfreq('M')"
      ]
    },
    {
      "cell_type": "markdown",
      "id": "fef957f7-10ce-47ae-8870-aad98c6f0878",
      "metadata": {
        "id": "fef957f7-10ce-47ae-8870-aad98c6f0878"
      },
      "source": [
        "Alternatives to month-end frequency:\n",
        "- Calendar month end: alias 'M'\n",
        "- Calendar month start: alias 'MS'\n",
        "- Business month end: alias 'BM'\n",
        "- Business month start: alias 'BMS'"
      ]
    },
    {
      "cell_type": "code",
      "execution_count": null,
      "id": "37c37326-fcdb-4eaf-bc7b-3205397ef787",
      "metadata": {
        "id": "37c37326-fcdb-4eaf-bc7b-3205397ef787",
        "outputId": "17cbe255-9a49-4324-a9c3-255c94027790"
      },
      "outputs": [
        {
          "data": {
            "text/html": [
              "<div>\n",
              "<style scoped>\n",
              "    .dataframe tbody tr th:only-of-type {\n",
              "        vertical-align: middle;\n",
              "    }\n",
              "\n",
              "    .dataframe tbody tr th {\n",
              "        vertical-align: top;\n",
              "    }\n",
              "\n",
              "    .dataframe thead th {\n",
              "        text-align: right;\n",
              "    }\n",
              "</style>\n",
              "<table border=\"1\" class=\"dataframe\">\n",
              "  <thead>\n",
              "    <tr style=\"text-align: right;\">\n",
              "      <th></th>\n",
              "      <th>UNRATE</th>\n",
              "    </tr>\n",
              "    <tr>\n",
              "      <th>date</th>\n",
              "      <th></th>\n",
              "    </tr>\n",
              "  </thead>\n",
              "  <tbody>\n",
              "    <tr>\n",
              "      <th>2000-01-01</th>\n",
              "      <td>4.0</td>\n",
              "    </tr>\n",
              "    <tr>\n",
              "      <th>2000-02-01</th>\n",
              "      <td>4.1</td>\n",
              "    </tr>\n",
              "    <tr>\n",
              "      <th>2000-03-01</th>\n",
              "      <td>4.0</td>\n",
              "    </tr>\n",
              "    <tr>\n",
              "      <th>2000-04-01</th>\n",
              "      <td>3.8</td>\n",
              "    </tr>\n",
              "    <tr>\n",
              "      <th>2000-05-01</th>\n",
              "      <td>4.0</td>\n",
              "    </tr>\n",
              "  </tbody>\n",
              "</table>\n",
              "</div>"
            ],
            "text/plain": [
              "            UNRATE\n",
              "date              \n",
              "2000-01-01     4.0\n",
              "2000-02-01     4.1\n",
              "2000-03-01     4.0\n",
              "2000-04-01     3.8\n",
              "2000-05-01     4.0"
            ]
          },
          "execution_count": 26,
          "metadata": {},
          "output_type": "execute_result"
        }
      ],
      "source": [
        "unrate.asfreq('MS').head() # month start"
      ]
    },
    {
      "cell_type": "code",
      "execution_count": null,
      "id": "583ef1da-60c1-4f01-bee3-2b7ab2292203",
      "metadata": {
        "id": "583ef1da-60c1-4f01-bee3-2b7ab2292203",
        "outputId": "0d6b9cf6-b5ea-43d1-a437-e774c9e7c203"
      },
      "outputs": [
        {
          "data": {
            "text/html": [
              "<div>\n",
              "<style scoped>\n",
              "    .dataframe tbody tr th:only-of-type {\n",
              "        vertical-align: middle;\n",
              "    }\n",
              "\n",
              "    .dataframe tbody tr th {\n",
              "        vertical-align: top;\n",
              "    }\n",
              "\n",
              "    .dataframe thead th {\n",
              "        text-align: right;\n",
              "    }\n",
              "</style>\n",
              "<table border=\"1\" class=\"dataframe\">\n",
              "  <thead>\n",
              "    <tr style=\"text-align: right;\">\n",
              "      <th></th>\n",
              "      <th>UNRATE</th>\n",
              "    </tr>\n",
              "    <tr>\n",
              "      <th>date</th>\n",
              "      <th></th>\n",
              "    </tr>\n",
              "  </thead>\n",
              "  <tbody>\n",
              "    <tr>\n",
              "      <th>2000-01-31</th>\n",
              "      <td>NaN</td>\n",
              "    </tr>\n",
              "    <tr>\n",
              "      <th>2000-02-29</th>\n",
              "      <td>NaN</td>\n",
              "    </tr>\n",
              "    <tr>\n",
              "      <th>2000-03-31</th>\n",
              "      <td>NaN</td>\n",
              "    </tr>\n",
              "    <tr>\n",
              "      <th>2000-04-28</th>\n",
              "      <td>NaN</td>\n",
              "    </tr>\n",
              "    <tr>\n",
              "      <th>2000-05-31</th>\n",
              "      <td>NaN</td>\n",
              "    </tr>\n",
              "  </tbody>\n",
              "</table>\n",
              "</div>"
            ],
            "text/plain": [
              "            UNRATE\n",
              "date              \n",
              "2000-01-31     NaN\n",
              "2000-02-29     NaN\n",
              "2000-03-31     NaN\n",
              "2000-04-28     NaN\n",
              "2000-05-31     NaN"
            ]
          },
          "execution_count": 27,
          "metadata": {},
          "output_type": "execute_result"
        }
      ],
      "source": [
        "unrate.asfreq('BM').head() # business month end"
      ]
    },
    {
      "cell_type": "code",
      "execution_count": null,
      "id": "fdb4a8d0-9e32-4533-8249-9c1e13a46c91",
      "metadata": {
        "id": "fdb4a8d0-9e32-4533-8249-9c1e13a46c91",
        "outputId": "b55d4374-d9f1-4fb1-df2d-a799ea9bb893"
      },
      "outputs": [
        {
          "data": {
            "text/html": [
              "<div>\n",
              "<style scoped>\n",
              "    .dataframe tbody tr th:only-of-type {\n",
              "        vertical-align: middle;\n",
              "    }\n",
              "\n",
              "    .dataframe tbody tr th {\n",
              "        vertical-align: top;\n",
              "    }\n",
              "\n",
              "    .dataframe thead th {\n",
              "        text-align: right;\n",
              "    }\n",
              "</style>\n",
              "<table border=\"1\" class=\"dataframe\">\n",
              "  <thead>\n",
              "    <tr style=\"text-align: right;\">\n",
              "      <th></th>\n",
              "      <th>UNRATE</th>\n",
              "    </tr>\n",
              "    <tr>\n",
              "      <th>date</th>\n",
              "      <th></th>\n",
              "    </tr>\n",
              "  </thead>\n",
              "  <tbody>\n",
              "    <tr>\n",
              "      <th>2000-01-03</th>\n",
              "      <td>NaN</td>\n",
              "    </tr>\n",
              "    <tr>\n",
              "      <th>2000-02-01</th>\n",
              "      <td>4.1</td>\n",
              "    </tr>\n",
              "    <tr>\n",
              "      <th>2000-03-01</th>\n",
              "      <td>4.0</td>\n",
              "    </tr>\n",
              "    <tr>\n",
              "      <th>2000-04-03</th>\n",
              "      <td>NaN</td>\n",
              "    </tr>\n",
              "    <tr>\n",
              "      <th>2000-05-01</th>\n",
              "      <td>4.0</td>\n",
              "    </tr>\n",
              "  </tbody>\n",
              "</table>\n",
              "</div>"
            ],
            "text/plain": [
              "            UNRATE\n",
              "date              \n",
              "2000-01-03     NaN\n",
              "2000-02-01     4.1\n",
              "2000-03-01     4.0\n",
              "2000-04-03     NaN\n",
              "2000-05-01     4.0"
            ]
          },
          "execution_count": 28,
          "metadata": {},
          "output_type": "execute_result"
        }
      ],
      "source": [
        "unrate.asfreq('BMS').head() # business month start"
      ]
    },
    {
      "cell_type": "markdown",
      "id": "7e381e84-0cc8-412e-81b9-4fd0cdfbfee8",
      "metadata": {
        "id": "7e381e84-0cc8-412e-81b9-4fd0cdfbfee8"
      },
      "source": [
        "### Assign frequency. with `.resample()`\n",
        "\n",
        "- `.resample()` returns data only when calling another method"
      ]
    },
    {
      "cell_type": "code",
      "execution_count": null,
      "id": "da543a14-2516-446e-a442-8bff9d9e1f16",
      "metadata": {
        "id": "da543a14-2516-446e-a442-8bff9d9e1f16",
        "outputId": "63c1c432-2881-40c1-8210-3a17020c1f7b"
      },
      "outputs": [
        {
          "name": "stdout",
          "output_type": "stream",
          "text": [
            "<class 'pandas.core.frame.DataFrame'>\n",
            "DatetimeIndex: 209 entries, 2000-01-01 to 2017-05-01\n",
            "Freq: MS\n",
            "Data columns (total 1 columns):\n",
            " #   Column  Non-Null Count  Dtype  \n",
            "---  ------  --------------  -----  \n",
            " 0   UNRATE  209 non-null    float64\n",
            "dtypes: float64(1)\n",
            "memory usage: 3.3 KB\n"
          ]
        }
      ],
      "source": [
        "# compare with .asfreq()\n",
        "unrate.asfreq('MS').info()"
      ]
    },
    {
      "cell_type": "code",
      "execution_count": null,
      "id": "99c650ee-8d3e-41a8-a707-6d4c454d9523",
      "metadata": {
        "id": "99c650ee-8d3e-41a8-a707-6d4c454d9523",
        "outputId": "8f74075c-8160-474b-c823-7f91b2ab92e7"
      },
      "outputs": [
        {
          "data": {
            "text/plain": [
              "<pandas.core.resample.DatetimeIndexResampler object at 0x7ff1a819fc40>"
            ]
          },
          "execution_count": 30,
          "metadata": {},
          "output_type": "execute_result"
        }
      ],
      "source": [
        "unrate.resample('MS') # this a Resample object"
      ]
    },
    {
      "cell_type": "code",
      "execution_count": null,
      "id": "b32972cd-0751-42cf-b718-b6d4de5e96fa",
      "metadata": {
        "id": "b32972cd-0751-42cf-b718-b6d4de5e96fa",
        "outputId": "b5a67440-4d0c-4afb-acfa-b2b21ea36683"
      },
      "outputs": [
        {
          "data": {
            "text/html": [
              "<div>\n",
              "<style scoped>\n",
              "    .dataframe tbody tr th:only-of-type {\n",
              "        vertical-align: middle;\n",
              "    }\n",
              "\n",
              "    .dataframe tbody tr th {\n",
              "        vertical-align: top;\n",
              "    }\n",
              "\n",
              "    .dataframe thead th {\n",
              "        text-align: right;\n",
              "    }\n",
              "</style>\n",
              "<table border=\"1\" class=\"dataframe\">\n",
              "  <thead>\n",
              "    <tr style=\"text-align: right;\">\n",
              "      <th></th>\n",
              "      <th>UNRATE</th>\n",
              "    </tr>\n",
              "    <tr>\n",
              "      <th>date</th>\n",
              "      <th></th>\n",
              "    </tr>\n",
              "  </thead>\n",
              "  <tbody>\n",
              "    <tr>\n",
              "      <th>2000-01-01</th>\n",
              "      <td>4.0</td>\n",
              "    </tr>\n",
              "    <tr>\n",
              "      <th>2000-02-01</th>\n",
              "      <td>4.1</td>\n",
              "    </tr>\n",
              "    <tr>\n",
              "      <th>2000-03-01</th>\n",
              "      <td>4.0</td>\n",
              "    </tr>\n",
              "    <tr>\n",
              "      <th>2000-04-01</th>\n",
              "      <td>3.8</td>\n",
              "    </tr>\n",
              "    <tr>\n",
              "      <th>2000-05-01</th>\n",
              "      <td>4.0</td>\n",
              "    </tr>\n",
              "    <tr>\n",
              "      <th>...</th>\n",
              "      <td>...</td>\n",
              "    </tr>\n",
              "    <tr>\n",
              "      <th>2017-01-01</th>\n",
              "      <td>4.8</td>\n",
              "    </tr>\n",
              "    <tr>\n",
              "      <th>2017-02-01</th>\n",
              "      <td>4.7</td>\n",
              "    </tr>\n",
              "    <tr>\n",
              "      <th>2017-03-01</th>\n",
              "      <td>4.5</td>\n",
              "    </tr>\n",
              "    <tr>\n",
              "      <th>2017-04-01</th>\n",
              "      <td>4.4</td>\n",
              "    </tr>\n",
              "    <tr>\n",
              "      <th>2017-05-01</th>\n",
              "      <td>4.3</td>\n",
              "    </tr>\n",
              "  </tbody>\n",
              "</table>\n",
              "<p>209 rows × 1 columns</p>\n",
              "</div>"
            ],
            "text/plain": [
              "            UNRATE\n",
              "date              \n",
              "2000-01-01     4.0\n",
              "2000-02-01     4.1\n",
              "2000-03-01     4.0\n",
              "2000-04-01     3.8\n",
              "2000-05-01     4.0\n",
              "...            ...\n",
              "2017-01-01     4.8\n",
              "2017-02-01     4.7\n",
              "2017-03-01     4.5\n",
              "2017-04-01     4.4\n",
              "2017-05-01     4.3\n",
              "\n",
              "[209 rows x 1 columns]"
            ]
          },
          "execution_count": 31,
          "metadata": {},
          "output_type": "execute_result"
        }
      ],
      "source": [
        "# .resample() returns data only when calling another method\n",
        "unrate.resample('MS').asfreq()"
      ]
    },
    {
      "cell_type": "code",
      "execution_count": null,
      "id": "ebdc38ef-9ed0-43ca-bc66-1f52e8d42c1b",
      "metadata": {
        "id": "ebdc38ef-9ed0-43ca-bc66-1f52e8d42c1b",
        "outputId": "318435da-b550-4543-cdca-aa7f0bde1047"
      },
      "outputs": [
        {
          "data": {
            "text/plain": [
              "True"
            ]
          },
          "execution_count": 32,
          "metadata": {},
          "output_type": "execute_result"
        }
      ],
      "source": [
        "unrate.resample('MS').asfreq().equals(unrate.asfreq('MS'))"
      ]
    },
    {
      "cell_type": "code",
      "execution_count": null,
      "id": "3d7f44e7-1b1b-433b-86e9-64af397caf1e",
      "metadata": {
        "id": "3d7f44e7-1b1b-433b-86e9-64af397caf1e",
        "outputId": "051a2cab-6b7f-46de-be07-4ec40066110e"
      },
      "outputs": [
        {
          "data": {
            "text/plain": [
              "True"
            ]
          },
          "execution_count": 33,
          "metadata": {},
          "output_type": "execute_result"
        }
      ],
      "source": [
        "unrate.resample('MS').asfreq().equals(unrate)"
      ]
    },
    {
      "cell_type": "markdown",
      "id": "5848f497-37fd-4cd4-bd3d-7dccd46ffc7f",
      "metadata": {
        "id": "5848f497-37fd-4cd4-bd3d-7dccd46ffc7f"
      },
      "source": [
        "### Quarterly real GDP growth"
      ]
    },
    {
      "cell_type": "code",
      "execution_count": null,
      "id": "35e4570d-6113-4772-a64f-2bfa7313c00b",
      "metadata": {
        "id": "35e4570d-6113-4772-a64f-2bfa7313c00b",
        "outputId": "753220eb-175f-46fe-d534-38051182a892"
      },
      "outputs": [
        {
          "name": "stdout",
          "output_type": "stream",
          "text": [
            "<class 'pandas.core.frame.DataFrame'>\n",
            "DatetimeIndex: 41 entries, 2007-01-01 to 2017-01-01\n",
            "Data columns (total 1 columns):\n",
            " #   Column      Non-Null Count  Dtype  \n",
            "---  ------      --------------  -----  \n",
            " 0   gdp_growth  41 non-null     float64\n",
            "dtypes: float64(1)\n",
            "memory usage: 656.0 bytes\n"
          ]
        }
      ],
      "source": [
        "gdp = pd.read_csv('stock_data/gdp_growth.csv', parse_dates=['date'], index_col='date')\n",
        "# notice that there is no frequency information\n",
        "gdp.info()"
      ]
    },
    {
      "cell_type": "code",
      "execution_count": null,
      "id": "ae84bd85-52db-4119-abad-e01d9e7b2719",
      "metadata": {
        "id": "ae84bd85-52db-4119-abad-e01d9e7b2719",
        "outputId": "7b001ef9-9b99-4c8f-c06c-1a56c28e64f3"
      },
      "outputs": [
        {
          "data": {
            "text/html": [
              "<div>\n",
              "<style scoped>\n",
              "    .dataframe tbody tr th:only-of-type {\n",
              "        vertical-align: middle;\n",
              "    }\n",
              "\n",
              "    .dataframe tbody tr th {\n",
              "        vertical-align: top;\n",
              "    }\n",
              "\n",
              "    .dataframe thead th {\n",
              "        text-align: right;\n",
              "    }\n",
              "</style>\n",
              "<table border=\"1\" class=\"dataframe\">\n",
              "  <thead>\n",
              "    <tr style=\"text-align: right;\">\n",
              "      <th></th>\n",
              "      <th>gdp_growth</th>\n",
              "    </tr>\n",
              "    <tr>\n",
              "      <th>date</th>\n",
              "      <th></th>\n",
              "    </tr>\n",
              "  </thead>\n",
              "  <tbody>\n",
              "    <tr>\n",
              "      <th>2007-01-01</th>\n",
              "      <td>0.2</td>\n",
              "    </tr>\n",
              "    <tr>\n",
              "      <th>2007-04-01</th>\n",
              "      <td>3.1</td>\n",
              "    </tr>\n",
              "    <tr>\n",
              "      <th>2007-07-01</th>\n",
              "      <td>2.7</td>\n",
              "    </tr>\n",
              "    <tr>\n",
              "      <th>2007-10-01</th>\n",
              "      <td>1.4</td>\n",
              "    </tr>\n",
              "    <tr>\n",
              "      <th>2008-01-01</th>\n",
              "      <td>-2.7</td>\n",
              "    </tr>\n",
              "  </tbody>\n",
              "</table>\n",
              "</div>"
            ],
            "text/plain": [
              "            gdp_growth\n",
              "date                  \n",
              "2007-01-01         0.2\n",
              "2007-04-01         3.1\n",
              "2007-07-01         2.7\n",
              "2007-10-01         1.4\n",
              "2008-01-01        -2.7"
            ]
          },
          "execution_count": 35,
          "metadata": {},
          "output_type": "execute_result"
        }
      ],
      "source": [
        "# inspite of there being no frequency information above\n",
        "#. the first few rows confirm that the data are reported\n",
        "#. for the first day of each quarter\n",
        "gdp.head()"
      ]
    },
    {
      "cell_type": "code",
      "execution_count": null,
      "id": "92eeaca2-a524-4a38-8763-7ca6c26f7134",
      "metadata": {
        "id": "92eeaca2-a524-4a38-8763-7ca6c26f7134",
        "outputId": "af741c9a-e57f-4f54-dcc9-2000729d9b24"
      },
      "outputs": [
        {
          "data": {
            "text/plain": [
              "True"
            ]
          },
          "execution_count": 36,
          "metadata": {},
          "output_type": "execute_result"
        }
      ],
      "source": [
        "gdp.asfreq('QS').equals(gdp)"
      ]
    },
    {
      "cell_type": "code",
      "execution_count": null,
      "id": "c46c0cc7-287a-450c-b09b-4764c3e98e6d",
      "metadata": {
        "id": "c46c0cc7-287a-450c-b09b-4764c3e98e6d",
        "outputId": "355aea4b-1031-4f83-f8dc-32ff08e40584"
      },
      "outputs": [
        {
          "name": "stdout",
          "output_type": "stream",
          "text": [
            "<class 'pandas.core.frame.DataFrame'>\n",
            "DatetimeIndex: 41 entries, 2007-01-01 to 2017-01-01\n",
            "Freq: QS-JAN\n",
            "Data columns (total 1 columns):\n",
            " #   Column      Non-Null Count  Dtype  \n",
            "---  ------      --------------  -----  \n",
            " 0   gdp_growth  41 non-null     float64\n",
            "dtypes: float64(1)\n",
            "memory usage: 656.0 bytes\n"
          ]
        }
      ],
      "source": [
        "# notice the freqency information\n",
        "#. in the output of .info()\n",
        "gdp.asfreq('QS').info()"
      ]
    },
    {
      "cell_type": "markdown",
      "id": "52602ab8-89d8-4f89-8952-26d0644033db",
      "metadata": {
        "id": "52602ab8-89d8-4f89-8952-26d0644033db"
      },
      "source": [
        "### Interpolate monthly real GDP growth\n",
        "\n",
        "- `.interpolate()` finds points on a straight line between existing data"
      ]
    },
    {
      "cell_type": "code",
      "execution_count": null,
      "id": "8424eb6d-fe65-4daa-8683-a3d966070606",
      "metadata": {
        "id": "8424eb6d-fe65-4daa-8683-a3d966070606",
        "outputId": "8d916ef4-39a5-4c08-b0a4-2dce6aa5ca1c"
      },
      "outputs": [
        {
          "data": {
            "text/html": [
              "<div>\n",
              "<style scoped>\n",
              "    .dataframe tbody tr th:only-of-type {\n",
              "        vertical-align: middle;\n",
              "    }\n",
              "\n",
              "    .dataframe tbody tr th {\n",
              "        vertical-align: top;\n",
              "    }\n",
              "\n",
              "    .dataframe thead th {\n",
              "        text-align: right;\n",
              "    }\n",
              "</style>\n",
              "<table border=\"1\" class=\"dataframe\">\n",
              "  <thead>\n",
              "    <tr style=\"text-align: right;\">\n",
              "      <th></th>\n",
              "      <th>gdp_growth_ffill</th>\n",
              "    </tr>\n",
              "    <tr>\n",
              "      <th>date</th>\n",
              "      <th></th>\n",
              "    </tr>\n",
              "  </thead>\n",
              "  <tbody>\n",
              "    <tr>\n",
              "      <th>2007-01-01</th>\n",
              "      <td>0.2</td>\n",
              "    </tr>\n",
              "    <tr>\n",
              "      <th>2007-02-01</th>\n",
              "      <td>0.2</td>\n",
              "    </tr>\n",
              "    <tr>\n",
              "      <th>2007-03-01</th>\n",
              "      <td>0.2</td>\n",
              "    </tr>\n",
              "    <tr>\n",
              "      <th>2007-04-01</th>\n",
              "      <td>3.1</td>\n",
              "    </tr>\n",
              "    <tr>\n",
              "      <th>2007-05-01</th>\n",
              "      <td>3.1</td>\n",
              "    </tr>\n",
              "    <tr>\n",
              "      <th>...</th>\n",
              "      <td>...</td>\n",
              "    </tr>\n",
              "    <tr>\n",
              "      <th>2016-09-01</th>\n",
              "      <td>3.5</td>\n",
              "    </tr>\n",
              "    <tr>\n",
              "      <th>2016-10-01</th>\n",
              "      <td>2.1</td>\n",
              "    </tr>\n",
              "    <tr>\n",
              "      <th>2016-11-01</th>\n",
              "      <td>2.1</td>\n",
              "    </tr>\n",
              "    <tr>\n",
              "      <th>2016-12-01</th>\n",
              "      <td>2.1</td>\n",
              "    </tr>\n",
              "    <tr>\n",
              "      <th>2017-01-01</th>\n",
              "      <td>1.4</td>\n",
              "    </tr>\n",
              "  </tbody>\n",
              "</table>\n",
              "<p>121 rows × 1 columns</p>\n",
              "</div>"
            ],
            "text/plain": [
              "            gdp_growth_ffill\n",
              "date                        \n",
              "2007-01-01               0.2\n",
              "2007-02-01               0.2\n",
              "2007-03-01               0.2\n",
              "2007-04-01               3.1\n",
              "2007-05-01               3.1\n",
              "...                      ...\n",
              "2016-09-01               3.5\n",
              "2016-10-01               2.1\n",
              "2016-11-01               2.1\n",
              "2016-12-01               2.1\n",
              "2017-01-01               1.4\n",
              "\n",
              "[121 rows x 1 columns]"
            ]
          },
          "execution_count": 38,
          "metadata": {},
          "output_type": "execute_result"
        }
      ],
      "source": [
        "gdp_1 = gdp.resample('MS').ffill().add_suffix('_ffill')\n",
        "gdp_1"
      ]
    },
    {
      "cell_type": "code",
      "execution_count": null,
      "id": "bf5a59d2-0a56-46d9-b175-87521dd1fff4",
      "metadata": {
        "id": "bf5a59d2-0a56-46d9-b175-87521dd1fff4",
        "outputId": "d38d415c-c4b0-4365-e2f0-6dc54c15fd21"
      },
      "outputs": [
        {
          "data": {
            "text/plain": [
              "True"
            ]
          },
          "execution_count": 39,
          "metadata": {},
          "output_type": "execute_result"
        }
      ],
      "source": [
        "gdp_1.equals(gdp.asfreq('MS', method='ffill').add_suffix('_ffill'))"
      ]
    },
    {
      "cell_type": "code",
      "execution_count": null,
      "id": "8192f94d-c06b-47a1-b3de-fd7a93476aa3",
      "metadata": {
        "id": "8192f94d-c06b-47a1-b3de-fd7a93476aa3",
        "outputId": "c27ee2c2-ec27-4d72-bdc9-605beed78eef"
      },
      "outputs": [
        {
          "data": {
            "text/html": [
              "<div>\n",
              "<style scoped>\n",
              "    .dataframe tbody tr th:only-of-type {\n",
              "        vertical-align: middle;\n",
              "    }\n",
              "\n",
              "    .dataframe tbody tr th {\n",
              "        vertical-align: top;\n",
              "    }\n",
              "\n",
              "    .dataframe thead th {\n",
              "        text-align: right;\n",
              "    }\n",
              "</style>\n",
              "<table border=\"1\" class=\"dataframe\">\n",
              "  <thead>\n",
              "    <tr style=\"text-align: right;\">\n",
              "      <th></th>\n",
              "      <th>gdp_growth_inter</th>\n",
              "    </tr>\n",
              "    <tr>\n",
              "      <th>date</th>\n",
              "      <th></th>\n",
              "    </tr>\n",
              "  </thead>\n",
              "  <tbody>\n",
              "    <tr>\n",
              "      <th>2007-01-01</th>\n",
              "      <td>0.200000</td>\n",
              "    </tr>\n",
              "    <tr>\n",
              "      <th>2007-02-01</th>\n",
              "      <td>1.166667</td>\n",
              "    </tr>\n",
              "    <tr>\n",
              "      <th>2007-03-01</th>\n",
              "      <td>2.133333</td>\n",
              "    </tr>\n",
              "    <tr>\n",
              "      <th>2007-04-01</th>\n",
              "      <td>3.100000</td>\n",
              "    </tr>\n",
              "    <tr>\n",
              "      <th>2007-05-01</th>\n",
              "      <td>2.966667</td>\n",
              "    </tr>\n",
              "    <tr>\n",
              "      <th>...</th>\n",
              "      <td>...</td>\n",
              "    </tr>\n",
              "    <tr>\n",
              "      <th>2016-09-01</th>\n",
              "      <td>2.566667</td>\n",
              "    </tr>\n",
              "    <tr>\n",
              "      <th>2016-10-01</th>\n",
              "      <td>2.100000</td>\n",
              "    </tr>\n",
              "    <tr>\n",
              "      <th>2016-11-01</th>\n",
              "      <td>1.866667</td>\n",
              "    </tr>\n",
              "    <tr>\n",
              "      <th>2016-12-01</th>\n",
              "      <td>1.633333</td>\n",
              "    </tr>\n",
              "    <tr>\n",
              "      <th>2017-01-01</th>\n",
              "      <td>1.400000</td>\n",
              "    </tr>\n",
              "  </tbody>\n",
              "</table>\n",
              "<p>121 rows × 1 columns</p>\n",
              "</div>"
            ],
            "text/plain": [
              "            gdp_growth_inter\n",
              "date                        \n",
              "2007-01-01          0.200000\n",
              "2007-02-01          1.166667\n",
              "2007-03-01          2.133333\n",
              "2007-04-01          3.100000\n",
              "2007-05-01          2.966667\n",
              "...                      ...\n",
              "2016-09-01          2.566667\n",
              "2016-10-01          2.100000\n",
              "2016-11-01          1.866667\n",
              "2016-12-01          1.633333\n",
              "2017-01-01          1.400000\n",
              "\n",
              "[121 rows x 1 columns]"
            ]
          },
          "execution_count": 40,
          "metadata": {},
          "output_type": "execute_result"
        }
      ],
      "source": [
        "# this is where the advantage of `.resample()` over `.asfreq()`\n",
        "#. comes into play\n",
        "gdp_2 = gdp.resample('MS').interpolate().add_suffix('_inter')\n",
        "gdp_2"
      ]
    },
    {
      "cell_type": "markdown",
      "id": "735312c9-ec90-4257-905d-c764b74e823f",
      "metadata": {
        "id": "735312c9-ec90-4257-905d-c764b74e823f"
      },
      "source": [
        "### Concatenating two DataFrames"
      ]
    },
    {
      "cell_type": "code",
      "execution_count": null,
      "id": "725d1f5e-c383-417d-a558-12337de02b30",
      "metadata": {
        "id": "725d1f5e-c383-417d-a558-12337de02b30",
        "outputId": "5a4a9caa-5f4b-4401-bf36-48d600841d9d"
      },
      "outputs": [
        {
          "data": {
            "text/html": [
              "<div>\n",
              "<style scoped>\n",
              "    .dataframe tbody tr th:only-of-type {\n",
              "        vertical-align: middle;\n",
              "    }\n",
              "\n",
              "    .dataframe tbody tr th {\n",
              "        vertical-align: top;\n",
              "    }\n",
              "\n",
              "    .dataframe thead th {\n",
              "        text-align: right;\n",
              "    }\n",
              "</style>\n",
              "<table border=\"1\" class=\"dataframe\">\n",
              "  <thead>\n",
              "    <tr style=\"text-align: right;\">\n",
              "      <th></th>\n",
              "      <th>df1</th>\n",
              "    </tr>\n",
              "  </thead>\n",
              "  <tbody>\n",
              "    <tr>\n",
              "      <th>0</th>\n",
              "      <td>1</td>\n",
              "    </tr>\n",
              "    <tr>\n",
              "      <th>1</th>\n",
              "      <td>2</td>\n",
              "    </tr>\n",
              "    <tr>\n",
              "      <th>2</th>\n",
              "      <td>3</td>\n",
              "    </tr>\n",
              "  </tbody>\n",
              "</table>\n",
              "</div>"
            ],
            "text/plain": [
              "   df1\n",
              "0    1\n",
              "1    2\n",
              "2    3"
            ]
          },
          "execution_count": 41,
          "metadata": {},
          "output_type": "execute_result"
        }
      ],
      "source": [
        "df1 = pd.DataFrame([1, 2, 3], columns=['df1'])\n",
        "df1"
      ]
    },
    {
      "cell_type": "code",
      "execution_count": null,
      "id": "d020d7f5-28d3-4972-bd1f-198e9f99f8c5",
      "metadata": {
        "id": "d020d7f5-28d3-4972-bd1f-198e9f99f8c5",
        "outputId": "86845a63-6ca7-4dc1-d138-c05c76be1013"
      },
      "outputs": [
        {
          "data": {
            "text/html": [
              "<div>\n",
              "<style scoped>\n",
              "    .dataframe tbody tr th:only-of-type {\n",
              "        vertical-align: middle;\n",
              "    }\n",
              "\n",
              "    .dataframe tbody tr th {\n",
              "        vertical-align: top;\n",
              "    }\n",
              "\n",
              "    .dataframe thead th {\n",
              "        text-align: right;\n",
              "    }\n",
              "</style>\n",
              "<table border=\"1\" class=\"dataframe\">\n",
              "  <thead>\n",
              "    <tr style=\"text-align: right;\">\n",
              "      <th></th>\n",
              "      <th>df2</th>\n",
              "    </tr>\n",
              "  </thead>\n",
              "  <tbody>\n",
              "    <tr>\n",
              "      <th>0</th>\n",
              "      <td>4</td>\n",
              "    </tr>\n",
              "    <tr>\n",
              "      <th>1</th>\n",
              "      <td>5</td>\n",
              "    </tr>\n",
              "    <tr>\n",
              "      <th>2</th>\n",
              "      <td>6</td>\n",
              "    </tr>\n",
              "  </tbody>\n",
              "</table>\n",
              "</div>"
            ],
            "text/plain": [
              "   df2\n",
              "0    4\n",
              "1    5\n",
              "2    6"
            ]
          },
          "execution_count": 42,
          "metadata": {},
          "output_type": "execute_result"
        }
      ],
      "source": [
        "df2 = pd.DataFrame([4, 5, 6], columns=['df2'])\n",
        "df2"
      ]
    },
    {
      "cell_type": "code",
      "execution_count": null,
      "id": "a72d3abd-b664-428e-93b6-4e5a06f87a88",
      "metadata": {
        "id": "a72d3abd-b664-428e-93b6-4e5a06f87a88",
        "outputId": "4e362a14-60a5-4db4-fdd6-3450f8549dae"
      },
      "outputs": [
        {
          "data": {
            "text/html": [
              "<div>\n",
              "<style scoped>\n",
              "    .dataframe tbody tr th:only-of-type {\n",
              "        vertical-align: middle;\n",
              "    }\n",
              "\n",
              "    .dataframe tbody tr th {\n",
              "        vertical-align: top;\n",
              "    }\n",
              "\n",
              "    .dataframe thead th {\n",
              "        text-align: right;\n",
              "    }\n",
              "</style>\n",
              "<table border=\"1\" class=\"dataframe\">\n",
              "  <thead>\n",
              "    <tr style=\"text-align: right;\">\n",
              "      <th></th>\n",
              "      <th>df1</th>\n",
              "      <th>df2</th>\n",
              "    </tr>\n",
              "  </thead>\n",
              "  <tbody>\n",
              "    <tr>\n",
              "      <th>0</th>\n",
              "      <td>1.0</td>\n",
              "      <td>NaN</td>\n",
              "    </tr>\n",
              "    <tr>\n",
              "      <th>1</th>\n",
              "      <td>2.0</td>\n",
              "      <td>NaN</td>\n",
              "    </tr>\n",
              "    <tr>\n",
              "      <th>2</th>\n",
              "      <td>3.0</td>\n",
              "      <td>NaN</td>\n",
              "    </tr>\n",
              "    <tr>\n",
              "      <th>0</th>\n",
              "      <td>NaN</td>\n",
              "      <td>4.0</td>\n",
              "    </tr>\n",
              "    <tr>\n",
              "      <th>1</th>\n",
              "      <td>NaN</td>\n",
              "      <td>5.0</td>\n",
              "    </tr>\n",
              "    <tr>\n",
              "      <th>2</th>\n",
              "      <td>NaN</td>\n",
              "      <td>6.0</td>\n",
              "    </tr>\n",
              "  </tbody>\n",
              "</table>\n",
              "</div>"
            ],
            "text/plain": [
              "   df1  df2\n",
              "0  1.0  NaN\n",
              "1  2.0  NaN\n",
              "2  3.0  NaN\n",
              "0  NaN  4.0\n",
              "1  NaN  5.0\n",
              "2  NaN  6.0"
            ]
          },
          "execution_count": 43,
          "metadata": {},
          "output_type": "execute_result"
        }
      ],
      "source": [
        "pd.concat([df1, df2]) # axis=0 by default"
      ]
    },
    {
      "cell_type": "code",
      "execution_count": null,
      "id": "7db1c021-8d53-4b4a-912e-5de4ceb11ce4",
      "metadata": {
        "id": "7db1c021-8d53-4b4a-912e-5de4ceb11ce4",
        "outputId": "bc1d0cfa-c19b-46d6-e6e4-7016fd56ddae"
      },
      "outputs": [
        {
          "data": {
            "text/html": [
              "<div>\n",
              "<style scoped>\n",
              "    .dataframe tbody tr th:only-of-type {\n",
              "        vertical-align: middle;\n",
              "    }\n",
              "\n",
              "    .dataframe tbody tr th {\n",
              "        vertical-align: top;\n",
              "    }\n",
              "\n",
              "    .dataframe thead th {\n",
              "        text-align: right;\n",
              "    }\n",
              "</style>\n",
              "<table border=\"1\" class=\"dataframe\">\n",
              "  <thead>\n",
              "    <tr style=\"text-align: right;\">\n",
              "      <th></th>\n",
              "      <th>df1</th>\n",
              "      <th>df2</th>\n",
              "    </tr>\n",
              "  </thead>\n",
              "  <tbody>\n",
              "    <tr>\n",
              "      <th>0</th>\n",
              "      <td>1</td>\n",
              "      <td>4</td>\n",
              "    </tr>\n",
              "    <tr>\n",
              "      <th>1</th>\n",
              "      <td>2</td>\n",
              "      <td>5</td>\n",
              "    </tr>\n",
              "    <tr>\n",
              "      <th>2</th>\n",
              "      <td>3</td>\n",
              "      <td>6</td>\n",
              "    </tr>\n",
              "  </tbody>\n",
              "</table>\n",
              "</div>"
            ],
            "text/plain": [
              "   df1  df2\n",
              "0    1    4\n",
              "1    2    5\n",
              "2    3    6"
            ]
          },
          "execution_count": 44,
          "metadata": {},
          "output_type": "execute_result"
        }
      ],
      "source": [
        "pd.concat([df1, df2], axis=1)"
      ]
    },
    {
      "cell_type": "markdown",
      "id": "966e7041-d33f-4d5c-bd26-4d718d14ebf2",
      "metadata": {
        "id": "966e7041-d33f-4d5c-bd26-4d718d14ebf2"
      },
      "source": [
        "### Plot interpolated GDP growth"
      ]
    },
    {
      "cell_type": "code",
      "execution_count": null,
      "id": "1c0728fd-812a-406f-987b-c3447ccac3fc",
      "metadata": {
        "id": "1c0728fd-812a-406f-987b-c3447ccac3fc",
        "outputId": "750bf05a-e54b-412d-8296-6fbdab3a7b7e"
      },
      "outputs": [
        {
          "data": {
            "image/png": "[encoded data removed]",
            "text/plain": [
              "<Figure size 640x480 with 1 Axes>"
            ]
          },
          "metadata": {},
          "output_type": "display_data"
        }
      ],
      "source": [
        "pd.concat([gdp_1, gdp_2], axis=1).loc['2015':].plot();"
      ]
    },
    {
      "cell_type": "markdown",
      "id": "e54d431c-27a4-476c-b993-f0ca3acb450c",
      "metadata": {
        "id": "e54d431c-27a4-476c-b993-f0ca3acb450c"
      },
      "source": [
        "### Combine GDP growth and unemployment"
      ]
    },
    {
      "cell_type": "code",
      "execution_count": null,
      "id": "d46dcf6d-4c7f-4f58-b95d-58837a2523f1",
      "metadata": {
        "id": "d46dcf6d-4c7f-4f58-b95d-58837a2523f1",
        "outputId": "23f85ec8-ef0f-42b3-e7c2-b891f2464706"
      },
      "outputs": [
        {
          "data": {
            "text/plain": [
              "((121, 1), (121, 1))"
            ]
          },
          "execution_count": 46,
          "metadata": {},
          "output_type": "execute_result"
        }
      ],
      "source": [
        "unrate.loc['2007':'2017-01-01'].shape, gdp_2.shape"
      ]
    },
    {
      "cell_type": "code",
      "execution_count": null,
      "id": "a5d2ced1-ed0b-4e2e-95e0-b4a78d4068d5",
      "metadata": {
        "id": "a5d2ced1-ed0b-4e2e-95e0-b4a78d4068d5",
        "outputId": "2dfaf43c-1284-4497-9a42-f91ea44b0ca6"
      },
      "outputs": [
        {
          "data": {
            "image/png": "[encoded data removed]",
            "text/plain": [
              "<Figure size 640x480 with 1 Axes>"
            ]
          },
          "metadata": {},
          "output_type": "display_data"
        }
      ],
      "source": [
        "pd.concat([unrate.loc['2007':'2017-01-01'], gdp_2], axis=1).plot();"
      ]
    },
    {
      "cell_type": "code",
      "execution_count": null,
      "id": "68979696-b63c-4a51-8121-9bb54b6a6c4e",
      "metadata": {
        "id": "68979696-b63c-4a51-8121-9bb54b6a6c4e",
        "outputId": "db21702d-1153-449d-c480-450d672cec32"
      },
      "outputs": [
        {
          "data": {
            "text/html": [
              "<div>\n",
              "<style scoped>\n",
              "    .dataframe tbody tr th:only-of-type {\n",
              "        vertical-align: middle;\n",
              "    }\n",
              "\n",
              "    .dataframe tbody tr th {\n",
              "        vertical-align: top;\n",
              "    }\n",
              "\n",
              "    .dataframe thead th {\n",
              "        text-align: right;\n",
              "    }\n",
              "</style>\n",
              "<table border=\"1\" class=\"dataframe\">\n",
              "  <thead>\n",
              "    <tr style=\"text-align: right;\">\n",
              "      <th></th>\n",
              "      <th>UNRATE</th>\n",
              "    </tr>\n",
              "    <tr>\n",
              "      <th>date</th>\n",
              "      <th></th>\n",
              "    </tr>\n",
              "  </thead>\n",
              "  <tbody>\n",
              "    <tr>\n",
              "      <th>2007-01-01</th>\n",
              "      <td>4.6</td>\n",
              "    </tr>\n",
              "    <tr>\n",
              "      <th>2007-02-01</th>\n",
              "      <td>4.5</td>\n",
              "    </tr>\n",
              "    <tr>\n",
              "      <th>2007-03-01</th>\n",
              "      <td>4.4</td>\n",
              "    </tr>\n",
              "    <tr>\n",
              "      <th>2007-04-01</th>\n",
              "      <td>4.5</td>\n",
              "    </tr>\n",
              "    <tr>\n",
              "      <th>2007-05-01</th>\n",
              "      <td>4.4</td>\n",
              "    </tr>\n",
              "    <tr>\n",
              "      <th>...</th>\n",
              "      <td>...</td>\n",
              "    </tr>\n",
              "    <tr>\n",
              "      <th>2016-09-01</th>\n",
              "      <td>4.9</td>\n",
              "    </tr>\n",
              "    <tr>\n",
              "      <th>2016-10-01</th>\n",
              "      <td>4.8</td>\n",
              "    </tr>\n",
              "    <tr>\n",
              "      <th>2016-11-01</th>\n",
              "      <td>4.6</td>\n",
              "    </tr>\n",
              "    <tr>\n",
              "      <th>2016-12-01</th>\n",
              "      <td>4.7</td>\n",
              "    </tr>\n",
              "    <tr>\n",
              "      <th>2017-01-01</th>\n",
              "      <td>4.8</td>\n",
              "    </tr>\n",
              "  </tbody>\n",
              "</table>\n",
              "<p>121 rows × 1 columns</p>\n",
              "</div>"
            ],
            "text/plain": [
              "            UNRATE\n",
              "date              \n",
              "2007-01-01     4.6\n",
              "2007-02-01     4.5\n",
              "2007-03-01     4.4\n",
              "2007-04-01     4.5\n",
              "2007-05-01     4.4\n",
              "...            ...\n",
              "2016-09-01     4.9\n",
              "2016-10-01     4.8\n",
              "2016-11-01     4.6\n",
              "2016-12-01     4.7\n",
              "2017-01-01     4.8\n",
              "\n",
              "[121 rows x 1 columns]"
            ]
          },
          "execution_count": 48,
          "metadata": {},
          "output_type": "execute_result"
        }
      ],
      "source": [
        "unrate.loc['2007':'2017-01-01']"
      ]
    },
    {
      "cell_type": "markdown",
      "id": "1903af8b-5762-4c60-935b-ba5722268f70",
      "metadata": {
        "id": "1903af8b-5762-4c60-935b-ba5722268f70"
      },
      "source": [
        "## Downsampling & aggregation\n",
        "\n",
        "- **Upsampling**\n",
        "  - increase the frequency\n",
        "  -fill from existing or interpolate values\n",
        "- **Downsampling**\n",
        "  - decrease the frequency\n",
        "  - apply aggregation to existing data\n",
        "- Examples:\n",
        "  - hour to day\n",
        "  - day to month\n",
        "  - etc\n",
        "- How to represent the existing values at the new date?\n",
        "  - mean, median, last value, ..."
      ]
    },
    {
      "cell_type": "markdown",
      "id": "56f53264-4478-44f2-9c47-91f58e645350",
      "metadata": {
        "id": "56f53264-4478-44f2-9c47-91f58e645350"
      },
      "source": [
        "### Air quality: daily ozone levels"
      ]
    },
    {
      "cell_type": "code",
      "execution_count": null,
      "id": "d967d8a7-94e0-4507-a89e-07e8cef0c8ca",
      "metadata": {
        "id": "d967d8a7-94e0-4507-a89e-07e8cef0c8ca",
        "outputId": "d413dfcf-de5f-4563-c5f2-a8bcdabbbe6a"
      },
      "outputs": [
        {
          "name": "stdout",
          "output_type": "stream",
          "text": [
            "<class 'pandas.core.frame.DataFrame'>\n",
            "DatetimeIndex: 6291 entries, 2000-01-01 to 2017-03-31\n",
            "Data columns (total 1 columns):\n",
            " #   Column  Non-Null Count  Dtype  \n",
            "---  ------  --------------  -----  \n",
            " 0   Ozone   6167 non-null   float64\n",
            "dtypes: float64(1)\n",
            "memory usage: 98.3 KB\n"
          ]
        }
      ],
      "source": [
        "ozone = pd.read_csv('air_quality_data/ozone_nyc.csv', parse_dates=['date'], index_col='date')\n",
        "ozone.info()"
      ]
    },
    {
      "cell_type": "code",
      "execution_count": null,
      "id": "717d333e-0b84-4284-b230-06e8e354969d",
      "metadata": {
        "id": "717d333e-0b84-4284-b230-06e8e354969d",
        "outputId": "8246f4fe-36a2-41b2-f007-5fa46767a110"
      },
      "outputs": [
        {
          "data": {
            "image/png": "[encoded data removed]",
            "text/plain": [
              "<Figure size 640x480 with 1 Axes>"
            ]
          },
          "metadata": {},
          "output_type": "display_data"
        }
      ],
      "source": [
        "ozone.plot();"
      ]
    },
    {
      "cell_type": "code",
      "execution_count": null,
      "id": "21b7f775-a42c-4060-afb1-288f3101e991",
      "metadata": {
        "id": "21b7f775-a42c-4060-afb1-288f3101e991",
        "outputId": "1cd0f45a-fa76-4f09-e50c-81ee32c66fa1"
      },
      "outputs": [
        {
          "data": {
            "image/png": "[encoded data removed]",
            "text/plain": [
              "<Figure size 640x480 with 1 Axes>"
            ]
          },
          "metadata": {},
          "output_type": "display_data"
        }
      ],
      "source": [
        "ozone.loc['2000'].plot();"
      ]
    },
    {
      "cell_type": "code",
      "execution_count": null,
      "id": "234f901b-0c09-4f90-b580-5036145d36b1",
      "metadata": {
        "id": "234f901b-0c09-4f90-b580-5036145d36b1",
        "outputId": "e24bd2ed-b374-40cb-fd09-314e29c9075f"
      },
      "outputs": [
        {
          "name": "stdout",
          "output_type": "stream",
          "text": [
            "<class 'pandas.core.frame.DataFrame'>\n",
            "DatetimeIndex: 6300 entries, 2000-01-01 to 2017-03-31\n",
            "Freq: D\n",
            "Data columns (total 1 columns):\n",
            " #   Column  Non-Null Count  Dtype  \n",
            "---  ------  --------------  -----  \n",
            " 0   Ozone   6167 non-null   float64\n",
            "dtypes: float64(1)\n",
            "memory usage: 98.4 KB\n"
          ]
        }
      ],
      "source": [
        "# give the ozone data a frequency\n",
        "#. the resulting DateTimeIndex has additional entries,\n",
        "#. as well as the expected frequency information.\n",
        "ozone = ozone.resample('D').asfreq()\n",
        "ozone.info()"
      ]
    },
    {
      "cell_type": "markdown",
      "id": "3f009dac-6fec-4d83-b530-d0421c255662",
      "metadata": {
        "id": "3f009dac-6fec-4d83-b530-d0421c255662"
      },
      "source": [
        "### Creating monthly ozone data"
      ]
    },
    {
      "cell_type": "code",
      "execution_count": null,
      "id": "b58f9106-8d0b-4024-ac45-f0805c18add0",
      "metadata": {
        "id": "b58f9106-8d0b-4024-ac45-f0805c18add0",
        "outputId": "675da4e2-f4bf-47c1-c686-45d607faa220"
      },
      "outputs": [
        {
          "data": {
            "text/html": [
              "<div>\n",
              "<style scoped>\n",
              "    .dataframe tbody tr th:only-of-type {\n",
              "        vertical-align: middle;\n",
              "    }\n",
              "\n",
              "    .dataframe tbody tr th {\n",
              "        vertical-align: top;\n",
              "    }\n",
              "\n",
              "    .dataframe thead th {\n",
              "        text-align: right;\n",
              "    }\n",
              "</style>\n",
              "<table border=\"1\" class=\"dataframe\">\n",
              "  <thead>\n",
              "    <tr style=\"text-align: right;\">\n",
              "      <th></th>\n",
              "      <th>Ozone</th>\n",
              "    </tr>\n",
              "    <tr>\n",
              "      <th>date</th>\n",
              "      <th></th>\n",
              "    </tr>\n",
              "  </thead>\n",
              "  <tbody>\n",
              "    <tr>\n",
              "      <th>2000-01-31</th>\n",
              "      <td>0.010443</td>\n",
              "    </tr>\n",
              "    <tr>\n",
              "      <th>2000-02-29</th>\n",
              "      <td>0.011817</td>\n",
              "    </tr>\n",
              "    <tr>\n",
              "      <th>2000-03-31</th>\n",
              "      <td>0.016810</td>\n",
              "    </tr>\n",
              "    <tr>\n",
              "      <th>2000-04-30</th>\n",
              "      <td>0.019413</td>\n",
              "    </tr>\n",
              "    <tr>\n",
              "      <th>2000-05-31</th>\n",
              "      <td>0.026535</td>\n",
              "    </tr>\n",
              "  </tbody>\n",
              "</table>\n",
              "</div>"
            ],
            "text/plain": [
              "               Ozone\n",
              "date                \n",
              "2000-01-31  0.010443\n",
              "2000-02-29  0.011817\n",
              "2000-03-31  0.016810\n",
              "2000-04-30  0.019413\n",
              "2000-05-31  0.026535"
            ]
          },
          "execution_count": 53,
          "metadata": {},
          "output_type": "execute_result"
        }
      ],
      "source": [
        "# monthly frequency with a default month-end offset\n",
        "ozone.resample('M').mean().head()"
      ]
    },
    {
      "cell_type": "code",
      "execution_count": null,
      "id": "f6e19de6-c8cd-46e5-972e-eedb7b8f62b4",
      "metadata": {
        "id": "f6e19de6-c8cd-46e5-972e-eedb7b8f62b4",
        "outputId": "2b4856db-2998-4a4d-ab03-6601d3591ca0"
      },
      "outputs": [
        {
          "data": {
            "text/plain": [
              "Ozone    0.010443\n",
              "dtype: float64"
            ]
          },
          "execution_count": 54,
          "metadata": {},
          "output_type": "execute_result"
        }
      ],
      "source": [
        "ozone.loc['2000-01'].mean()"
      ]
    },
    {
      "cell_type": "code",
      "execution_count": null,
      "id": "3a21533d-3824-4bf6-bb40-d0f38ac6a0b4",
      "metadata": {
        "id": "3a21533d-3824-4bf6-bb40-d0f38ac6a0b4",
        "outputId": "c23340bf-d89a-462d-efe3-7597ca58a64b"
      },
      "outputs": [
        {
          "data": {
            "text/html": [
              "<div>\n",
              "<style scoped>\n",
              "    .dataframe tbody tr th:only-of-type {\n",
              "        vertical-align: middle;\n",
              "    }\n",
              "\n",
              "    .dataframe tbody tr th {\n",
              "        vertical-align: top;\n",
              "    }\n",
              "\n",
              "    .dataframe thead tr th {\n",
              "        text-align: left;\n",
              "    }\n",
              "\n",
              "    .dataframe thead tr:last-of-type th {\n",
              "        text-align: right;\n",
              "    }\n",
              "</style>\n",
              "<table border=\"1\" class=\"dataframe\">\n",
              "  <thead>\n",
              "    <tr>\n",
              "      <th></th>\n",
              "      <th colspan=\"2\" halign=\"left\">Ozone</th>\n",
              "    </tr>\n",
              "    <tr>\n",
              "      <th></th>\n",
              "      <th>mean</th>\n",
              "      <th>std</th>\n",
              "    </tr>\n",
              "    <tr>\n",
              "      <th>date</th>\n",
              "      <th></th>\n",
              "      <th></th>\n",
              "    </tr>\n",
              "  </thead>\n",
              "  <tbody>\n",
              "    <tr>\n",
              "      <th>2000-01-31</th>\n",
              "      <td>0.010443</td>\n",
              "      <td>0.004755</td>\n",
              "    </tr>\n",
              "    <tr>\n",
              "      <th>2000-02-29</th>\n",
              "      <td>0.011817</td>\n",
              "      <td>0.004072</td>\n",
              "    </tr>\n",
              "    <tr>\n",
              "      <th>2000-03-31</th>\n",
              "      <td>0.016810</td>\n",
              "      <td>0.004977</td>\n",
              "    </tr>\n",
              "    <tr>\n",
              "      <th>2000-04-30</th>\n",
              "      <td>0.019413</td>\n",
              "      <td>0.006574</td>\n",
              "    </tr>\n",
              "    <tr>\n",
              "      <th>2000-05-31</th>\n",
              "      <td>0.026535</td>\n",
              "      <td>0.008409</td>\n",
              "    </tr>\n",
              "  </tbody>\n",
              "</table>\n",
              "</div>"
            ],
            "text/plain": [
              "               Ozone          \n",
              "                mean       std\n",
              "date                          \n",
              "2000-01-31  0.010443  0.004755\n",
              "2000-02-29  0.011817  0.004072\n",
              "2000-03-31  0.016810  0.004977\n",
              "2000-04-30  0.019413  0.006574\n",
              "2000-05-31  0.026535  0.008409"
            ]
          },
          "execution_count": 55,
          "metadata": {},
          "output_type": "execute_result"
        }
      ],
      "source": [
        "# multiple aggregations at once\n",
        "ozone.resample('M').agg(['mean', 'std']).head()"
      ]
    },
    {
      "cell_type": "markdown",
      "id": "155cf0b3-b497-4200-8ae5-c155a9e3dad3",
      "metadata": {
        "id": "155cf0b3-b497-4200-8ae5-c155a9e3dad3"
      },
      "source": [
        "### Plotting resampled ozone data"
      ]
    },
    {
      "cell_type": "code",
      "execution_count": null,
      "id": "13538e49-c86b-4ce0-ab09-0163e3ab80cb",
      "metadata": {
        "id": "13538e49-c86b-4ce0-ab09-0163e3ab80cb",
        "outputId": "df6fc10a-c4f6-4506-d11a-70cdb362ed52"
      },
      "outputs": [
        {
          "data": {
            "image/png": "[encoded data removed]",
            "text/plain": [
              "<Figure size 640x480 with 1 Axes>"
            ]
          },
          "metadata": {},
          "output_type": "display_data"
        }
      ],
      "source": [
        "ozone = ozone.loc['2016':]\n",
        "ax = ozone.plot(c='r')\n",
        "monthly = ozone.resample('M').mean()\n",
        "monthly.add_suffix('_monthly').plot(ax=ax);"
      ]
    },
    {
      "cell_type": "markdown",
      "id": "1de78a03-f5f1-4fad-a8cd-08aa722d7a62",
      "metadata": {
        "id": "1de78a03-f5f1-4fad-a8cd-08aa722d7a62"
      },
      "source": [
        "### Resampling muliple time series"
      ]
    },
    {
      "cell_type": "code",
      "execution_count": null,
      "id": "71930c03-40a3-4b3a-95dc-7d39a573e706",
      "metadata": {
        "id": "71930c03-40a3-4b3a-95dc-7d39a573e706",
        "outputId": "c3c141ca-fbde-4884-9237-0f49dbc4fffe"
      },
      "outputs": [
        {
          "name": "stdout",
          "output_type": "stream",
          "text": [
            "<class 'pandas.core.frame.DataFrame'>\n",
            "DatetimeIndex: 6300 entries, 2000-01-01 to 2017-03-31\n",
            "Freq: D\n",
            "Data columns (total 2 columns):\n",
            " #   Column  Non-Null Count  Dtype  \n",
            "---  ------  --------------  -----  \n",
            " 0   ozone   6167 non-null   float64\n",
            " 1   pm25    6167 non-null   float64\n",
            "dtypes: float64(2)\n",
            "memory usage: 147.7 KB\n"
          ]
        }
      ],
      "source": [
        "df = pd.read_csv('air_quality_data/nyc.csv', parse_dates=['date'], index_col='date')\n",
        "df = df.resample('D').asfreq()\n",
        "df = df.loc['2000':].drop('co', axis=1)\n",
        "df.info()"
      ]
    },
    {
      "cell_type": "code",
      "execution_count": null,
      "id": "2bead358-0319-4250-b15e-a5383bba634c",
      "metadata": {
        "id": "2bead358-0319-4250-b15e-a5383bba634c",
        "outputId": "84ee3b77-13c3-4aaa-d223-4cbf038e823e"
      },
      "outputs": [
        {
          "data": {
            "text/html": [
              "<div>\n",
              "<style scoped>\n",
              "    .dataframe tbody tr th:only-of-type {\n",
              "        vertical-align: middle;\n",
              "    }\n",
              "\n",
              "    .dataframe tbody tr th {\n",
              "        vertical-align: top;\n",
              "    }\n",
              "\n",
              "    .dataframe thead th {\n",
              "        text-align: right;\n",
              "    }\n",
              "</style>\n",
              "<table border=\"1\" class=\"dataframe\">\n",
              "  <thead>\n",
              "    <tr style=\"text-align: right;\">\n",
              "      <th></th>\n",
              "      <th>ozone</th>\n",
              "      <th>pm25</th>\n",
              "    </tr>\n",
              "    <tr>\n",
              "      <th>date</th>\n",
              "      <th></th>\n",
              "      <th></th>\n",
              "    </tr>\n",
              "  </thead>\n",
              "  <tbody>\n",
              "    <tr>\n",
              "      <th>2000-01-01</th>\n",
              "      <td>0.004032</td>\n",
              "      <td>37.32</td>\n",
              "    </tr>\n",
              "    <tr>\n",
              "      <th>2000-01-02</th>\n",
              "      <td>0.009486</td>\n",
              "      <td>42.40</td>\n",
              "    </tr>\n",
              "    <tr>\n",
              "      <th>2000-01-03</th>\n",
              "      <td>0.005580</td>\n",
              "      <td>31.25</td>\n",
              "    </tr>\n",
              "    <tr>\n",
              "      <th>2000-01-04</th>\n",
              "      <td>0.008717</td>\n",
              "      <td>12.95</td>\n",
              "    </tr>\n",
              "    <tr>\n",
              "      <th>2000-01-05</th>\n",
              "      <td>0.013754</td>\n",
              "      <td>7.80</td>\n",
              "    </tr>\n",
              "  </tbody>\n",
              "</table>\n",
              "</div>"
            ],
            "text/plain": [
              "               ozone   pm25\n",
              "date                       \n",
              "2000-01-01  0.004032  37.32\n",
              "2000-01-02  0.009486  42.40\n",
              "2000-01-03  0.005580  31.25\n",
              "2000-01-04  0.008717  12.95\n",
              "2000-01-05  0.013754   7.80"
            ]
          },
          "execution_count": 58,
          "metadata": {},
          "output_type": "execute_result"
        }
      ],
      "source": [
        "df.head()"
      ]
    },
    {
      "cell_type": "code",
      "execution_count": null,
      "id": "ab98a4a7-01f7-4d6a-9bfc-fe5660504384",
      "metadata": {
        "id": "ab98a4a7-01f7-4d6a-9bfc-fe5660504384",
        "outputId": "c1326131-18b5-4957-966a-dc73fc42e2c1"
      },
      "outputs": [
        {
          "name": "stdout",
          "output_type": "stream",
          "text": [
            "<class 'pandas.core.frame.DataFrame'>\n",
            "DatetimeIndex: 207 entries, 2000-01-31 to 2017-03-31\n",
            "Freq: BM\n",
            "Data columns (total 2 columns):\n",
            " #   Column  Non-Null Count  Dtype  \n",
            "---  ------  --------------  -----  \n",
            " 0   ozone   207 non-null    float64\n",
            " 1   pm25    207 non-null    float64\n",
            "dtypes: float64(2)\n",
            "memory usage: 4.9 KB\n"
          ]
        }
      ],
      "source": [
        "data = df.resample('BM').mean() # business month end\n",
        "data.info()"
      ]
    },
    {
      "cell_type": "code",
      "execution_count": null,
      "id": "60afbe7a-1afb-4296-ab58-d5e6944e6cda",
      "metadata": {
        "id": "60afbe7a-1afb-4296-ab58-d5e6944e6cda",
        "outputId": "519ab5c0-aa9e-4414-bd0b-28d6dcfe31a9"
      },
      "outputs": [
        {
          "data": {
            "text/html": [
              "<div>\n",
              "<style scoped>\n",
              "    .dataframe tbody tr th:only-of-type {\n",
              "        vertical-align: middle;\n",
              "    }\n",
              "\n",
              "    .dataframe tbody tr th {\n",
              "        vertical-align: top;\n",
              "    }\n",
              "\n",
              "    .dataframe thead th {\n",
              "        text-align: right;\n",
              "    }\n",
              "</style>\n",
              "<table border=\"1\" class=\"dataframe\">\n",
              "  <thead>\n",
              "    <tr style=\"text-align: right;\">\n",
              "      <th></th>\n",
              "      <th>ozone</th>\n",
              "      <th>pm25</th>\n",
              "    </tr>\n",
              "    <tr>\n",
              "      <th>date</th>\n",
              "      <th></th>\n",
              "      <th></th>\n",
              "    </tr>\n",
              "  </thead>\n",
              "  <tbody>\n",
              "    <tr>\n",
              "      <th>2000-01-31</th>\n",
              "      <td>0.010443</td>\n",
              "      <td>17.766849</td>\n",
              "    </tr>\n",
              "    <tr>\n",
              "      <th>2000-02-29</th>\n",
              "      <td>0.011817</td>\n",
              "      <td>21.026027</td>\n",
              "    </tr>\n",
              "    <tr>\n",
              "      <th>2000-03-31</th>\n",
              "      <td>0.016810</td>\n",
              "      <td>13.775684</td>\n",
              "    </tr>\n",
              "    <tr>\n",
              "      <th>2000-04-28</th>\n",
              "      <td>0.018955</td>\n",
              "      <td>11.478882</td>\n",
              "    </tr>\n",
              "    <tr>\n",
              "      <th>2000-05-31</th>\n",
              "      <td>0.026492</td>\n",
              "      <td>14.609524</td>\n",
              "    </tr>\n",
              "  </tbody>\n",
              "</table>\n",
              "</div>"
            ],
            "text/plain": [
              "               ozone       pm25\n",
              "date                           \n",
              "2000-01-31  0.010443  17.766849\n",
              "2000-02-29  0.011817  21.026027\n",
              "2000-03-31  0.016810  13.775684\n",
              "2000-04-28  0.018955  11.478882\n",
              "2000-05-31  0.026492  14.609524"
            ]
          },
          "execution_count": 60,
          "metadata": {},
          "output_type": "execute_result"
        }
      ],
      "source": [
        "data.head()"
      ]
    },
    {
      "cell_type": "code",
      "execution_count": null,
      "id": "46aa1e5a-3bf8-4a52-975c-8dbb7ee0951f",
      "metadata": {
        "id": "46aa1e5a-3bf8-4a52-975c-8dbb7ee0951f",
        "outputId": "36409d5c-ff8e-4403-adc8-6a2a658cd8ee"
      },
      "outputs": [
        {
          "data": {
            "text/html": [
              "<div>\n",
              "<style scoped>\n",
              "    .dataframe tbody tr th:only-of-type {\n",
              "        vertical-align: middle;\n",
              "    }\n",
              "\n",
              "    .dataframe tbody tr th {\n",
              "        vertical-align: top;\n",
              "    }\n",
              "\n",
              "    .dataframe thead th {\n",
              "        text-align: right;\n",
              "    }\n",
              "</style>\n",
              "<table border=\"1\" class=\"dataframe\">\n",
              "  <thead>\n",
              "    <tr style=\"text-align: right;\">\n",
              "      <th></th>\n",
              "      <th>ozone</th>\n",
              "      <th>pm25</th>\n",
              "    </tr>\n",
              "    <tr>\n",
              "      <th>date</th>\n",
              "      <th></th>\n",
              "      <th></th>\n",
              "    </tr>\n",
              "  </thead>\n",
              "  <tbody>\n",
              "    <tr>\n",
              "      <th>2000-01-31</th>\n",
              "      <td>0.005545</td>\n",
              "      <td>20.800000</td>\n",
              "    </tr>\n",
              "    <tr>\n",
              "      <th>2000-02-29</th>\n",
              "      <td>0.016139</td>\n",
              "      <td>6.500000</td>\n",
              "    </tr>\n",
              "    <tr>\n",
              "      <th>2000-03-31</th>\n",
              "      <td>0.017004</td>\n",
              "      <td>8.493333</td>\n",
              "    </tr>\n",
              "    <tr>\n",
              "      <th>2000-04-30</th>\n",
              "      <td>0.031354</td>\n",
              "      <td>6.889474</td>\n",
              "    </tr>\n",
              "    <tr>\n",
              "      <th>2000-05-31</th>\n",
              "      <td>0.017012</td>\n",
              "      <td>13.600000</td>\n",
              "    </tr>\n",
              "  </tbody>\n",
              "</table>\n",
              "</div>"
            ],
            "text/plain": [
              "               ozone       pm25\n",
              "date                           \n",
              "2000-01-31  0.005545  20.800000\n",
              "2000-02-29  0.016139   6.500000\n",
              "2000-03-31  0.017004   8.493333\n",
              "2000-04-30  0.031354   6.889474\n",
              "2000-05-31  0.017012  13.600000"
            ]
          },
          "execution_count": 61,
          "metadata": {},
          "output_type": "execute_result"
        }
      ],
      "source": [
        "df.resample('M').last().head()"
      ]
    },
    {
      "cell_type": "code",
      "execution_count": null,
      "id": "c10d8b91-dbcb-43eb-b97c-5d3c7e30a195",
      "metadata": {
        "id": "c10d8b91-dbcb-43eb-b97c-5d3c7e30a195",
        "outputId": "3fbe53ca-72ef-411c-a599-fae534b4ba04"
      },
      "outputs": [
        {
          "data": {
            "text/html": [
              "<div>\n",
              "<style scoped>\n",
              "    .dataframe tbody tr th:only-of-type {\n",
              "        vertical-align: middle;\n",
              "    }\n",
              "\n",
              "    .dataframe tbody tr th {\n",
              "        vertical-align: top;\n",
              "    }\n",
              "\n",
              "    .dataframe thead th {\n",
              "        text-align: right;\n",
              "    }\n",
              "</style>\n",
              "<table border=\"1\" class=\"dataframe\">\n",
              "  <thead>\n",
              "    <tr style=\"text-align: right;\">\n",
              "      <th></th>\n",
              "      <th>ozone</th>\n",
              "      <th>pm25</th>\n",
              "    </tr>\n",
              "    <tr>\n",
              "      <th>date</th>\n",
              "      <th></th>\n",
              "      <th></th>\n",
              "    </tr>\n",
              "  </thead>\n",
              "  <tbody>\n",
              "    <tr>\n",
              "      <th>2000-01-31</th>\n",
              "      <td>0.005545</td>\n",
              "      <td>20.8</td>\n",
              "    </tr>\n",
              "  </tbody>\n",
              "</table>\n",
              "</div>"
            ],
            "text/plain": [
              "               ozone  pm25\n",
              "date                      \n",
              "2000-01-31  0.005545  20.8"
            ]
          },
          "execution_count": 62,
          "metadata": {},
          "output_type": "execute_result"
        }
      ],
      "source": [
        "df.loc['2000-01'].tail(1)"
      ]
    },
    {
      "cell_type": "code",
      "execution_count": null,
      "id": "12ab4d04-e69f-40fe-a88d-a13b135642d8",
      "metadata": {
        "id": "12ab4d04-e69f-40fe-a88d-a13b135642d8",
        "outputId": "2b6d2983-2dff-4f96-bbde-64c2fef5c179"
      },
      "outputs": [
        {
          "data": {
            "text/html": [
              "<div>\n",
              "<style scoped>\n",
              "    .dataframe tbody tr th:only-of-type {\n",
              "        vertical-align: middle;\n",
              "    }\n",
              "\n",
              "    .dataframe tbody tr th {\n",
              "        vertical-align: top;\n",
              "    }\n",
              "\n",
              "    .dataframe thead th {\n",
              "        text-align: right;\n",
              "    }\n",
              "</style>\n",
              "<table border=\"1\" class=\"dataframe\">\n",
              "  <thead>\n",
              "    <tr style=\"text-align: right;\">\n",
              "      <th></th>\n",
              "      <th>ozone</th>\n",
              "      <th>pm25</th>\n",
              "    </tr>\n",
              "    <tr>\n",
              "      <th>date</th>\n",
              "      <th></th>\n",
              "      <th></th>\n",
              "    </tr>\n",
              "  </thead>\n",
              "  <tbody>\n",
              "    <tr>\n",
              "      <th>2000-01-01</th>\n",
              "      <td>0.004032</td>\n",
              "      <td>37.32</td>\n",
              "    </tr>\n",
              "  </tbody>\n",
              "</table>\n",
              "</div>"
            ],
            "text/plain": [
              "               ozone   pm25\n",
              "date                       \n",
              "2000-01-01  0.004032  37.32"
            ]
          },
          "execution_count": 63,
          "metadata": {},
          "output_type": "execute_result"
        }
      ],
      "source": [
        "df.resample('MS').first().head(1)"
      ]
    },
    {
      "cell_type": "code",
      "execution_count": null,
      "id": "a6a2838e-c229-473d-b7df-00fae30225aa",
      "metadata": {
        "id": "a6a2838e-c229-473d-b7df-00fae30225aa",
        "outputId": "99cfad69-045c-4be0-9c2d-daa026211b1d"
      },
      "outputs": [
        {
          "data": {
            "text/html": [
              "<div>\n",
              "<style scoped>\n",
              "    .dataframe tbody tr th:only-of-type {\n",
              "        vertical-align: middle;\n",
              "    }\n",
              "\n",
              "    .dataframe tbody tr th {\n",
              "        vertical-align: top;\n",
              "    }\n",
              "\n",
              "    .dataframe thead th {\n",
              "        text-align: right;\n",
              "    }\n",
              "</style>\n",
              "<table border=\"1\" class=\"dataframe\">\n",
              "  <thead>\n",
              "    <tr style=\"text-align: right;\">\n",
              "      <th></th>\n",
              "      <th>ozone</th>\n",
              "      <th>pm25</th>\n",
              "    </tr>\n",
              "    <tr>\n",
              "      <th>date</th>\n",
              "      <th></th>\n",
              "      <th></th>\n",
              "    </tr>\n",
              "  </thead>\n",
              "  <tbody>\n",
              "    <tr>\n",
              "      <th>2000-01-01</th>\n",
              "      <td>0.004032</td>\n",
              "      <td>37.320000</td>\n",
              "    </tr>\n",
              "    <tr>\n",
              "      <th>2000-01-02</th>\n",
              "      <td>0.009486</td>\n",
              "      <td>42.400000</td>\n",
              "    </tr>\n",
              "    <tr>\n",
              "      <th>2000-01-03</th>\n",
              "      <td>0.005580</td>\n",
              "      <td>31.250000</td>\n",
              "    </tr>\n",
              "    <tr>\n",
              "      <th>2000-01-04</th>\n",
              "      <td>0.008717</td>\n",
              "      <td>12.950000</td>\n",
              "    </tr>\n",
              "    <tr>\n",
              "      <th>2000-01-05</th>\n",
              "      <td>0.013754</td>\n",
              "      <td>7.800000</td>\n",
              "    </tr>\n",
              "    <tr>\n",
              "      <th>2000-01-06</th>\n",
              "      <td>0.009069</td>\n",
              "      <td>9.400000</td>\n",
              "    </tr>\n",
              "    <tr>\n",
              "      <th>2000-01-07</th>\n",
              "      <td>0.008333</td>\n",
              "      <td>19.206667</td>\n",
              "    </tr>\n",
              "    <tr>\n",
              "      <th>2000-01-08</th>\n",
              "      <td>0.007639</td>\n",
              "      <td>17.100000</td>\n",
              "    </tr>\n",
              "    <tr>\n",
              "      <th>2000-01-09</th>\n",
              "      <td>0.004569</td>\n",
              "      <td>26.000000</td>\n",
              "    </tr>\n",
              "    <tr>\n",
              "      <th>2000-01-10</th>\n",
              "      <td>0.005833</td>\n",
              "      <td>17.130769</td>\n",
              "    </tr>\n",
              "    <tr>\n",
              "      <th>2000-01-11</th>\n",
              "      <td>0.009938</td>\n",
              "      <td>8.700000</td>\n",
              "    </tr>\n",
              "    <tr>\n",
              "      <th>2000-01-12</th>\n",
              "      <td>0.009656</td>\n",
              "      <td>9.250000</td>\n",
              "    </tr>\n",
              "    <tr>\n",
              "      <th>2000-01-13</th>\n",
              "      <td>0.011990</td>\n",
              "      <td>11.393333</td>\n",
              "    </tr>\n",
              "    <tr>\n",
              "      <th>2000-01-14</th>\n",
              "      <td>0.019417</td>\n",
              "      <td>10.400000</td>\n",
              "    </tr>\n",
              "    <tr>\n",
              "      <th>2000-01-15</th>\n",
              "      <td>NaN</td>\n",
              "      <td>NaN</td>\n",
              "    </tr>\n",
              "    <tr>\n",
              "      <th>2000-01-16</th>\n",
              "      <td>0.016424</td>\n",
              "      <td>10.860000</td>\n",
              "    </tr>\n",
              "    <tr>\n",
              "      <th>2000-01-17</th>\n",
              "      <td>NaN</td>\n",
              "      <td>NaN</td>\n",
              "    </tr>\n",
              "    <tr>\n",
              "      <th>2000-01-18</th>\n",
              "      <td>NaN</td>\n",
              "      <td>NaN</td>\n",
              "    </tr>\n",
              "    <tr>\n",
              "      <th>2000-01-19</th>\n",
              "      <td>0.007386</td>\n",
              "      <td>17.670000</td>\n",
              "    </tr>\n",
              "    <tr>\n",
              "      <th>2000-01-20</th>\n",
              "      <td>0.006410</td>\n",
              "      <td>21.000000</td>\n",
              "    </tr>\n",
              "    <tr>\n",
              "      <th>2000-01-21</th>\n",
              "      <td>0.019178</td>\n",
              "      <td>7.700000</td>\n",
              "    </tr>\n",
              "    <tr>\n",
              "      <th>2000-01-22</th>\n",
              "      <td>0.015035</td>\n",
              "      <td>9.433333</td>\n",
              "    </tr>\n",
              "    <tr>\n",
              "      <th>2000-01-23</th>\n",
              "      <td>NaN</td>\n",
              "      <td>NaN</td>\n",
              "    </tr>\n",
              "    <tr>\n",
              "      <th>2000-01-24</th>\n",
              "      <td>0.003912</td>\n",
              "      <td>37.900000</td>\n",
              "    </tr>\n",
              "    <tr>\n",
              "      <th>2000-01-25</th>\n",
              "      <td>0.010868</td>\n",
              "      <td>18.153333</td>\n",
              "    </tr>\n",
              "    <tr>\n",
              "      <th>2000-01-26</th>\n",
              "      <td>0.013391</td>\n",
              "      <td>12.700000</td>\n",
              "    </tr>\n",
              "    <tr>\n",
              "      <th>2000-01-27</th>\n",
              "      <td>0.017611</td>\n",
              "      <td>8.100000</td>\n",
              "    </tr>\n",
              "    <tr>\n",
              "      <th>2000-01-28</th>\n",
              "      <td>0.018035</td>\n",
              "      <td>7.587500</td>\n",
              "    </tr>\n",
              "    <tr>\n",
              "      <th>2000-01-29</th>\n",
              "      <td>0.012403</td>\n",
              "      <td>13.200000</td>\n",
              "    </tr>\n",
              "    <tr>\n",
              "      <th>2000-01-30</th>\n",
              "      <td>0.007743</td>\n",
              "      <td>34.300000</td>\n",
              "    </tr>\n",
              "    <tr>\n",
              "      <th>2000-01-31</th>\n",
              "      <td>0.005545</td>\n",
              "      <td>20.800000</td>\n",
              "    </tr>\n",
              "  </tbody>\n",
              "</table>\n",
              "</div>"
            ],
            "text/plain": [
              "               ozone       pm25\n",
              "date                           \n",
              "2000-01-01  0.004032  37.320000\n",
              "2000-01-02  0.009486  42.400000\n",
              "2000-01-03  0.005580  31.250000\n",
              "2000-01-04  0.008717  12.950000\n",
              "2000-01-05  0.013754   7.800000\n",
              "2000-01-06  0.009069   9.400000\n",
              "2000-01-07  0.008333  19.206667\n",
              "2000-01-08  0.007639  17.100000\n",
              "2000-01-09  0.004569  26.000000\n",
              "2000-01-10  0.005833  17.130769\n",
              "2000-01-11  0.009938   8.700000\n",
              "2000-01-12  0.009656   9.250000\n",
              "2000-01-13  0.011990  11.393333\n",
              "2000-01-14  0.019417  10.400000\n",
              "2000-01-15       NaN        NaN\n",
              "2000-01-16  0.016424  10.860000\n",
              "2000-01-17       NaN        NaN\n",
              "2000-01-18       NaN        NaN\n",
              "2000-01-19  0.007386  17.670000\n",
              "2000-01-20  0.006410  21.000000\n",
              "2000-01-21  0.019178   7.700000\n",
              "2000-01-22  0.015035   9.433333\n",
              "2000-01-23       NaN        NaN\n",
              "2000-01-24  0.003912  37.900000\n",
              "2000-01-25  0.010868  18.153333\n",
              "2000-01-26  0.013391  12.700000\n",
              "2000-01-27  0.017611   8.100000\n",
              "2000-01-28  0.018035   7.587500\n",
              "2000-01-29  0.012403  13.200000\n",
              "2000-01-30  0.007743  34.300000\n",
              "2000-01-31  0.005545  20.800000"
            ]
          },
          "execution_count": 64,
          "metadata": {},
          "output_type": "execute_result"
        }
      ],
      "source": [
        "df.loc['2000-01']"
      ]
    }
  ],
  "metadata": {
    "kernelspec": {
      "display_name": "Python 3 (ipykernel)",
      "language": "python",
      "name": "python3"
    },
    "language_info": {
      "codemirror_mode": {
        "name": "ipython",
        "version": 3
      },
      "file_extension": ".py",
      "mimetype": "text/x-python",
      "name": "python",
      "nbconvert_exporter": "python",
      "pygments_lexer": "ipython3",
      "version": "3.9.13"
    },
    "colab": {
      "provenance": [],
      "toc_visible": true,
      "include_colab_link": true
    }
  },
  "nbformat": 4,
  "nbformat_minor": 5
}